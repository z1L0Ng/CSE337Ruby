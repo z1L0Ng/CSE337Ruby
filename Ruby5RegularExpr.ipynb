{
 "cells": [
  {
   "cell_type": "markdown",
   "id": "33f319a5-9613-4381-8604-90bf5e5a151d",
   "metadata": {},
   "source": [
    "# March 6 2024"
   ]
  },
  {
   "cell_type": "markdown",
   "id": "f2e596cf-8a4e-4072-893f-a5df3808de15",
   "metadata": {},
   "source": [
    "# Regular Expression"
   ]
  },
  {
   "cell_type": "markdown",
   "id": "af651f38-dc9c-4661-afce-94ac4b46cd40",
   "metadata": {},
   "source": [
    "### Example 1 Ruby Regular Expression"
   ]
  },
  {
   "cell_type": "code",
   "execution_count": 95,
   "id": "010eec20-0744-4c38-afd0-43b78f1eb94d",
   "metadata": {},
   "outputs": [
    {
     "name": "stdout",
     "output_type": "stream",
     "text": [
      "6\n",
      "CSEISE337 SBU\n"
     ]
    }
   ],
   "source": [
    "line = \"CSEISE337 SBU\"\n",
    "puts line =~ /337/\n",
    "\n",
    "puts line"
   ]
  },
  {
   "cell_type": "code",
   "execution_count": 3,
   "id": "8c95911e-0c68-4d12-93bd-a7a10f5eda22",
   "metadata": {},
   "outputs": [],
   "source": [
    "if line =~ /(337)+/ then\n",
    "    puts \" The String Contains 337\"\n",
    "end"
   ]
  },
  {
   "cell_type": "code",
   "execution_count": 4,
   "id": "4cfe14a3-d5f0-4bfb-b9ee-28a392ffe53a",
   "metadata": {},
   "outputs": [
    {
     "name": "stdout",
     "output_type": "stream",
     "text": [
      "String\n"
     ]
    }
   ],
   "source": [
    "puts line.class"
   ]
  },
  {
   "cell_type": "code",
   "execution_count": 5,
   "id": "d21dbf02-9798-4e7a-8dbd-32f1f042b778",
   "metadata": {},
   "outputs": [
    {
     "name": "stdout",
     "output_type": "stream",
     "text": [
      "Regexp\n"
     ]
    }
   ],
   "source": [
    "puts /337/.class"
   ]
  },
  {
   "cell_type": "code",
   "execution_count": 7,
   "id": "4ba24486-9ad6-406f-8187-8d6278ebeb06",
   "metadata": {},
   "outputs": [
    {
     "name": "stdout",
     "output_type": "stream",
     "text": [
      "Regexp\n"
     ]
    }
   ],
   "source": [
    "puts //.class\n"
   ]
  },
  {
   "cell_type": "markdown",
   "id": "169b4f0b-8c1f-4179-9c2b-872c9c9cfc88",
   "metadata": {},
   "source": [
    "### Back Referencing"
   ]
  },
  {
   "cell_type": "code",
   "execution_count": 70,
   "id": "b01109d1-b2a1-41d9-8dcb-0f45939b0ba7",
   "metadata": {},
   "outputs": [
    {
     "name": "stdout",
     "output_type": "stream",
     "text": [
      "CSE\n",
      "ISE\n",
      "337\n"
     ]
    }
   ],
   "source": [
    "\"CSEISE337\"=~/(CSE)(ISE)(337)/\n",
    "puts $1\n",
    "puts $2\n",
    "puts $3"
   ]
  },
  {
   "cell_type": "markdown",
   "id": "556120d1-afc5-40fd-a3e3-7b2bb514e4ef",
   "metadata": {},
   "source": [
    "### Scan Method for Regular Expression"
   ]
  },
  {
   "cell_type": "code",
   "execution_count": 77,
   "id": "290543c4-4fcf-4cae-8de1-1ef60c966db4",
   "metadata": {},
   "outputs": [
    {
     "name": "stdout",
     "output_type": "stream",
     "text": [
      "4\n",
      "He\n",
      "ll\n",
      "Wo\n",
      "rl\n"
     ]
    }
   ],
   "source": [
    "s = \"Hello World\"\n",
    "t = s.scan(/\\w{2}/).length\n",
    "t2= s.scan(/\\w{2}/)\n",
    "puts t\n",
    "puts t2"
   ]
  },
  {
   "cell_type": "code",
   "execution_count": 50,
   "id": "06b89d55-38dd-4191-ba24-8a2f9aea5281",
   "metadata": {},
   "outputs": [
    {
     "name": "stdout",
     "output_type": "stream",
     "text": [
      "[\"The quick brown\", \"fox jumps over\", \"the lazy dog.\"]\n"
     ]
    }
   ],
   "source": [
    "string = \"The quick brown fox jumps over the lazy dog.\"\n",
    "matches = string.scan(/\\S+ \\S+ \\S+/)\n",
    "puts matches.inspect  # Output: [\"The\", \"quick\", \"brown\", \"fox\", \"jumps\", \"over\", \"the\", \"lazy\", \"dog.\"]\n"
   ]
  },
  {
   "cell_type": "markdown",
   "id": "26218329-b3f0-4a5e-a706-6e650633ce8e",
   "metadata": {},
   "source": [
    "### Pattern based Subtitution using String.sub and String.gsub"
   ]
  },
  {
   "cell_type": "code",
   "execution_count": 80,
   "id": "2a477f9a-9ec3-470b-b838-5946039a5e29",
   "metadata": {},
   "outputs": [
    {
     "name": "stdout",
     "output_type": "stream",
     "text": [
      "the brown fox\n",
      "the\n",
      "The quick brown fox\n",
      "thE qUIck brOwn fOx\n"
     ]
    }
   ],
   "source": [
    "a = \"the quick brown fox\"\n",
    "puts a.sub(/\\s\\S+/, '') # the brown fox\n",
    "puts a.gsub(/\\s\\S+/, '') # the\n",
    "puts a.sub(/^./) { $&.upcase } # The quick brown fox\n",
    "puts a.gsub(/[aeiou]/) { $&.upcase } # thE qUIck brOwn fOx"
   ]
  },
  {
   "cell_type": "markdown",
   "id": "ee3dbbc5-192d-412c-9620-37c20fffceb8",
   "metadata": {},
   "source": [
    "### Match Operators"
   ]
  },
  {
   "cell_type": "code",
   "execution_count": 85,
   "id": "eab92da3-46c7-41f3-a24c-23ca85e251fc",
   "metadata": {},
   "outputs": [
    {
     "name": "stdout",
     "output_type": "stream",
     "text": [
      "very in<<t>>eresting\n",
      "Fats Wa<<ll>>er\n"
     ]
    }
   ],
   "source": [
    "def showRE(a,re)\n",
    "    if a =~ re\n",
    "         \"#{$`}<<#{$&}>>#{$'}\"\n",
    "    else\n",
    "         \"no match\"\n",
    "    end\n",
    "end\n",
    "puts showRE('very interesting', /t/)\n",
    "puts showRE('Fats Waller', /ll/)"
   ]
  },
  {
   "cell_type": "markdown",
   "id": "5b91589d-2e8a-45e0-bc46-b2b6ee6414ec",
   "metadata": {},
   "source": [
    "### Anchors"
   ]
  },
  {
   "cell_type": "code",
   "execution_count": 86,
   "id": "e39e6356-e73c-4b70-9b5e-cc9eaf41b9d0",
   "metadata": {},
   "outputs": [
    {
     "name": "stdout",
     "output_type": "stream",
     "text": [
      "this is\n",
      "<<the>> time\n",
      "this <<is>>\n",
      "the time\n",
      "<<this>> is\n",
      "the time\n",
      "no match\n",
      "this <<is>>\n",
      "the time\n",
      "th<<is>> is\n",
      "the time\n"
     ]
    }
   ],
   "source": [
    "puts showRE(\"this is\\nthe time\", /^the/) \n",
    "puts showRE(\"this is\\nthe time\", /is$/) \n",
    "puts showRE(\"this is\\nthe time\", /\\Athis/) \n",
    "puts showRE(\"this is\\nthe time\", /\\Athe/) \n",
    "puts showRE(\"this is\\nthe time\", /\\bis/) \n",
    "puts showRE(\"this is\\nthe time\", /\\Bis/)"
   ]
  },
  {
   "cell_type": "markdown",
   "id": "3ee13ee7-9c23-42e9-a1b4-eaccf7cc6b10",
   "metadata": {},
   "source": [
    "### Regexp match () function"
   ]
  },
  {
   "cell_type": "code",
   "execution_count": 87,
   "id": "1dc49f12-0eda-4abb-8728-520944c564b5",
   "metadata": {},
   "outputs": [
    {
     "name": "stdout",
     "output_type": "stream",
     "text": [
      "Regexp match form : a\n",
      "\n",
      "Regexp match form : 337\n",
      "\n",
      "Regexp match form : a\n",
      "\n"
     ]
    }
   ],
   "source": [
    "# Ruby code for Regexp.match() method \n",
    "\n",
    "# declaring Regexp value \n",
    "reg_a = /a/ \n",
    "\n",
    "# declaring Regexp value \n",
    "reg_b = /337/ \n",
    "\n",
    "# declaring Regexp value \n",
    "reg_c = /a/ \n",
    "\n",
    "\n",
    "# match method \n",
    "puts \"Regexp match form : #{reg_a.match(\"abcd\")}\\n\\n\"\n",
    "\n",
    "puts \"Regexp match form : #{reg_b.match(\"CSEISE337\")}\\n\\n\"\n",
    "\n",
    "puts \"Regexp match form : #{reg_c.match(\"playway\")}\\n\\n\"\n"
   ]
  },
  {
   "cell_type": "markdown",
   "id": "6caa3c02-9419-46bd-8bf8-3fd4365cbb29",
   "metadata": {},
   "source": [
    "### Song Example\n",
    "##### Try to make it a more cleaner verion! (Homework)"
   ]
  },
  {
   "cell_type": "code",
   "execution_count": 93,
   "id": "3a2c557c-2793-4f88-bac1-8d9f99d312e7",
   "metadata": {},
   "outputs": [
    {
     "name": "stdout",
     "output_type": "stream",
     "text": [
      "/jazz/j00132.mp3 | 3:45 | Fats Waller | Aint Misbehavin\n",
      "/jazz/j00319.mp3 | 2:58 | Louis Armstrong | Wonderful World\n",
      "/bgrass/bg0732.mp3| 4:09 | Strength in Numbers | Texas Red\n",
      "*****\n",
      "/jazz/j00132.mp3\n",
      "3:45\n",
      "Fats Waller\n",
      "Aint Misbehavin\n",
      "/jazz/j00132.mp3\n",
      "*****\n",
      "/jazz/j00319.mp3\n",
      "2:58\n",
      "Louis Armstrong\n",
      "Wonderful World\n",
      "/jazz/j00132.mp3\n",
      "178\n",
      "*****\n",
      "/bgrass/bg0732.mp3\n",
      "4:09\n",
      "Strength in Numbers\n",
      "Texas Red\n",
      "/jazz/j00132.mp3\n",
      "178\n",
      "Strength In Numbers\n"
     ]
    },
    {
     "data": {
      "text/plain": [
       "3"
      ]
     },
     "execution_count": 93,
     "metadata": {},
     "output_type": "execute_result"
    }
   ],
   "source": [
    "data = <<STR_TERM\n",
    "/jazz/j00132.mp3 | 3:45 | Fats Waller | Aint Misbehavin\n",
    "/jazz/j00319.mp3 | 2:58 | Louis Armstrong | Wonderful World\n",
    "/bgrass/bg0732.mp3| 4:09 | Strength in Numbers | Texas Red\n",
    "STR_TERM\n",
    "\n",
    "data = data.split(\"\\n\")\n",
    "puts data\n",
    "songs = Array.new\n",
    "data.length.times { |i|\n",
    "    tmp = data[i].split(/\\s*\\|\\s*/)\n",
    "    puts \"*****\"\n",
    "    puts tmp\n",
    "    tmp[2].squeeze!(\" \")\n",
    "    tmp[2].gsub!(/\\b\\w/) { $&.upcase }\n",
    "    mins, secs = tmp[1].scan(/\\d+/)\n",
    "    tmp[1] = mins.to_i*60 + secs.to_i\n",
    "    songs[i] = tmp[i]\n",
    "    puts songs\n",
    "}"
   ]
  },
  {
   "cell_type": "markdown",
   "id": "577bbc72-acbf-48ee-812f-bb3cde51c3c4",
   "metadata": {},
   "source": [
    "## <<STR_TERM Marker in Ruby"
   ]
  },
  {
   "cell_type": "markdown",
   "id": "cf86ae6c-ec7b-428c-a4a2-c38a5579aca3",
   "metadata": {},
   "source": [
    "Certainly! In Ruby, `<<STR_TERM` is a syntax called a \"here document\" or \"heredoc.\" It allows you to define a multiline string easily. \n",
    "\n",
    "`STR_TERM` is a delimiter that marks the end of the multiline string. It can be any arbitrary string; `STR_TERM` is just a placeholder here. The delimiter is typically uppercase and may or may not be enclosed in quotes.\n",
    "\n",
    "The syntax `<<STR_TERM` followed by a newline starts the definition of the heredoc. All text following this line, up to the line containing only the delimiter (`STR_TERM`), is considered part of the string. The ending delimiter must appear at the beginning of a line, and it must be the only text on that line (leading whitespace is allowed).\n",
    "\n",
    "Here's an example:\n",
    "\n",
    "```ruby\n",
    "data = <<STR_TERM\n",
    "This is a multiline string.\n",
    "It can contain multiple lines of text.\n",
    "STR_TERM\n",
    "```\n",
    "\n",
    "In this example, `STR_TERM` marks the end of the multiline string. The string starts with the line after `<<STR_TERM` and ends with the line before `STR_TERM`. So, `data` will contain:\n",
    "\n",
    "```\n",
    "This is a multiline string.\n",
    "It can contain multiple lines of text.\n",
    "```\n",
    "\n",
    "Heredocs are useful for embedding large blocks of text, such as SQL queries, HTML templates, or any other multiline text, directly into Ruby code. It helps improve code readability and maintainability by keeping the text formatting intact."
   ]
  },
  {
   "cell_type": "markdown",
   "id": "095a5e2b-1cba-4007-8de6-3d80db9bb942",
   "metadata": {},
   "source": [
    "In Ruby's regular expressions, `$&` is a global variable that holds the last matched string. It contains the portion of the string that was matched by the last successful pattern match operation.\n",
    "\n",
    "Here's a simple example to illustrate its usage:\n",
    "\n",
    "```ruby\n",
    "string = \"hello world\"\n",
    "pattern = /hello/\n",
    "string =~ pattern\n",
    "puts $&  # Output: hello\n",
    "```\n",
    "\n",
    "In this example:\n",
    "\n",
    "- We have a string `\"hello world\"`.\n",
    "- We define a regular expression pattern `/hello/` to match the word \"hello\".\n",
    "- We use the `=~` operator to perform a pattern match operation on the string.\n",
    "- After the match, `$&` contains the matched substring, which is `\"hello\"`, and we print it.\n",
    "\n",
    "However, it's worth mentioning that using global variables like `$&` can have performance implications, especially when dealing with large strings and complex regular expressions. It's often recommended to avoid using them in performance-critical code and instead use the return values of methods like `match` or `scan`, which provide access to matched substrings in a more controlled and localized manner."
   ]
  },
  {
   "cell_type": "markdown",
   "id": "80bd1d37-7372-4c01-80f3-fcb2f86595e6",
   "metadata": {},
   "source": [
    "# Examples "
   ]
  },
  {
   "cell_type": "code",
   "execution_count": 53,
   "id": "82df3f9d-8b56-476c-82be-247ec5953fec",
   "metadata": {},
   "outputs": [
    {
     "data": {
      "text/plain": [
       "7"
      ]
     },
     "execution_count": 53,
     "metadata": {},
     "output_type": "execute_result"
    }
   ],
   "source": [
    "# Find the word 'like'\n",
    "\"Do you like cats?\" =~ /like/"
   ]
  },
  {
   "cell_type": "code",
   "execution_count": 54,
   "id": "3826abeb-949b-46e5-8c16-782b858f48f3",
   "metadata": {},
   "outputs": [
    {
     "name": "stdout",
     "output_type": "stream",
     "text": [
      "Match found!\n"
     ]
    }
   ],
   "source": [
    "if \"Do you like cats?\".match(/like/)\n",
    "  puts \"Match found!\"\n",
    "end"
   ]
  },
  {
   "cell_type": "code",
   "execution_count": 55,
   "id": "37c00aa2-5424-4724-9d2b-927917f19d65",
   "metadata": {},
   "outputs": [],
   "source": [
    "def contains_vowel(str)\n",
    "  str =~ /[aeiou]/\n",
    "end\n",
    "\n",
    "contains_vowel(\"test\") # returns 1\n",
    "contains_vowel(\"sky\")  # returns nil"
   ]
  },
  {
   "cell_type": "code",
   "execution_count": 56,
   "id": "4bc8d0e4-afd2-488e-955e-54bb5c2f4927",
   "metadata": {},
   "outputs": [],
   "source": [
    "def contains_number(str)\n",
    "  str =~ /[0-9]/\n",
    "end\n",
    "\n",
    "contains_number(\"The year is 2015\")  # returns 12\n",
    "contains_number(\"The cat is black\")  # returns nil"
   ]
  },
  {
   "cell_type": "code",
   "execution_count": 57,
   "id": "791982c2-bb9b-41b3-9898-b39dd8929584",
   "metadata": {},
   "outputs": [
    {
     "data": {
      "text/plain": [
       "#<MatchData \"5.5\">"
      ]
     },
     "execution_count": 57,
     "metadata": {},
     "output_type": "execute_result"
    }
   ],
   "source": [
    "# If we don't escape, the letter will match\n",
    "\"5a5\".match(/\\d.\\d/)\n",
    "\n",
    "# In this case only the literal dot matches\n",
    "\"5a5\".match(/\\d\\.\\d/) # nil\n",
    "\"5.5\".match(/\\d\\.\\d/) # match"
   ]
  },
  {
   "cell_type": "code",
   "execution_count": 58,
   "id": "9a5cf05c-95ca-41e0-bd9d-95582c97ec5e",
   "metadata": {},
   "outputs": [
    {
     "data": {
      "text/plain": [
       "false"
      ]
     },
     "execution_count": 58,
     "metadata": {},
     "output_type": "execute_result"
    }
   ],
   "source": [
    "# Note that this will also match some invalid IP address\n",
    "# like 999.999.999.999, but in this case we just care about the format.\n",
    "\n",
    "def ip_address?(str)\n",
    "  # We use !! to convert the return value to a boolean\n",
    "  !!(str =~ /^\\d{1,3}\\.\\d{1,3}\\.\\d{1,3}\\.\\d{1,3}$/)\n",
    "end\n",
    "\n",
    "ip_address?(\"192.168.1.1\")  # returns true\n",
    "ip_address?(\"0000.0000\")    # returns false"
   ]
  },
  {
   "cell_type": "code",
   "execution_count": 59,
   "id": "11095f30-3062-4400-aceb-10cd0d84565f",
   "metadata": {},
   "outputs": [],
   "source": [
    "# We want to find if this string is exactly four letters long, this will\n",
    "# still match because it has more than four, but it's not what we want.\n",
    "\"Regex are cool\".match /\\w{4}/\n",
    "\n",
    "# Instead we will use the 'beginning of line' and 'end of line' modifiers\n",
    "\"Regex are cool\".match /^\\w{4}$/\n",
    "\n",
    "# This time it won't match. This is a rather contrived example, since we could just\n",
    "# have used .size to find the length, but I think it gets the idea across."
   ]
  },
  {
   "cell_type": "code",
   "execution_count": 60,
   "id": "77ac4c1e-23d3-417a-98bf-e34ee10de5c1",
   "metadata": {},
   "outputs": [
    {
     "data": {
      "text/plain": [
       "#<struct time=\"12:41\", type=\"INFO\", msg=\"User has logged in.\">"
      ]
     },
     "execution_count": 60,
     "metadata": {},
     "output_type": "execute_result"
    }
   ],
   "source": [
    "Line = Struct.new(:time, :type, :msg)\n",
    "LOG_FORMAT = /(\\d{2}:\\d{2}) (\\w+) (.*)/\n",
    "\n",
    "def parse_line(line)\n",
    "  line.match(LOG_FORMAT) { |m| Line.new(*m.captures) }\n",
    "end\n",
    "\n",
    "parse_line(\"12:41 INFO User has logged in.\")\n",
    "# This produces objects like this:\n",
    "# "
   ]
  },
  {
   "cell_type": "code",
   "execution_count": 61,
   "id": "1309c2fe-3723-4062-8e39-a118de262fa3",
   "metadata": {},
   "outputs": [
    {
     "data": {
      "text/plain": [
       "\"31\""
      ]
     },
     "execution_count": 61,
     "metadata": {},
     "output_type": "execute_result"
    }
   ],
   "source": [
    "m = \"John 31\".match /\\w+ (\\d+)/\n",
    "\n",
    "m[1]\n",
    "# 31"
   ]
  },
  {
   "cell_type": "code",
   "execution_count": 62,
   "id": "a58fe204-e5c3-4187-9b04-deeefe889cd1",
   "metadata": {},
   "outputs": [
    {
     "data": {
      "text/plain": [
       "\"David\""
      ]
     },
     "execution_count": 62,
     "metadata": {},
     "output_type": "execute_result"
    }
   ],
   "source": [
    "m = \"David 30\".match /(?<name>\\w+) (?<age>\\d+)/\n",
    "m[:age]\n",
    "# => \"30\"\n",
    "m[:name]\n",
    "# => \"David\""
   ]
  },
  {
   "cell_type": "markdown",
   "id": "3b561e1e-c331-42a1-9dbb-54c10f73918a",
   "metadata": {},
   "source": [
    "#### Note"
   ]
  },
  {
   "cell_type": "markdown",
   "id": "34116886-e4cc-4451-bfa5-5acaf82ccc75",
   "metadata": {},
   "source": [
    "In Ruby, the `inspect` method is used to return a human-readable representation of an object. It's commonly used for debugging purposes or when you want to see the internal state of an object.\n",
    "\n",
    "When you call `inspect` on an object, it returns a string representation of that object. The returned string is formatted in a way that it can be used to recreate the object.\n",
    "\n",
    "Here's a basic example:\n",
    "\n",
    "```ruby\n",
    "array = [1, 2, 3]\n",
    "puts array.inspect  # Output: \"[1, 2, 3]\"\n",
    "```\n",
    "\n",
    "In this example, `inspect` is called on an array object `array`, and it returns a string representation of the array.\n",
    "\n",
    "The `inspect` method is automatically called by Ruby when you use methods like `puts`, `p`, `pp` (pretty print), or when you use interpolation in strings with `#{}`. This is why you often see objects being printed directly without explicitly calling `inspect`.\n",
    "\n",
    "Here's an example demonstrating how `inspect` is implicitly called:\n",
    "\n",
    "```ruby\n",
    "array = [1, 2, 3]\n",
    "puts array  # Output: \"[1, 2, 3]\"\n",
    "```\n",
    "\n",
    "In this case, `puts` automatically calls `inspect` on the `array` object before printing it to the console.\n",
    "\n",
    "It's worth noting that the `inspect` method can be overridden in custom classes to provide a customized string representation of objects. This can be useful for providing more meaningful output when debugging or displaying objects."
   ]
  },
  {
   "cell_type": "code",
   "execution_count": null,
   "id": "a7c04257-f25e-4f13-a525-28565deae375",
   "metadata": {},
   "outputs": [],
   "source": []
  }
 ],
 "metadata": {
  "kernelspec": {
   "display_name": "Ruby 3.2.3",
   "language": "ruby",
   "name": "ruby"
  },
  "language_info": {
   "file_extension": ".rb",
   "mimetype": "application/x-ruby",
   "name": "ruby",
   "version": "3.2.3"
  }
 },
 "nbformat": 4,
 "nbformat_minor": 5
}
