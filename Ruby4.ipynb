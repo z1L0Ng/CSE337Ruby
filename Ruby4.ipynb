{
 "cells": [
  {
   "cell_type": "markdown",
   "id": "f4139852-c352-4341-a52a-f957bad75745",
   "metadata": {},
   "source": [
    "# Ruby 4\n",
    "March 3, 2024"
   ]
  },
  {
   "cell_type": "markdown",
   "id": "1565d6f6-38b3-4efd-b1e8-6ba3005de984",
   "metadata": {},
   "source": [
    "# 1 - Modules and Mixin\n"
   ]
  },
  {
   "cell_type": "markdown",
   "id": "f9ee80fa-05d8-4d72-9627-f78e4fe5ef3d",
   "metadata": {},
   "source": [
    "In Ruby, a mixin refers to a technique where a module's functionality is added to a class, enabling multiple inheritance-like behavior without inheritance's complexity. Mixins allow you to share code among multiple classes without having to resort to traditional inheritance.\n",
    "\n",
    "Here's how you can create and use mixins in Ruby:\n",
    "\n",
    "Define a Module: Define a module with the methods you want to include in other classes.\n",
    "module Greetable\n",
    "  def greet\n",
    "    puts \"Hello!\"\n",
    "  end\n",
    "end\n",
    "Include the Module: Use the include keyword to mix the module's functionality into a class.\n",
    "class Person\n",
    "  include Greetable\n",
    "end\n",
    "Use the Mixed-in Methods: Now, instances of the class can use the methods defined in the module.\n",
    "person = Person.new\n",
    "person.greet # Output: Hello!\n",
    "The key benefit of mixins is that they allow you to share code between unrelated classes. This is particularly useful when you have functionality that is common across different classes but doesn't fit well into a traditional inheritance hierarchy.\n",
    "\n",
    "Additionally, Ruby supports multiple mixins, meaning you can include multiple modules into a single class:\n",
    "\n",
    "module Walkable\n",
    "  def walk\n",
    "    puts \"Walking...\"\n",
    "  end\n",
    "end\n",
    "\n",
    "class Animal\n",
    "  include Greetable\n",
    "  include Walkable\n",
    "end\n",
    "\n",
    "animal = Animal.new\n",
    "animal.greet # Output: Hello!\n",
    "animal.walk  # Output: Walking...\n",
    "This flexibility allows for a more modular and reusable design in Ruby code. Mixins are a powerful feature that enables code reuse and helps in keeping the codebase clean and maintainable."
   ]
  },
  {
   "cell_type": "markdown",
   "id": "10c7fdb1-fdac-4791-8f7a-2ac9035f4565",
   "metadata": {},
   "source": [
    "##### Example"
   ]
  },
  {
   "cell_type": "code",
   "execution_count": 2,
   "id": "1226408b-0d4d-4d08-9b0e-201b3210958b",
   "metadata": {},
   "outputs": [
    {
     "name": "stdout",
     "output_type": "stream",
     "text": [
      "Hello!\n"
     ]
    }
   ],
   "source": [
    "module Greetable\n",
    "  def greet\n",
    "    puts \"Hello!\"\n",
    "  end\n",
    "end\n",
    "\n",
    "class Person\n",
    "  include Greetable\n",
    "end\n",
    "\n",
    "a = Person.new\n",
    "a.greet\n"
   ]
  },
  {
   "cell_type": "markdown",
   "id": "53c30a01-b49a-4b6a-84c7-b9be861216e7",
   "metadata": {},
   "source": [
    "##### Example"
   ]
  },
  {
   "cell_type": "code",
   "execution_count": 4,
   "id": "686b1c16-3609-4436-930d-782f70ad1d81",
   "metadata": {},
   "outputs": [
    {
     "name": "stdout",
     "output_type": "stream",
     "text": [
      "Hello!\n",
      "Walking...\n"
     ]
    }
   ],
   "source": [
    "module Walkable\n",
    "  def walk\n",
    "    puts \"Walking...\"\n",
    "  end\n",
    "end\n",
    "\n",
    "class Animal\n",
    "  include Greetable\n",
    "  include Walkable\n",
    "end\n",
    "\n",
    "\n",
    "\n",
    "animal = Animal.new\n",
    "animal.greet # Output: Hello!\n",
    "animal.walk  # Output: Walking...\n",
    "\n"
   ]
  },
  {
   "cell_type": "markdown",
   "id": "78c5caa9-2103-4dc4-83d5-395d17560ac1",
   "metadata": {},
   "source": [
    "###### Example"
   ]
  },
  {
   "cell_type": "code",
   "execution_count": null,
   "id": "97bd92a9-2524-41ef-b29d-f032f8c5151e",
   "metadata": {},
   "outputs": [],
   "source": [
    "module Dice\n",
    "    #virtual roll of a pair of dice\n",
    "    def roll\n",
    "        r_1 = rand(6)\n",
    "        r_2 = rand(6)\n",
    "        total = r_1 + r_2\n",
    "        puts r_1\n",
    "        puts r_2\n",
    "        printf(\"You rolled %d and %d %d  \\n \", r_1, r_2, total)\n",
    "        total\n",
    "    end   \n",
    "end\n",
    "\n",
    "class Game\n",
    "    include Dice\n",
    "end\n",
    "\n",
    "g = Game.new\n",
    "g.roll"
   ]
  },
  {
   "cell_type": "markdown",
   "id": "339dad5a-8944-4363-9f9d-1442d508ac78",
   "metadata": {},
   "source": [
    "#### Stack Example"
   ]
  },
  {
   "cell_type": "code",
   "execution_count": null,
   "id": "8d2eba6f-3ac6-4d06-bcfb-7afb8456f9a9",
   "metadata": {},
   "outputs": [],
   "source": [
    "module Stacklike\n",
    "    attr_accessor :items\n",
    "    def stack\n",
    "        @items ||= []\n",
    "    end\n",
    "    \n",
    "    def push(obj)\n",
    "        @items.push(obj)\n",
    "    end\n",
    "\n",
    "    def pop\n",
    "        @items.pop\n",
    "    end\n",
    "end"
   ]
  },
  {
   "cell_type": "markdown",
   "id": "6976419f-2097-4755-b5ce-e373512ab1a1",
   "metadata": {},
   "source": [
    "#### Special Note to read\n",
    "\n",
    "In Ruby, the `||=` operator is a shorthand assignment operator, often referred to as the \"or equals\" operator. It's used to assign a value to a variable only if that variable is currently `nil` or `false`. If the variable is already defined and evaluates to a truthy value, the assignment doesn't occur, and the variable retains its original value.\n",
    "\n",
    "Here's how it works:\n",
    "\n",
    "```ruby\n",
    "x ||= value\n",
    "```\n",
    "\n",
    "This is equivalent to:\n",
    "\n",
    "```ruby\n",
    "x = x || value\n",
    "```\n",
    "\n",
    "If `x` is currently `nil` or `false`, it will be assigned the value of `value`. If `x` is already assigned a truthy value, the assignment doesn't occur, and `x` retains its original value.\n",
    "\n",
    "Example:\n",
    "\n",
    "```ruby\n",
    "x = nil\n",
    "x ||= 5\n",
    "puts x  # Output: 5\n",
    "\n",
    "y = 10\n",
    "y ||= 7\n",
    "puts y  # Output: 10, because y already has a truthy value (10)\n",
    "```\n",
    "\n",
    "This operator is commonly used in Ruby for initializing variables to default values or for memoization, where you want to avoid recalculating a value if it has already been calculated and stored in the variable."
   ]
  },
  {
   "cell_type": "code",
   "execution_count": null,
   "id": "60081941-551c-4239-9382-158f220890cd",
   "metadata": {},
   "outputs": [],
   "source": [
    "class Stack\n",
    "    include Stacklike\n",
    "end"
   ]
  },
  {
   "cell_type": "code",
   "execution_count": null,
   "id": "5b24eb8d-cd64-4ced-bdd6-6074e33ae5ab",
   "metadata": {},
   "outputs": [],
   "source": [
    "mystack = Stack.new\n",
    "mystack.stack\n",
    "mystack.push(\"First item\")\n",
    "mystack.push(\"Second item\")\n",
    "mystack.push(\"Third item\")\n",
    "puts \"Objects currently in the stack:\"\n",
    "puts mystack.items\n",
    "last_item = mystack.pop\n",
    "puts \"Removed from the stack:\"\n",
    "puts last_item\n",
    "puts \"Objects currently in the stack:\"\n",
    "puts mystack.items"
   ]
  },
  {
   "cell_type": "markdown",
   "id": "0396e201-c3e7-49f1-a74d-66dfa987ee02",
   "metadata": {},
   "source": [
    "### Method Lookup Path"
   ]
  },
  {
   "cell_type": "code",
   "execution_count": 4,
   "id": "da3354e7-d327-4a52-b951-8f2bb630a428",
   "metadata": {},
   "outputs": [
    {
     "data": {
      "text/plain": [
       ":x"
      ]
     },
     "execution_count": 4,
     "metadata": {},
     "output_type": "execute_result"
    }
   ],
   "source": [
    "module M\n",
    "    def x\n",
    "        puts \"Hey! I'm the module M\"\n",
    "    end\n",
    "end\n",
    "\n",
    "class B\n",
    "    def x\n",
    "        puts \"Hey! I'm the class B\"\n",
    "    end\n",
    "end\n",
    "\n",
    "class A < B\n",
    "    include M\n",
    "    \n",
    "    def x\n",
    "        puts \"Hey! I'm the class A\"\n",
    "    end\n",
    "end"
   ]
  },
  {
   "cell_type": "code",
   "execution_count": 6,
   "id": "164a06a6-cd6c-4501-ad89-3b462f37a621",
   "metadata": {},
   "outputs": [
    {
     "name": "stdout",
     "output_type": "stream",
     "text": [
      "Hey! I'm the class A\n"
     ]
    }
   ],
   "source": [
    "a = A.new\n",
    "a.x # Hey"
   ]
  },
  {
   "cell_type": "markdown",
   "id": "97e8d6df-849d-43bc-80c3-9027909c45a3",
   "metadata": {},
   "source": [
    "### prepend \n",
    "\n",
    "It works almost the same as include, the difference is that when you prepend a module to the class, the object will look for the method in the module first, before looking for it in the class."
   ]
  },
  {
   "cell_type": "code",
   "execution_count": 7,
   "id": "c1f65057-af63-47e5-aa0d-457176ac5ed3",
   "metadata": {},
   "outputs": [
    {
     "data": {
      "text/plain": [
       ":x"
      ]
     },
     "execution_count": 7,
     "metadata": {},
     "output_type": "execute_result"
    }
   ],
   "source": [
    "class A < B\n",
    "    prepend M\n",
    "\n",
    "    def x\n",
    "        puts \"Hey! I'm the class A\"\n",
    "    end\n",
    "end"
   ]
  },
  {
   "cell_type": "code",
   "execution_count": 8,
   "id": "b842febd-8be7-4daf-b34b-eb5d163dedcf",
   "metadata": {},
   "outputs": [
    {
     "name": "stdout",
     "output_type": "stream",
     "text": [
      "Hey! I'm the module M\n"
     ]
    }
   ],
   "source": [
    "a1 = A.new\n",
    "a1.x # "
   ]
  },
  {
   "cell_type": "markdown",
   "id": "bd6885f9-7920-4c96-aaea-20faf70dc461",
   "metadata": {},
   "source": [
    "### Extending Modules using \"extend\" method\n",
    "\n",
    "In Ruby, the `extend` method is used to mix in the methods of a module at the level of an object (instance) rather than at the class level. This means that the methods of the module become available as instance methods of the object that `extend` is called on.\n",
    "\n",
    "Here's an example to illustrate how `extend` works:\n",
    "\n",
    "```ruby\n",
    "module MyModule\n",
    "  def greet\n",
    "    puts \"Hello from MyModule!\"\n",
    "  end\n",
    "end\n",
    "\n",
    "class MyClass\n",
    "end\n",
    "\n",
    "obj = MyClass.new\n",
    "\n",
    "# Using extend to add module methods to a single object\n",
    "obj.extend(MyModule)\n",
    "obj.greet  # Output: Hello from MyModule!\n",
    "\n",
    "# The module methods are now available only to this particular object\n",
    "# Other instances of MyClass won't have access to these methods\n",
    "other_obj = MyClass.new\n",
    "other_obj.greet  # This would raise a NoMethodError\n",
    "```\n",
    "\n",
    "In this example:\n",
    "\n",
    "- We define a module `MyModule` with a single method `greet`.\n",
    "- We define a class `MyClass` but do not include or extend `MyModule`.\n",
    "- We create an instance `obj` of `MyClass`.\n",
    "- We use `obj.extend(MyModule)` to extend `obj` with the methods of `MyModule`.\n",
    "- After extending, `obj` gains access to the `greet` method defined in `MyModule`.\n",
    "- Other instances of `MyClass` created after the `extend` call do not have access to the methods of `MyModule`."
   ]
  },
  {
   "cell_type": "markdown",
   "id": "6af3fb02-4b41-4833-a431-15352a7d8c11",
   "metadata": {},
   "source": [
    "### Use of super in Modules"
   ]
  },
  {
   "cell_type": "code",
   "execution_count": 8,
   "id": "ce84dab0-a0d1-4727-ad47-763120281546",
   "metadata": {},
   "outputs": [
    {
     "data": {
      "text/plain": [
       ":x"
      ]
     },
     "execution_count": 8,
     "metadata": {},
     "output_type": "execute_result"
    }
   ],
   "source": [
    "module M\n",
    "    def x\n",
    "        puts \"Hey! I'm the module\"\n",
    "        puts \"But I'm going to call the next higher-up method...\"\n",
    "        super\n",
    "        puts \"Back in the module\"\n",
    "    end\n",
    "end"
   ]
  },
  {
   "cell_type": "code",
   "execution_count": 9,
   "id": "8918b42e-1383-4e42-9b30-08d50628b497",
   "metadata": {},
   "outputs": [
    {
     "name": "stdout",
     "output_type": "stream",
     "text": [
      "Hey! I'm the module\n",
      "But I'm going to call the next higher-up method...\n",
      "Hey! I'm the module\n",
      "But I'm going to call the next higher-up method...\n",
      "Hey! I'm the class B\n",
      "Back in the module\n",
      "Hey! I'm the class A\n",
      "Back in the module\n"
     ]
    }
   ],
   "source": [
    "a = A.new\n",
    "a.x"
   ]
  },
  {
   "cell_type": "markdown",
   "id": "aba3bc28-1676-4172-8eb0-e513413d4614",
   "metadata": {},
   "source": [
    "#### Ordering of Modules"
   ]
  },
  {
   "cell_type": "code",
   "execution_count": null,
   "id": "e42280d8-9607-4b89-93eb-40adb39cd4d9",
   "metadata": {},
   "outputs": [],
   "source": [
    "module Account\n",
    "    def login\n",
    "        puts \"login successful\"\n",
    "    end    \n",
    "end    "
   ]
  },
  {
   "cell_type": "code",
   "execution_count": null,
   "id": "a57c0c19-579b-4537-801e-4a1731ffdc4d",
   "metadata": {},
   "outputs": [],
   "source": [
    "module Meetup\n",
    "    def ruby_meetup\n",
    "        puts \"Discuss ruby modules\"\n",
    "    end \n",
    "end\n",
    "\n",
    "\n",
    "class SBU\n",
    "    include Meetup\n",
    "end\n",
    "\n",
    "a = SBU.new\n",
    "a.ruby_meetup"
   ]
  },
  {
   "cell_type": "code",
   "execution_count": 1,
   "id": "1f17d114-0e96-4425-b203-6293e1127d6a",
   "metadata": {},
   "outputs": [
    {
     "name": "stdout",
     "output_type": "stream",
     "text": [
      "Hi from the module X\n"
     ]
    }
   ],
   "source": [
    "module X\n",
    "    def greet\n",
    "        puts \"Hi from the module X\"\n",
    "    end\n",
    "end\n",
    "\n",
    "\n",
    "\n",
    "class A\n",
    "    include X\n",
    "end\n",
    "\n",
    "class B < A\n",
    "end\n",
    "\n",
    "object1 = B.new\n",
    "object1.greet"
   ]
  },
  {
   "cell_type": "code",
   "execution_count": 1,
   "id": "71bd64b5-3c8b-4f4e-b253-90a91f1fc635",
   "metadata": {},
   "outputs": [
    {
     "name": "stdout",
     "output_type": "stream",
     "text": [
      "I am in registeration module\n"
     ]
    }
   ],
   "source": [
    "module Account\n",
    "    def register\n",
    "        puts \"registration successful\"\n",
    "    end\n",
    "end\n",
    "\n",
    "module Registration\n",
    "    def register\n",
    "        puts \"I am in registeration module\"\n",
    "    end   \n",
    "end\n",
    "\n",
    "class User\n",
    "    include Account\n",
    "    include Registration\n",
    "    include Account\n",
    "\n",
    "    #def register\n",
    "    #    puts \"I am in the User class\"\n",
    "    #end\n",
    "end\n",
    "\n",
    "a = User.new\n",
    "a.register\n",
    "\n",
    "## This is a good example need to be explained well!"
   ]
  },
  {
   "cell_type": "markdown",
   "id": "981db3f0-3bce-4818-b04e-5cc2ac0a1f33",
   "metadata": {},
   "source": [
    "### Modules as namespace"
   ]
  },
  {
   "cell_type": "markdown",
   "id": "012e075a-5243-45ef-a5ea-645bb9db5d9a",
   "metadata": {},
   "source": [
    "In Ruby, module methods can be accessed directly without including the module by using the scope resolution operator `::`. This operator allows you to reference constants, methods, or nested modules/classes directly within the module.\n",
    "\n",
    "Here's an example demonstrating how to access a module method directly without including the module:\n",
    "\n",
    "```ruby\n",
    "module MyModule\n",
    "  def self.my_method\n",
    "    puts \"This is a module method\"\n",
    "  end\n",
    "end\n",
    "\n",
    "# Accessing the module method directly using the scope resolution operator\n",
    "MyModule.my_method\n",
    "```\n",
    "\n",
    "In the example above, `MyModule.my_method` is used to directly call the `my_method` method defined within the `MyModule` module without including it in another class or module."
   ]
  },
  {
   "cell_type": "markdown",
   "id": "ad55a77a-8a0f-4dc2-b88e-bed438f20ae0",
   "metadata": {},
   "source": [
    "Accessing nested modules and classes: You can use `::` to access nested modules and classes within a module or class. For example:\n",
    "```ruby\n",
    "module OuterModule\n",
    "  module InnerModule\n",
    "    class MyClass\n",
    "      def self.my_method\n",
    "        puts \"Hello from MyClass\"\n",
    "      end\n",
    "    end\n",
    "  end\n",
    "end\n",
    "\n",
    "OuterModule::InnerModule::MyClass.my_method  # Output: Hello from MyClass\n",
    "```\n"
   ]
  },
  {
   "cell_type": "markdown",
   "id": "53c17e2e-3225-4b6d-b5a0-5e9304ac44fc",
   "metadata": {},
   "source": [
    "Accessing constants: You can use `::` to access constants defined within a module or class. For example:\n",
    "```ruby\n",
    "module MyModule\n",
    "  MY_CONSTANT = 10\n",
    "end\n",
    "\n",
    "puts MyModule::MY_CONSTANT  # Output: 10"
   ]
  },
  {
   "cell_type": "markdown",
   "id": "118940e9-3bf6-4e70-b116-9b594c92a8d1",
   "metadata": {},
   "source": [
    "# 2 Aliasing in Ruby"
   ]
  },
  {
   "cell_type": "markdown",
   "id": "51eedbdc-4ccb-43e2-89f0-bd8887f8b363",
   "metadata": {},
   "source": [
    "In Ruby, aliasing refers to the process of creating an alternate name (alias) for an existing method or global variable. This can be useful for providing more descriptive names, extending functionality, or avoiding conflicts when redefining methods.\n",
    "\n",
    "### Method Aliasing in Classes:\n",
    "\n",
    "In Ruby classes, you can alias methods using the `alias` keyword. Here's how it works:\n",
    "\n",
    "```ruby\n",
    "class MyClass\n",
    "  def original_method\n",
    "    puts \"Original method\"\n",
    "  end\n",
    "\n",
    "  alias new_method original_method\n",
    "end\n",
    "\n",
    "obj = MyClass.new\n",
    "obj.new_method  # Output: Original method\n",
    "```\n",
    "\n",
    "In this example, `new_method` is an alias for `original_method`. When `new_method` is called, it executes the same code as `original_method`.\n",
    "\n",
    "### Method Aliasing in Modules:\n",
    "\n",
    "Similarly, you can alias methods in modules:\n",
    "\n",
    "```ruby\n",
    "module MyModule\n",
    "  def self.included(base)\n",
    "    base.extend(ClassMethods)\n",
    "  end\n",
    "\n",
    "  module ClassMethods\n",
    "    def original_method\n",
    "      puts \"Original method\"\n",
    "    end\n",
    "\n",
    "    alias new_method original_method\n",
    "  end\n",
    "end\n",
    "\n",
    "class MyClass\n",
    "  include MyModule\n",
    "end\n",
    "\n",
    "MyClass.new.new_method  # Output: Original method\n",
    "```\n",
    "\n",
    "### Aliasing Global Variables:\n",
    "\n",
    "You can also alias global variables using the same `alias` keyword:\n",
    "\n",
    "```ruby\n",
    "$old_var = 10\n",
    "alias $new_var $old_var\n",
    "\n",
    "puts $new_var  # Output: 10\n",
    "```\n",
    "\n",
    "### Dynamic Aliasing:\n",
    "\n",
    "In Ruby, aliases are created at runtime, so you can dynamically create aliases based on conditions:\n",
    "\n",
    "```ruby\n",
    "class MyClass\n",
    "  if RUBY_VERSION >= \"2.7\"\n",
    "    alias my_alias new_method\n",
    "  else\n",
    "    alias my_alias old_method\n",
    "  end\n",
    "end\n",
    "```\n",
    "\n",
    "### Benefits of Aliasing:\n",
    "\n",
    "- **Code Clarity**: Aliases can provide more descriptive names for methods or variables, improving code readability.\n",
    "- **Versioning**: Aliasing can be useful for maintaining compatibility across different versions of libraries or frameworks.\n",
    "- **Refactoring**: When refactoring code, aliases can help ensure backward compatibility by preserving old method names.\n",
    "\n",
    "### Caveats:\n",
    "\n",
    "- **Overuse**: Overuse of aliases can lead to confusion and make code harder to maintain.\n",
    "- **Namespace Pollution**: Aliasing global variables or methods can pollute the global namespace, leading to potential conflicts.\n",
    "\n",
    "When used judiciously, aliasing can be a powerful tool for improving code readability and maintainability in Ruby classes and modules."
   ]
  },
  {
   "cell_type": "markdown",
   "id": "2fa06570-d9f5-459e-ab74-1e983405e3eb",
   "metadata": {},
   "source": [
    "# More on OOP using Ruby"
   ]
  },
  {
   "cell_type": "code",
   "execution_count": 5,
   "id": "c5134cc8-90c3-444a-8788-bb9e44c60af6",
   "metadata": {},
   "outputs": [
    {
     "name": "stdout",
     "output_type": "stream",
     "text": [
      "I'm an animal, and I can speak!\n",
      "---GoodDog method lookup---\n",
      "#<Class:0x0000022c460abaf8>::GoodDog\n",
      "#<Class:0x0000022c460abaf8>::Climbable\n",
      "#<Class:0x0000022c460abaf8>::Swimmable\n",
      "#<Class:0x0000022c460abaf8>::Animal\n",
      "#<Class:0x0000022c460abaf8>::Walkable\n",
      "Object\n",
      "PP::ObjectMixin\n",
      "JSON::Ext::Generator::GeneratorMethods::Object\n",
      "Kernel\n",
      "BasicObject\n",
      "#<Class:0x0000022c460abaf8>::GoodCat\n",
      "#<Class:0x0000022c460abaf8>::Cat\n",
      "#<Class:0x0000022c460abaf8>::Mammal\n",
      "#<Class:0x0000022c460abaf8>::Animal\n",
      "#<Class:0x0000022c460abaf8>::Walkable\n",
      "Object\n",
      "PP::ObjectMixin\n",
      "JSON::Ext::Generator::GeneratorMethods::Object\n",
      "Kernel\n",
      "BasicObject\n"
     ]
    }
   ],
   "source": [
    "module Swimmable\n",
    "  def swim\n",
    "    \"I'm swimming!\"\n",
    "  end\n",
    "end\n",
    "\n",
    "class Animal\n",
    "end\n",
    "\n",
    "class Fish < Animal\n",
    "  include Swimmable         # mixing in Swimmable module\n",
    "end\n",
    "\n",
    "class Mammal < Animal\n",
    "end\n",
    "\n",
    "class Cat < Mammal\n",
    "end\n",
    "\n",
    "class Dog < Mammal\n",
    "  include Swimmable         # mixing in Swimmable module\n",
    "end\n",
    "\n",
    "module Walkable\n",
    "  def walk\n",
    "    \"I'm walking.\"\n",
    "  end\n",
    "end\n",
    "\n",
    "\n",
    "\n",
    "module Climbable\n",
    "  def climb\n",
    "    \"I'm climbing.\"\n",
    "  end\n",
    "end\n",
    "\n",
    "class Animal\n",
    "  include Walkable\n",
    "\n",
    "  def speak\n",
    "    \"I'm an animal, and I can speak!\"\n",
    "  end\n",
    "end\n",
    "\n",
    "class GoodDog < Animal\n",
    "  include Swimmable\n",
    "  include Climbable\n",
    "end\n",
    "\n",
    "class GoodCat < Cat\n",
    "end\n",
    "c = GoodCat.new\n",
    "puts c.speak\n",
    "puts \"---GoodDog method lookup---\"\n",
    "puts GoodDog.ancestors\n",
    "puts GoodCat.ancestors"
   ]
  },
  {
   "cell_type": "markdown",
   "id": "5fbe6d75-fa75-4c37-b178-29ad86cc4cc6",
   "metadata": {},
   "source": [
    "#### Another Example --- Library Database using OOP Rby\n",
    "\n",
    "```ruby\n",
    "module LibraryUtils\n",
    "  def self.format_isbn(isbn)\n",
    "    # Format ISBN to a standardized format\n",
    "    isbn.gsub(/[^0-9]/, '')\n",
    "  end\n",
    "end\n",
    "\n",
    "class Book\n",
    "  attr_accessor :title, :author, :genre, :isbn\n",
    "\n",
    "  def initialize(title, author, genre, isbn)\n",
    "    @title = title\n",
    "    @author = author\n",
    "    @genre = genre\n",
    "    @isbn = LibraryUtils.format_isbn(isbn)\n",
    "  end\n",
    "\n",
    "  def to_s\n",
    "    \"#{@title} by #{@author}\"\n",
    "  end\n",
    "end\n",
    "\n",
    "class BookDatabase\n",
    "  include LibraryUtils\n",
    "\n",
    "  def initialize\n",
    "    @books = []\n",
    "  end\n",
    "\n",
    "  def add_book(book)\n",
    "    @books << book\n",
    "  end\n",
    "\n",
    "  def display_books\n",
    "    @books.each do |book|\n",
    "      puts book\n",
    "    end\n",
    "  end\n",
    "\n",
    "  def search_by_title(title)\n",
    "    found_books = @books.select { |book| book.title.downcase.include?(title.downcase) }\n",
    "    display_results(found_books)\n",
    "  end\n",
    "\n",
    "  def search_by_author(author)\n",
    "    found_books = @books.select { |book| book.author.downcase.include?(author.downcase) }\n",
    "    display_results(found_books)\n",
    "  end\n",
    "\n",
    "  private\n",
    "\n",
    "  def display_results(books)\n",
    "    if books.empty?\n",
    "      puts \"No matching books found.\"\n",
    "    else\n",
    "      books.each { |book| puts book }\n",
    "    end\n",
    "  end\n",
    "end\n",
    "\n",
    "# Example usage\n",
    "book1 = Book.new(\"The Great Gatsby\", \"F. Scott Fitzgerald\", \"Classic\", \"978-0743273565\")\n",
    "book2 = Book.new(\"To Kill a Mockingbird\", \"Harper Lee\", \"Fiction\", \"978-0061120084\")\n",
    "\n",
    "database = BookDatabase.new\n",
    "database.add_book(book1)\n",
    "database.add_book(book2)\n",
    "\n",
    "puts \"All Books:\"\n",
    "database.display_books\n",
    "\n",
    "puts \"\\nSearch by Title:\"\n",
    "database.search_by_title(\"great gatsby\")\n",
    "\n",
    "puts \"\\nSearch by Author:\"\n",
    "database.search_by_author(\"harper lee\")\n",
    "```\n",
    "\n",
    "In this version, we've added a module called `LibraryUtils` that contains a method `format_isbn` for formatting ISBN numbers. We've included this module in the `BookDatabase` class to utilize its functionality."
   ]
  },
  {
   "cell_type": "code",
   "execution_count": null,
   "id": "64b28019-7d4d-4540-a00b-ebef49ad2c7d",
   "metadata": {},
   "outputs": [],
   "source": []
  }
 ],
 "metadata": {
  "kernelspec": {
   "display_name": "Ruby 3.2.3",
   "language": "ruby",
   "name": "ruby"
  },
  "language_info": {
   "file_extension": ".rb",
   "mimetype": "application/x-ruby",
   "name": "ruby",
   "version": "3.2.3"
  }
 },
 "nbformat": 4,
 "nbformat_minor": 5
}
