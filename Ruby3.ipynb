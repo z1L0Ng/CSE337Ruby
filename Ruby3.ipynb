{
 "cells": [
  {
   "cell_type": "markdown",
   "id": "1605254a-678b-48b1-b0df-687d714986b4",
   "metadata": {},
   "source": [
    "# Object Oriebted Programming (OOP) using Ruby (2/26/2024 Lecture 11)"
   ]
  },
  {
   "cell_type": "markdown",
   "id": "0c81e3ef-cd61-4800-8dd4-76050b73a113",
   "metadata": {},
   "source": [
    "## 1-Basis of OOP \n",
    "When we say object-oriented programming, we mean that our code is centered on objects. Objects are real-life instances that are classified into various types. Let’s take an example to understand this better. If we consider a rose as an object, then the class of the rose will be flower. A class is like the blue-print of an object and describes the attributes and behavior of an object. the attributes of a flower could be the color, fragrance or even whether it has thorns. these features are part of the class and each instance of the class i.e. each object of the class would share these attributes. though the value of the attribute may vary among different objects. take for an example – a lily. So if the color of the petals of the rose object is red then for the lily it could be white. this is the basis of object oriented programming where we can take real life situations and make different instances from it. "
   ]
  },
  {
   "cell_type": "markdown",
   "id": "8df91f78-0ad7-443e-b68c-3736a33ecd90",
   "metadata": {},
   "source": [
    "```ruby\n",
    "# Ruby Class's Syntax\n",
    "# ====================\n",
    "class classname end\n",
    "\n",
    "```"
   ]
  },
  {
   "cell_type": "markdown",
   "id": "034a3fd5-4acd-4f42-ac45-6713671c1168",
   "metadata": {},
   "source": [
    "```\n",
    "* Class names start with an uppercase letter.\n",
    "* We use the class keyword, then the \\end keyword.\n",
    "* An empty class is not very useful, but you can still create objects from it.\n",
    "```"
   ]
  },
  {
   "cell_type": "code",
   "execution_count": 4,
   "id": "21e13618-8970-4897-9fb7-f5b3e7b5c622",
   "metadata": {},
   "outputs": [
    {
     "name": "stdout",
     "output_type": "stream",
     "text": [
      "#<Class:0x000001a633b6bb80>::Orange\n"
     ]
    }
   ],
   "source": [
    "class Orange\n",
    "end\n",
    "\n",
    "a=Orange.new\n",
    "puts a.class"
   ]
  },
  {
   "cell_type": "markdown",
   "id": "44836b43-736c-4c4b-b9be-07879842f373",
   "metadata": {},
   "source": [
    "Classes become more useful when you start adding instance methods & instance variables to them.\n",
    "A method is a thing your class can do."
   ]
  },
  {
   "cell_type": "markdown",
   "id": "94c0f6cb-b96b-43e1-85f1-ab920cded1b1",
   "metadata": {},
   "source": [
    "## 2. Instance Variables"
   ]
  },
  {
   "cell_type": "markdown",
   "id": "9258344d-af1d-43e6-93c6-ac5539fd9628",
   "metadata": {},
   "source": [
    "An instance variable is a variable that is avaialble from within an instance of a class, and is limited in scope because it belongs to a \n",
    "given object. Instance variables is prefixed by a single at sign (@), as in\n",
    "\n",
    "    @name = \"Easy Jet'"
   ]
  },
  {
   "cell_type": "code",
   "execution_count": 8,
   "id": "bd550795-c9f8-4147-92f3-52a75f97d626",
   "metadata": {},
   "outputs": [
    {
     "ename": "NoMethodError",
     "evalue": "undefined method `name' for #<#<Class:0x000001a633b6bb80>::Horse:0x000001a634043860>",
     "output_type": "error",
     "traceback": [
      "\u001b[31mNoMethodError\u001b[0m: undefined method `name' for #<#<Class:0x000001a633b6bb80>::Horse:0x000001a634043860>",
      "(irb):5:in `<top (required)>'"
     ]
    }
   ],
   "source": [
    "class Horse\n",
    "    @name = \"Easy Jet\"\n",
    "end \n",
    "\n",
    "h = Horse.new\n",
    "h.name\n",
    "\n",
    "'''\n",
    "You have no way to retrieve the value of @name directly from outside\n",
    "'''"
   ]
  },
  {
   "cell_type": "markdown",
   "id": "be9041fa-5714-461a-a0a5-a5b0bcf59add",
   "metadata": {},
   "source": [
    "#### Concept of Getter and Setter methods in Ruby"
   ]
  },
  {
   "cell_type": "code",
   "execution_count": 59,
   "id": "2fefcd6a-9c03-4e4c-a277-78eff9469862",
   "metadata": {},
   "outputs": [
    {
     "data": {
      "text/plain": [
       "\"Easy Jet\""
      ]
     },
     "execution_count": 59,
     "metadata": {},
     "output_type": "execute_result"
    }
   ],
   "source": [
    "'''\n",
    "We need to define a method to access it!\n",
    "'''\n",
    "\n",
    "class Horse\n",
    "    def name \n",
    "        @name = \"Easy Jet\"\n",
    "    end    \n",
    "end \n",
    "# Why we donot need return keyword here?\n",
    "h = Horse.new\n",
    "h.name1\n",
    "\n",
    "## The method is know as getter, because it gets the value of the  variable\n",
    "## This is good when you donot want to change the value of the variable.\n",
    "## we also need a setter that will set the value\n"
   ]
  },
  {
   "cell_type": "code",
   "execution_count": 61,
   "id": "254a6c0f-cd8e-417b-a5e5-a9d1741f23ee",
   "metadata": {},
   "outputs": [
    {
     "name": "stdout",
     "output_type": "stream",
     "text": [
      "\n",
      "Black Beauty\n",
      "Black Beauty\n"
     ]
    }
   ],
   "source": [
    "class Horse\n",
    "    def name \n",
    "        @name\n",
    "    end\n",
    "    def name=(value)\n",
    "        @name = value\n",
    "    end    \n",
    "end\n",
    "# This example needs explanation!\n",
    "h = Horse.new\n",
    "puts h.name\n",
    "puts h.name =\"Black Beauty\"\n",
    "puts h.name"
   ]
  },
  {
   "cell_type": "markdown",
   "id": "a2e3dd5a-ffde-4cf1-b5cf-ac2e78698b54",
   "metadata": {},
   "source": [
    "Notes:-\n",
    "In Ruby, setter methods are defined with a trailing `=` sign as a convention. This convention is not enforced by the language itself but is a widely adopted convention within the Ruby community.\n",
    "\n",
    "The `=` sign is appended to the method name to indicate that the method is used for assigning a value to a variable or attribute. When you call a method with the `=` sign at the end, it's typically interpreted as a setter method. For example:\n",
    "\n",
    "```ruby\n",
    "class MyClass\n",
    "  def my_attribute=(value)\n",
    "    @my_attribute = value\n",
    "  end\n",
    "end\n",
    "\n",
    "obj = MyClass.new\n",
    "obj.my_attribute = 10  # This calls the setter method\n",
    "# What is happening here?\n",
    "```\n",
    "\n",
    "This code demonstrates defining a setter method `my_attribute=` within the `MyClass` class. When you call `obj.my_attribute = 10`, it's interpreted as calling the `my_attribute=` method with the argument `10`, which sets the value of `@my_attribute` instance variable to `10`.\n",
    "\n",
    "Using the `=` sign in setter methods helps to create more readable and intuitive code, making it clear that you're setting a value rather than just invoking a regular method. It's part of Ruby's philosophy of favoring readability and expressiveness."
   ]
  },
  {
   "cell_type": "markdown",
   "id": "d5cb6122-0e3c-4ef5-87fe-916d6a5e34d6",
   "metadata": {},
   "source": [
    "## 3- Classes are always open\n",
    "This feature is also know as \"Monkey Patching\"\n",
    "You can open the Array class and add a method to it such as array_of_ten."
   ]
  },
  {
   "cell_type": "code",
   "execution_count": 12,
   "id": "ec6cab28-07db-4c1e-b3c5-633a5f863bd0",
   "metadata": {},
   "outputs": [
    {
     "name": "stdout",
     "output_type": "stream",
     "text": [
      "[1, 2, 3, 4, 5, 6, 7, 8, 9]\n"
     ]
    },
    {
     "data": {
      "text/plain": [
       "[1, 2, 3, 4, 5, 6, 7, 8, 9]"
      ]
     },
     "execution_count": 12,
     "metadata": {},
     "output_type": "execute_result"
    }
   ],
   "source": [
    "class Array\n",
    "    def array_of_ten\n",
    "        (1...10).to_a\n",
    "    end\n",
    "end\n",
    "\n",
    "arr = Array.new\n",
    "ten = arr.array_of_ten\n",
    "p ten\n",
    "        "
   ]
  },
  {
   "cell_type": "code",
   "execution_count": 16,
   "id": "c3bcc0b8-816a-4026-a48a-7d0faf231dfe",
   "metadata": {},
   "outputs": [
    {
     "name": "stdout",
     "output_type": "stream",
     "text": [
      "This is an existing method.\n",
      "This is a new method added to MyClass.\n",
      "42\n"
     ]
    }
   ],
   "source": [
    "class MyClass\n",
    "  def existing_method\n",
    "    puts \"This is an existing method.\"\n",
    "  end\n",
    "end\n",
    "\n",
    "# Adding a new method to MyClass\n",
    "class MyClass\n",
    "  def new_method\n",
    "    puts \"This is a new method added to MyClass.\"\n",
    "  end\n",
    "end\n",
    "\n",
    "# Adding a new variable to MyClass instances\n",
    "class MyClass\n",
    "  attr_accessor :new_variable\n",
    "end\n",
    "\n",
    "obj = MyClass.new\n",
    "obj.existing_method   # Output: This is an existing method.\n",
    "\n",
    "obj.new_method        # Output: This is a new method added to MyClass.\n",
    "\n",
    "obj.new_variable = 42\n",
    "puts obj.new_variable # Output: 42\n"
   ]
  },
  {
   "cell_type": "code",
   "execution_count": 18,
   "id": "aabc9002-edc7-4807-9774-662f2e9c78b5",
   "metadata": {},
   "outputs": [],
   "source": [
    "=begin\n",
    "You can do the same thing with other predefined classes like hashes, iterator, sting etc. Also with your defined classes.\n",
    "This looks like Lambda approach to class augmentation!\n",
    "=end"
   ]
  },
  {
   "cell_type": "markdown",
   "id": "b552d83e-3dac-436a-9a90-9fce2da07088",
   "metadata": {},
   "source": [
    "## 4- Class Initialization "
   ]
  },
  {
   "cell_type": "raw",
   "id": "7643987c-818b-4d10-8a10-a840a2bc43ca",
   "metadata": {},
   "source": [
    "\n",
    "The initialize method is useful when we want to initialize some class variables at the time of object creation. The initialize method is part of the object-creation process in Ruby and it allows us to set the initial values for an object. Below are some points about Initialize :\r",
    " \n",
    "We can define default argument.\r\n",
    "It will always return a new object so return keyword is not used inside initialize meth .\n",
    "Ruby implicitly return the last initialized object if return keyword is not defined!d\r\n",
    "Defining initialize keyword is not necessary if our class doesn’t require any argume* s.\r\n",
    "If we try to pass arguments into new and if we don’t define initialize we are going to get anror er\n",
    "\n",
    "def initialize(argument1, argument2, )\n",
    "end"
   ]
  },
  {
   "cell_type": "code",
   "execution_count": null,
   "id": "08373f02-ad70-4e9a-aa71-ac32265a9e8f",
   "metadata": {},
   "outputs": [],
   "source": [
    "class Point\n",
    "  def initialize(x, y)\n",
    "  end\n",
    "end"
   ]
  },
  {
   "cell_type": "code",
   "execution_count": 1,
   "id": "c37b9c5e-456d-4f2f-8406-502e3f7c24cc",
   "metadata": {},
   "outputs": [
    {
     "name": "stdout",
     "output_type": "stream",
     "text": [
      "#<#<Class:0x0000021cb05284a0>::Point:0x0000021cb0c9a4b8>\n"
     ]
    }
   ],
   "source": [
    "class Point\n",
    "  def initialize(x, y)\n",
    "    @x = x\n",
    "    @y = y\n",
    "  end\n",
    "end\n",
    "\n",
    "b = Point.new(1,2)\n",
    "puts b"
   ]
  },
  {
   "cell_type": "code",
   "execution_count": 21,
   "id": "4a777ab1-dfe9-49d1-87ed-245f175f9651",
   "metadata": {},
   "outputs": [
    {
     "name": "stdout",
     "output_type": "stream",
     "text": [
      "#<#<Class:0x0000021cb05284a0>::Cube:0x0000021cb0215790>\n"
     ]
    }
   ],
   "source": [
    "class Cube\n",
    "    def initialize()\n",
    "        @x = 0\n",
    "        @y = 0\n",
    "        @z = 0\n",
    "    end\n",
    "end\n",
    "# What will happen, if we initialize Cube with some arguments!\n",
    "c = Cube.new()\n",
    "puts c"
   ]
  },
  {
   "cell_type": "markdown",
   "id": "5db4882f-98af-46d5-b374-6aaddcf338f0",
   "metadata": {},
   "source": [
    "## 5 Accessors (attr_accessor) in Ruby for Instance Variables\n"
   ]
  },
  {
   "cell_type": "code",
   "execution_count": 62,
   "id": "aa2d1535-da16-4b2b-b161-272588702705",
   "metadata": {},
   "outputs": [
    {
     "data": {
      "text/plain": [
       "21"
      ]
     },
     "execution_count": 62,
     "metadata": {},
     "output_type": "execute_result"
    }
   ],
   "source": [
    "class Food\n",
    "  def initialize(protein)\n",
    "    @protein = protein\n",
    "  end\n",
    "end\n",
    "\n",
    "bacon = Food.new(21)\n",
    "bacon.protein\n",
    "\n",
    "# NoMethodError: undefined method `protein'"
   ]
  },
  {
   "cell_type": "code",
   "execution_count": 63,
   "id": "ee4e8502-ee4b-40ef-809b-b0721acf7300",
   "metadata": {},
   "outputs": [
    {
     "data": {
      "text/plain": [
       "21"
      ]
     },
     "execution_count": 63,
     "metadata": {},
     "output_type": "execute_result"
    }
   ],
   "source": [
    "=begin\n",
    "We are adding methods on the fly\n",
    "we are defining Getter\n",
    "=end\n",
    "\n",
    "class Food\n",
    "  def protein\n",
    "    @protein\n",
    "  end\n",
    "end\n",
    "\n",
    "bacon.protein\n",
    "# 21"
   ]
  },
  {
   "cell_type": "code",
   "execution_count": 64,
   "id": "8b29f9e7-348a-4b44-ba98-798bd06bb02b",
   "metadata": {},
   "outputs": [
    {
     "data": {
      "text/plain": [
       "25"
      ]
     },
     "execution_count": 64,
     "metadata": {},
     "output_type": "execute_result"
    }
   ],
   "source": [
    "# Then we are defining getter\n",
    "class Food\n",
    "  def protein=(value)\n",
    "    @protein = value\n",
    "  end\n",
    "end\n",
    "\n",
    "bacon.protein = 25"
   ]
  },
  {
   "cell_type": "raw",
   "id": "00614b7c-f6b5-42d4-b497-5287ce7f12df",
   "metadata": {},
   "source": [
    "Is there a better way to define this kind of method?\n",
    "\n",
    "Like some kind of shortcut?\n",
    "\n",
    "Yes!\n",
    "\n",
    "There is 🙂\n",
    "\n",
    "That’s where attr_accessor comes in."
   ]
  },
  {
   "cell_type": "code",
   "execution_count": 65,
   "id": "747543e1-bc96-41d2-8964-0d8df480163d",
   "metadata": {},
   "outputs": [
    {
     "name": "stdout",
     "output_type": "stream",
     "text": [
      "\n",
      "\n",
      "74\n",
      "excellent\n"
     ]
    }
   ],
   "source": [
    "class Food\n",
    " attr_accessor :protein, :taste\n",
    "\n",
    " def initialize(protein, taste)\n",
    "   @protein = protein\n",
    "   @taste = taste  \n",
    " end\n",
    "end\n",
    "\n",
    "egg=Food.new(34, \"good\")\n",
    "puts egg.protein\n",
    "puts egg.taste\n",
    "egg.protein = 74\n",
    "egg.taste = \"excellent\"\n",
    "puts egg.protein\n",
    "puts egg.taste"
   ]
  },
  {
   "cell_type": "raw",
   "id": "684c21d6-401f-4aee-b31a-685db0b6ce6b",
   "metadata": {},
   "source": [
    "Three of them to be exact:\n",
    "\n",
    "attr_accessor\n",
    "attr_reader\n",
    "attr_writer\n",
    "What are the differences between them?\n",
    "\n",
    "Well, attr_accessor creates both the READER & WRITER methods.\n",
    "\n",
    "attr_reader creates only the reader.  \n",
    "attr_writer creates only the writer."
   ]
  },
  {
   "cell_type": "markdown",
   "id": "9e6776e1-bfc3-463d-aec6-6c6da830672d",
   "metadata": {},
   "source": [
    "#### Example"
   ]
  },
  {
   "cell_type": "code",
   "execution_count": 66,
   "id": "441d0a85-32f8-4675-b193-ab354d766a32",
   "metadata": {},
   "outputs": [
    {
     "name": "stdout",
     "output_type": "stream",
     "text": [
      "Alice\n"
     ]
    },
    {
     "data": {
      "text/plain": [
       "35"
      ]
     },
     "execution_count": 66,
     "metadata": {},
     "output_type": "execute_result"
    }
   ],
   "source": [
    "class Person\n",
    "  # attr_reader creates a getter method for @name\n",
    "  attr_reader :name\n",
    "\n",
    "  # attr_writer creates a setter method for @age\n",
    "  attr_writer :age\n",
    "\n",
    "  def initialize(name, age)\n",
    "    @name = name\n",
    "    @age = age\n",
    "  end\n",
    "end\n",
    "\n",
    "person = Person.new(\"Alice\", 30)\n",
    "\n",
    "# Using the getter method created by attr_reader\n",
    "puts person.name  # Output: Alice\n",
    "\n",
    "# Using the setter method created by attr_writer\n",
    "person.age = 35\n",
    "\n",
    "# We can't directly access @age using attr_reader\n",
    "# puts person.age  # This would raise an error\n"
   ]
  },
  {
   "cell_type": "markdown",
   "id": "879a73f2-e67b-46cb-8941-729ce07f7ec9",
   "metadata": {},
   "source": [
    "## 6 Class Variables"
   ]
  },
  {
   "cell_type": "code",
   "execution_count": 25,
   "id": "ae73f97e-baeb-4464-b0e6-dbdeb1e99fc4",
   "metadata": {},
   "outputs": [
    {
     "name": "stdout",
     "output_type": "stream",
     "text": [
      "I'm 7 of 9\n",
      "9\n"
     ]
    }
   ],
   "source": [
    "class Entity\n",
    "\n",
    "  @@instances = 0\n",
    "\n",
    "  def initialize\n",
    "    @@instances += 1\n",
    "    @number = @@instances\n",
    "  end\n",
    "\n",
    "  def who_am_i\n",
    "   \"I'm #{@number} of #{@@instances}\"\n",
    "  end\n",
    "\n",
    "  def self.total\n",
    "    @@instances\n",
    "  end\n",
    "end\n",
    "\n",
    "entities = Array.new(9) { Entity.new }\n",
    "# Need to understand what is happening here!\n",
    "puts entities[6].who_am_i  # => \"I'm 7 of 9\"\n",
    "puts Entity.total          # => 9"
   ]
  },
  {
   "cell_type": "markdown",
   "id": "1ac68f10-b6e0-4756-a2c3-37009aafb3c2",
   "metadata": {},
   "source": [
    "### What is \"self\" in Ruby?"
   ]
  },
  {
   "cell_type": "markdown",
   "id": "b32fa055-4b3a-4b10-b19e-ab66fa0f48af",
   "metadata": {},
   "source": [
    "self is a reserved keyword in Ruby that always refers to the current object and classes.\n",
    "In a class definition (but not in an instance method), the self keyword refers to the class itself.\n",
    "I would strongly recomend to read the following link for more information\n",
    "\n",
    "https://bootrails.com/blog/ruby-self/#:~:text=self%20is%20a%20reserved%20keyword,self%20refers%20to%20that%20class.    \n",
    "        "
   ]
  },
  {
   "cell_type": "markdown",
   "id": "461b5209-4fe2-43f7-9fb9-461bd91928ce",
   "metadata": {},
   "source": [
    "# 7 Class Methods"
   ]
  },
  {
   "cell_type": "markdown",
   "id": "c06bc9df-de63-4482-815f-297366861187",
   "metadata": {},
   "source": [
    "In Ruby, class methods are methods that are defined on the class itself rather than on instances of the class. These methods are called on the class directly, rather than on instances of the class. Here's how you define and use class methods in Ruby:\n",
    "\n",
    "```ruby\n",
    "class MyClass\n",
    "  def self.class_method\n",
    "    puts \"This is a class method\"\n",
    "  end\n",
    "end\n",
    "\n",
    "# Call the class method directly on the class\n",
    "MyClass.class_method  # Output: This is a class method\n",
    "```\n",
    "\n",
    "In this example:\n",
    "\n",
    "- `self` inside the class definition refers to the class itself (`MyClass`).\n",
    "- `self.class_method` defines a class method named `class_method`.\n",
    "- You call class methods directly on the class itself, using the class name followed by the method name (`MyClass.class_method`).\n",
    "\n",
    "You can also use `class << self` to define class methods:\n",
    "\n",
    "```ruby\n",
    "class MyClass\n",
    "  class << self\n",
    "    def another_class_method\n",
    "      puts \"This is another class method\"\n",
    "    end\n",
    "  end\n",
    "end\n",
    "\n",
    "# Call the class method defined using class << self\n",
    "MyClass.another_class_method  # Output: This is another class method\n",
    "```\n",
    "\n",
    "Both approaches achieve the same result of defining class methods.\n",
    "\n",
    "Class methods are often used for utility functions or for methods that operate on class-level data. They're useful when you want behavior associated with a class itself rather than with instances of that class."
   ]
  },
  {
   "cell_type": "markdown",
   "id": "799dbc66-3c91-401d-975b-b350a183a4c4",
   "metadata": {},
   "source": [
    "### Example"
   ]
  },
  {
   "cell_type": "code",
   "execution_count": 30,
   "id": "1ada882c-67c8-4c25-901a-305be0a8c424",
   "metadata": {},
   "outputs": [
    {
     "name": "stdout",
     "output_type": "stream",
     "text": [
      " The area of this rectangle is 60.00 inches."
     ]
    },
    {
     "data": {
      "text/plain": [
       "\"60.00\""
      ]
     },
     "execution_count": 30,
     "metadata": {},
     "output_type": "execute_result"
    }
   ],
   "source": [
    "class Area\n",
    "    def Area.rect (length, width) # This is a class method\n",
    "        area = length * width\n",
    "        printf(\" The area of this rectangle is %.2f %s.\", area, \"inches\")\n",
    "        sprintf(\"%.2f\", area)\n",
    "    end\n",
    "end\n",
    "\n",
    "Area.rect(12, 5)"
   ]
  },
  {
   "cell_type": "markdown",
   "id": "8b7401fa-cd91-4945-8dd9-eaff70ba654f",
   "metadata": {},
   "source": [
    "##### Note about printf and sprintf"
   ]
  },
  {
   "cell_type": "markdown",
   "id": "c66e389c-dfcc-4087-a738-28efaf3dc5f1",
   "metadata": {},
   "source": [
    "printf and sprintf are same as printf and sprint in C Programming Language\n"
   ]
  },
  {
   "cell_type": "code",
   "execution_count": 29,
   "id": "5c29f93a-de5c-4db6-bade-c5d06ce4df5f",
   "metadata": {},
   "outputs": [
    {
     "name": "stdout",
     "output_type": "stream",
     "text": [
      "Number: 10, String: Hello\n"
     ]
    }
   ],
   "source": [
    "printf(\"Number: %d, String: %s\\n\", 10, \"Hello\")\n",
    "# Output: Number: 10, String: Hello\n"
   ]
  },
  {
   "cell_type": "markdown",
   "id": "8fc8f69a-2249-41d8-bbc1-ce6124e30f96",
   "metadata": {},
   "source": [
    "In Ruby, `sprintf` is a method used for string formatting, similar to `printf`, but instead of printing the formatted string to the standard output, it returns the formatted string.\n",
    "\n",
    "Here's how you can use `sprintf` in Ruby:\n",
    "\n",
    "```ruby\n",
    "sprintf(format_string [, arguments...] )\n",
    "```\n",
    "\n",
    "- `format_string`: A string that specifies the format of the output.\n",
    "- `arguments`: Values to be formatted according to the format string.\n",
    "\n",
    "For example:\n",
    "\n",
    "```ruby\n",
    "formatted_string = sprintf(\"Number: %d, String: %s\", 10, \"Hello\")\n",
    "puts formatted_string\n",
    "# Output: Number: 10, String: Hello\n",
    "```\n",
    "\n",
    "In this example:\n",
    "- `%d` is a placeholder for a decimal integer.\n",
    "- `%s` is a placeholder for a string.\n",
    "\n",
    "You can include multiple placeholders in the format string and provide corresponding values in subsequent arguments.\n",
    "\n",
    "`sprintf` formats the string according to the specified format string and returns the resulting formatted string. It's useful when you want to store the formatted string in a variable or use it in further operations."
   ]
  },
  {
   "cell_type": "markdown",
   "id": "b15f2ee4-56d0-4ef7-957b-b35a307848a8",
   "metadata": {},
   "source": [
    "#### Another example with block!"
   ]
  },
  {
   "cell_type": "code",
   "execution_count": 32,
   "id": "7515ab3d-3b16-4aba-952e-e8b8dfe488ba",
   "metadata": {},
   "outputs": [
    {
     "name": "stdout",
     "output_type": "stream",
     "text": [
      "{25=>[#<#<Class:0x0000021cb05284a0>::Person:0x0000021cb0abe4f0 @name=\"A\", @age=25>, #<#<Class:0x0000021cb05284a0>::Person:0x0000021cb0abe3d8 @name=\"R\", @age=25>], 30=>[#<#<Class:0x0000021cb05284a0>::Person:0x0000021cb0abe450 @name=\"P\", @age=30>]}\n"
     ]
    }
   ],
   "source": [
    "### Example\n",
    "\n",
    "\n",
    "class Person\n",
    "  attr_accessor :name, :age\n",
    "\n",
    "  def initialize(name, age)\n",
    "    @name = name\n",
    "    @age = age\n",
    "  end\n",
    "end\n",
    "\n",
    "people = [\n",
    "  Person.new(\"A\", 25),\n",
    "  Person.new(\"P\", 30),\n",
    "  Person.new(\"R\", 25)\n",
    "]\n",
    "\n",
    "result = people.group_by { |person| person.age }\n",
    "\n",
    "puts result\n",
    "\n",
    "# Result:\n",
    "# {\n",
    "#   25 => [\n",
    "#     #<Person:0x00007fb543273b20 @name=\"Aman\", @age=25>,\n",
    "#     #<Person:0x00007fb543273aa0 @name=\"Ritwik\", @age=25>\n",
    "#   ],\n",
    "#   30 => [\n",
    "#     #<Person:0x00007fb543273a50 @name=\"Pulkit\", @age=30>\n",
    "#   ]\n",
    "# }\n"
   ]
  },
  {
   "cell_type": "markdown",
   "id": "4892aa9d-9bda-41ac-bd0b-26946074c7ad",
   "metadata": {},
   "source": [
    "In Ruby, `group_by` is a method available for enumerable objects (such as arrays, hashes, etc.) that allows you to group elements based on a given criterion. It returns a hash where the keys are the results of applying a block to each element, and the values are arrays containing the elements that produced the corresponding key.\n",
    "\n",
    "Here's the syntax:\n",
    "\n",
    "```ruby\n",
    "enumerable.group_by { |element| block }\n",
    "```\n",
    "\n",
    "- `enumerable`: The enumerable object (such as an array or hash) you want to group.\n",
    "- `block`: A block of code that determines how elements are grouped.\n",
    "\n",
    "For example, let's say you have an array of numbers and you want to group them based on whether they're even or odd:\n",
    "\n",
    "```ruby\n",
    "numbers = [1, 2, 3, 4, 5, 6, 7, 8, 9]\n",
    "\n",
    "result = numbers.group_by { |num| num.even? }\n",
    "\n",
    "puts result.inspect\n",
    "```\n",
    "\n",
    "This would output:\n",
    "\n",
    "```ruby\n",
    "{false=>[1, 3, 5, 7, 9], true=>[2, 4, 6, 8]}\n",
    "```\n",
    "\n",
    "In this example:\n",
    "- Numbers that return `true` when passed to `even?` (i.e., even numbers) are grouped together.\n",
    "- Numbers that return `false` when passed to `even?` (i.e., odd numbers) are grouped together.\n",
    "\n",
    "As a result, you get a hash where the keys are `true` and `false`, corresponding to even and odd numbers, respectively, and the values are arrays containing the numbers that match each criterion."
   ]
  },
  {
   "cell_type": "markdown",
   "id": "0d7ab586-7c6e-4f99-abad-c17d84ddc69f",
   "metadata": {},
   "source": [
    "# 8 Singleton Methods"
   ]
  },
  {
   "cell_type": "markdown",
   "id": "422f91c2-d453-4757-9691-385bd1274dbd",
   "metadata": {},
   "source": [
    "In Ruby, a singleton method is a method that is defined on a specific instance of a class rather than on the class itself. This means that the method is only available for that particular instance and not for other instances of the same class.\n",
    "\n",
    "Here's how you can define a singleton method in Ruby:\n",
    "\n",
    "```ruby\n",
    "object = Object.new\n",
    "\n",
    "def object.singleton_method\n",
    "  puts \"This is a singleton method.\"\n",
    "end\n",
    "```\n",
    "\n",
    "In this example, we define a singleton method `singleton_method` for the `object` instance of the `Object` class. This method will only be available for this particular `object` instance.\n",
    "\n",
    "\n",
    "Singleton methods are particularly useful when you want to add behavior to individual objects rather than to entire classes. However, they should be used judiciously, as they can make code harder to understand and maintain if used excessively."
   ]
  },
  {
   "cell_type": "code",
   "execution_count": 36,
   "id": "51c730f6-267d-42c8-97dc-aa75aafa57ec",
   "metadata": {},
   "outputs": [
    {
     "name": "stdout",
     "output_type": "stream",
     "text": [
      "Singleton Method Example\n",
      "Invoke from train object:\n",
      "There are many wheels\n",
      "Invoke from car object:\n",
      "There are four wheels\n"
     ]
    }
   ],
   "source": [
    "# Ruby program to demonstrate the use \n",
    "# of singleton methods \n",
    "class Vehicle \n",
    "    def wheels \n",
    "    \tputs \"There are many wheels\"\n",
    "    end\n",
    "end\n",
    "\n",
    "# Object train \n",
    "train = Vehicle.new\n",
    "\n",
    "# Object car \n",
    "car = Vehicle.new\n",
    "\n",
    "# Singleton method for car object \n",
    "def car.wheels \n",
    "    puts \"There are four wheels\"\n",
    "end\n",
    "\n",
    "\n",
    "puts \"Singleton Method Example\"\n",
    "puts \"Invoke from train object:\"\n",
    "train.wheels\t\t \n",
    "puts \"Invoke from car object:\"\n",
    "car.wheels \n",
    "\n",
    "### This is also an example of What (in Object Oriented Programming) ?"
   ]
  },
  {
   "cell_type": "markdown",
   "id": "bd3893ad-6d8b-47ec-82f7-dcbb19123195",
   "metadata": {},
   "source": [
    "# 9 Inheretence "
   ]
  },
  {
   "cell_type": "markdown",
   "id": "67c188d8-9a50-4f81-95e2-57b8bcf66c38",
   "metadata": {},
   "source": [
    "Inheritance is when a class inherits behavior from another class. The class that is inheriting behavior is called the subclass and the class it inherits from is called the superclass."
   ]
  },
  {
   "cell_type": "code",
   "execution_count": 1,
   "id": "ad1d8322-dc6d-4ded-8766-c76fc3c37030",
   "metadata": {},
   "outputs": [
    {
     "name": "stdout",
     "output_type": "stream",
     "text": [
      "true\n"
     ]
    }
   ],
   "source": [
    "class Name\n",
    "    attr_accessor :given_name, :family_name\n",
    "end\n",
    "\n",
    "class Address < Name\n",
    "    attr_accessor :street, :city, :state, :country\n",
    "end\n",
    "\n",
    "a = Address.new\n",
    "puts a.respond_to?(:given_name)\n"
   ]
  },
  {
   "cell_type": "markdown",
   "id": "b7878529-80a9-4f9c-89e8-4de0be9f51e8",
   "metadata": {},
   "source": [
    "In Ruby, `respond_to?` is a method used to check if an object responds to a particular method. It takes a symbol or a string representing the name of the method as an argument and returns `true` if the object can respond to that method, and `false` otherwise.\n",
    "\n",
    "Here's a basic example:\n",
    "\n",
    "```ruby\n",
    "class MyClass\n",
    "  def hello\n",
    "    puts \"Hello, world!\"\n",
    "  end\n",
    "end\n",
    "\n",
    "obj = MyClass.new\n",
    "\n",
    "puts obj.respond_to?(:hello)   # Output: true\n",
    "puts obj.respond_to?(:goodbye) # Output: false\n",
    "```\n",
    "\n",
    "In this example, `obj` is an instance of the `MyClass` class. `respond_to?(:hello)` returns `true` because `obj` has a method called `hello`. However, `respond_to?(:goodbye)` returns `false` because `obj` does not have a method called `goodbye`."
   ]
  },
  {
   "cell_type": "markdown",
   "id": "3fc1f0be-7321-4214-abb9-f8de76437171",
   "metadata": {},
   "source": [
    "### Example"
   ]
  },
  {
   "cell_type": "code",
   "execution_count": 39,
   "id": "f1092471-c83b-456f-b6ed-8b725830d770",
   "metadata": {},
   "outputs": [
    {
     "name": "stdout",
     "output_type": "stream",
     "text": [
      "Hello!\n",
      "Hello!\n"
     ]
    }
   ],
   "source": [
    "class Animal\n",
    "  def speak\n",
    "    \"Hello!\"\n",
    "  end\n",
    "end\n",
    "\n",
    "class GoodDog < Animal\n",
    "end\n",
    "\n",
    "class Cat < Animal\n",
    "end\n",
    "\n",
    "sparky = GoodDog.new\n",
    "paws = Cat.new\n",
    "puts sparky.speak           # => Hello!\n",
    "puts paws.speak             # => Hello!"
   ]
  },
  {
   "cell_type": "markdown",
   "id": "60faaef9-c9c7-4702-a590-492a1ae53666",
   "metadata": {},
   "source": [
    "# Polymorphism\n",
    "##### Over riding"
   ]
  },
  {
   "cell_type": "code",
   "execution_count": 71,
   "id": "19d20a6f-7e59-45b5-9226-f1ee1db0a643",
   "metadata": {},
   "outputs": [
    {
     "ename": "ArgumentError",
     "evalue": "wrong number of arguments (given 0, expected 1)",
     "output_type": "error",
     "traceback": [
      "\u001b[31mArgumentError\u001b[0m: wrong number of arguments (given 0, expected 1)",
      "(irb):3:in `initialize'",
      "(irb):22:in `new'",
      "(irb):22:in `<top (required)>'"
     ]
    }
   ],
   "source": [
    "class Animal\n",
    "  def speak\n",
    "    \"Hello!\"\n",
    "  end\n",
    "end\n",
    "\n",
    "class GoodDog < Animal\n",
    "  attr_accessor :name\n",
    "\n",
    "  def initialize(n)\n",
    "    self.name = n\n",
    "  end\n",
    "\n",
    "  def speak\n",
    "    \"#{self.name} says arf!\"\n",
    "  end\n",
    "end\n",
    "\n",
    "class Cat2 < Animal\n",
    "end\n",
    "\n",
    "sparky = GoodDog.new(\"Sparky\")\n",
    "paws = Cat.new\n",
    "\n",
    "puts sparky.speak           # => Sparky says arf!\n",
    "puts paws.speak             # => Hello!"
   ]
  },
  {
   "cell_type": "markdown",
   "id": "223e3dbf-7076-4549-bc4c-a5f83de6fdb8",
   "metadata": {},
   "source": [
    "# super Keyword in Ruby\n",
    "##### Use of the super keyword"
   ]
  },
  {
   "cell_type": "code",
   "execution_count": 44,
   "id": "b8a59a1f-3695-4302-a06c-8e6605812b59",
   "metadata": {},
   "outputs": [
    {
     "data": {
      "text/plain": [
       "\"Hello! from GoodDog class\""
      ]
     },
     "execution_count": 44,
     "metadata": {},
     "output_type": "execute_result"
    }
   ],
   "source": [
    "class Animal\n",
    "  def speak\n",
    "    \"Hello!\"\n",
    "  end\n",
    "end\n",
    "\n",
    "class GoodDog < Animal\n",
    "  def speak\n",
    "    super + \" from GoodDog class\"\n",
    "  end\n",
    "end\n",
    "\n",
    "sparky = GoodDog.new (\"Sparky\")\n",
    "sparky.speak        # => \"Hello! from GoodDog class\"\n",
    "\n",
    "=begin\n",
    "When you call super from within a method, it searches the method lookup path for a method with the same name, then invokes it. \n",
    "=end"
   ]
  },
  {
   "cell_type": "markdown",
   "id": "ea3a8140-8d80-41e4-a891-4c0fe6a063a0",
   "metadata": {},
   "source": [
    "#### Another Example"
   ]
  },
  {
   "cell_type": "code",
   "execution_count": 48,
   "id": "9e50d4bf-465e-4978-a7f8-faf9a7acb6ae",
   "metadata": {},
   "outputs": [
    {
     "name": "stdout",
     "output_type": "stream",
     "text": [
      "brown\n",
      "brown\n"
     ]
    }
   ],
   "source": [
    "class Animal\n",
    "  attr_accessor :name\n",
    "\n",
    "  def initialize(name)\n",
    "    @name = name\n",
    "  end\n",
    "end\n",
    "\n",
    "class GoodDog < Animal\n",
    "  attr_accessor :color  \n",
    "  def initialize(color)\n",
    "    super\n",
    "    @color = color\n",
    "  end\n",
    "end\n",
    "\n",
    "bruno = GoodDog.new(\"brown\")        # => #<GoodDog:0x007fb40b1e6718 @color=\"brown\", @name=\"brown\">\n",
    "puts bruno.name\n",
    "puts bruno.color"
   ]
  },
  {
   "cell_type": "markdown",
   "id": "829917e9-ff6f-44e5-b1f1-92f893a99f93",
   "metadata": {},
   "source": [
    "##### Example"
   ]
  },
  {
   "cell_type": "code",
   "execution_count": 54,
   "id": "f52bd2b0-1186-4bab-a4f2-15150ed2fe3c",
   "metadata": {},
   "outputs": [
    {
     "name": "stdout",
     "output_type": "stream",
     "text": [
      "bear\n",
      "2\n"
     ]
    }
   ],
   "source": [
    "class BadDog < Animal\n",
    "    attr_accessor :age\n",
    "  def initialize(age, name)\n",
    "    super(name)\n",
    "    @age = age\n",
    "  end\n",
    "end\n",
    "\n",
    "a = BadDog.new(2, \"bear\")        # => #<BadDog:0x007fb40b2beb68 @age=2, @name=\"bear\">\n",
    "puts a.name\n",
    "puts a.age"
   ]
  },
  {
   "cell_type": "markdown",
   "id": "73998223-6b07-4097-8b29-0d4b8767afc1",
   "metadata": {},
   "source": [
    "### You can define a parent class or super class in a separete file and\n",
    "### you can import it using require keywork\n",
    "### similar to import"
   ]
  },
  {
   "cell_type": "code",
   "execution_count": 12,
   "id": "460a93a5-3b4e-4775-b1ce-a98832e85c46",
   "metadata": {},
   "outputs": [
    {
     "name": "stdout",
     "output_type": "stream",
     "text": [
      "true\n"
     ]
    }
   ],
   "source": [
    "require 'name'\n",
    "\n",
    "class Address < Name\n",
    "    attr_accessor :street, :city, :state, :country\n",
    "end\n",
    "\n",
    "a = Address.new\n",
    "puts a.respond_to?(:given_name)"
   ]
  },
  {
   "cell_type": "markdown",
   "id": "39a6f1f5-b379-46f8-af5d-51409957e037",
   "metadata": {},
   "source": [
    "# 10 Modules / Mixin"
   ]
  },
  {
   "cell_type": "markdown",
   "id": "5ee3bdf0-c2de-4e4e-a998-3b10f6034036",
   "metadata": {},
   "source": [
    "In Ruby, a mixin refers to a technique where a module's functionality is added to a class, enabling multiple inheritance-like behavior without inheritance's complexity. Mixins allow you to share code among multiple classes without having to resort to traditional inheritance.\n",
    "\n",
    "Here's how you can create and use mixins in Ruby:\n",
    "\n",
    "1. **Define a Module**:\n",
    "   Define a module with the methods you want to include in other classes.\n",
    "\n",
    "```ruby\n",
    "module Greetable\n",
    "  def greet\n",
    "    puts \"Hello!\"\n",
    "  end\n",
    "end\n",
    "```\n",
    "\n",
    "2. **Include the Module**:\n",
    "   Use the `include` keyword to mix the module's functionality into a class.\n",
    "\n",
    "```ruby\n",
    "class Person\n",
    "  include Greetable\n",
    "end\n",
    "```\n",
    "\n",
    "3. **Use the Mixed-in Methods**:\n",
    "   Now, instances of the class can use the methods defined in the module.\n",
    "\n",
    "```ruby\n",
    "person = Person.new\n",
    "person.greet # Output: Hello!\n",
    "```\n",
    "\n",
    "The key benefit of mixins is that they allow you to share code between unrelated classes. This is particularly useful when you have functionality that is common across different classes but doesn't fit well into a traditional inheritance hierarchy.\n",
    "\n",
    "Additionally, Ruby supports multiple mixins, meaning you can include multiple modules into a single class:\n",
    "\n",
    "```ruby\n",
    "module Walkable\n",
    "  def walk\n",
    "    puts \"Walking...\"\n",
    "  end\n",
    "end\n",
    "\n",
    "class Animal\n",
    "  include Greetable\n",
    "  include Walkable\n",
    "end\n",
    "\n",
    "animal = Animal.new\n",
    "animal.greet # Output: Hello!\n",
    "animal.walk  # Output: Walking...\n",
    "```\n",
    "\n",
    "This flexibility allows for a more modular and reusable design in Ruby code. Mixins are a powerful feature that enables code reuse and helps in keeping the codebase clean and maintainable."
   ]
  },
  {
   "cell_type": "code",
   "execution_count": 58,
   "id": "f75c1557-5310-43df-9eab-2a6e9279635a",
   "metadata": {},
   "outputs": [
    {
     "name": "stdout",
     "output_type": "stream",
     "text": [
      "2\n",
      "0\n",
      "You rolled 2 and 0 2  \n",
      " "
     ]
    },
    {
     "data": {
      "text/plain": [
       "2"
      ]
     },
     "execution_count": 58,
     "metadata": {},
     "output_type": "execute_result"
    }
   ],
   "source": [
    "module Dice\n",
    "    #virtual roll of a pair of dice\n",
    "    def roll\n",
    "        r_1 = rand(6)\n",
    "        r_2 = rand(6)\n",
    "        total = r_1 + r_2\n",
    "        puts r_1\n",
    "        puts r_2\n",
    "        printf(\"You rolled %d and %d %d  \\n \", r_1, r_2, total)\n",
    "        total\n",
    "    end   \n",
    "end\n",
    "\n",
    "class Game\n",
    "    include Dice\n",
    "end\n",
    "\n",
    "g = Game.new\n",
    "g.roll"
   ]
  },
  {
   "cell_type": "code",
   "execution_count": 70,
   "id": "1cbac1f2-b3d0-4949-bc46-cb1b86b980fa",
   "metadata": {},
   "outputs": [
    {
     "ename": "TypeError",
     "evalue": "superclass mismatch for class Cat",
     "output_type": "error",
     "traceback": [
      "\u001b[31mTypeError\u001b[0m: superclass mismatch for class Cat",
      "(irb):16:in `<top (required)>'"
     ]
    }
   ],
   "source": [
    "module Swimmable\n",
    "  def swim\n",
    "    \"I'm swimming!\"\n",
    "  end\n",
    "end\n",
    "\n",
    "class Animal\n",
    "end\n",
    "\n",
    "class Fish < Animal\n",
    "  include Swimmable         # mixing in Swimmable module\n",
    "end\n",
    "\n",
    "class Mammal < Animal\n",
    "end\n",
    "\n",
    "class Cat < Mammal\n",
    "end\n",
    "\n",
    "class Dog < Mammal\n",
    "  include Swimmable         # mixing in Swimmable module\n",
    "end"
   ]
  },
  {
   "cell_type": "code",
   "execution_count": null,
   "id": "e8cae7cd-c605-4bbd-89a3-88893636b53b",
   "metadata": {},
   "outputs": [],
   "source": [
    "module Walkable\n",
    "  def walk\n",
    "    \"I'm walking.\"\n",
    "  end\n",
    "end\n",
    "\n",
    "module Swimmable\n",
    "  def swim\n",
    "    \"I'm swimming.\"\n",
    "  end\n",
    "end\n",
    "\n",
    "module Climbable\n",
    "  def climb\n",
    "    \"I'm climbing.\"\n",
    "  end\n",
    "end\n",
    "\n",
    "class Animal\n",
    "  include Walkable\n",
    "\n",
    "  def speak\n",
    "    \"I'm an animal, and I speak!\"\n",
    "  end\n",
    "end\n",
    "\n",
    "class GoodDog < Animal\n",
    "  include Swimmable\n",
    "  include Climbable\n",
    "end\n",
    "\n",
    "puts \"---GoodDog method lookup---\"\n",
    "puts GoodDog.ancestors"
   ]
  },
  {
   "cell_type": "markdown",
   "id": "fd2a9f01-a627-4d88-9420-efabbd0f4e03",
   "metadata": {},
   "source": [
    "### The order in which we include modules is important. Ruby actually looks at the last module we included first. "
   ]
  },
  {
   "cell_type": "markdown",
   "id": "c0475528-8f9e-4ee2-9c6d-a2b4b8a0accd",
   "metadata": {},
   "source": [
    "In Ruby, `printf` is a method used for formatted output, similar to the `printf` function in C and other programming languages. It allows you to output data with specified formatting directives.\n",
    "\n",
    "Here's a basic example:\n",
    "\n",
    "```ruby\n",
    "printf(\"%d %s\\n\", 42, \"foo\")\n",
    "\n",
    "```\n",
    "\n",
    "This will output:\n",
    "```\n",
    "42 foo\n",
    "```\n",
    "\n",
    "In this example:\n",
    "- `%d` is a format specifier for an integer.\n",
    "- `%s` is a format specifier for a string.\n",
    "- `\\n` is a newline character.\n",
    "\n",
    "You can use various format specifiers to control how the data is displayed. For example:\n",
    "- `%d` for integers\n",
    "- `%f` for floating-point numbers\n",
    "- `%s` for strings\n",
    "- `%x` for hexadecimal integers\n",
    "- `%o` for octal integers\n",
    "- `%e` for floating-point numbers in scientific notation\n",
    "- `%c` for characters, etc.\n",
    "\n",
    "You can find a full list of format specifiers and their meanings in the Ruby documentation."
   ]
  },
  {
   "cell_type": "markdown",
   "id": "2f4a40bb-01c8-4f64-817e-e6fae8506d98",
   "metadata": {},
   "source": [
    "### Math Module in Ruby"
   ]
  },
  {
   "cell_type": "markdown",
   "id": "9be7470f-7067-468d-b752-c777f501d8ed",
   "metadata": {},
   "source": [
    "In Ruby, the `Math` module provides a collection of mathematical functions for performing various calculations. These functions are implemented using the standard math library of the underlying system.\n",
    "\n",
    "Here are some common mathematical functions available in the `Math` module:\n",
    "\n",
    "1. Trigonometric functions:\n",
    "   - `Math.sin(x)`: Returns the sine of `x` (where `x` is in radians).\n",
    "   - `Math.cos(x)`: Returns the cosine of `x` (where `x` is in radians).\n",
    "   - `Math.tan(x)`: Returns the tangent of `x` (where `x` is in radians).\n",
    "   - `Math.atan2(y, x)`: Returns the arctangent of `y/x` in radians, using the signs of both arguments to determine the quadrant of the result.\n",
    "\n",
    "2. Exponential and logarithmic functions:\n",
    "   - `Math.exp(x)`: Returns the value of `e` raised to the power of `x`.\n",
    "   - `Math.log(x)`: Returns the natural logarithm (base `e`) of `x`.\n",
    "   - `Math.log10(x)`: Returns the base 10 logarithm of `x`.\n",
    "\n",
    "3. Power and square root functions:\n",
    "   - `Math.sqrt(x)`: Returns the non-negative square root of `x`.\n",
    "   - `Math.pow(x, y)`: Returns `x` raised to the power of `y`.\n",
    "\n",
    "4. Constants:\n",
    "   - `Math::PI`: Represents the mathematical constant π.\n",
    "   - `Math::E`: Represents the mathematical constant e.\n",
    "\n",
    "Here's a simple example demonstrating the usage of some of these functions:\n",
    "\n",
    "```ruby\n",
    "# Calculate the area of a circle with radius 5\n",
    "radius = 5\n",
    "area = Math::PI * Math.pow(radius, 2)\n",
    "puts \"Area of the circle: #{area}\"\n",
    "\n",
    "# Calculate the sine and cosine of 30 degrees\n",
    "angle_degrees = 30\n",
    "angle_radians = angle_degrees * Math::PI / 180\n",
    "sin_value = Math.sin(angle_radians)\n",
    "cos_value = Math.cos(angle_radians)\n",
    "puts \"Sine of #{angle_degrees} degrees: #{sin_value}\"\n",
    "puts \"Cosine of #{angle_degrees} degrees: #{cos_value}\"\n",
    "```\n",
    "\n",
    "This will output:\n",
    "```\n",
    "Area of the circle: 78.53981633974483\n",
    "Sine of 30 degrees: 0.49999999999999994\n",
    "Cosine of 30 degrees: 0.8660254037844386\n",
    "```\n",
    "\n",
    "These are just a few examples of the functionalities provided by the `Math` module in Ruby. It's a powerful tool for performing mathematical calculations in your Ruby programs."
   ]
  },
  {
   "cell_type": "code",
   "execution_count": 38,
   "id": "cbb0b245-72ef-4880-8224-afab5cddb6bc",
   "metadata": {},
   "outputs": [
    {
     "name": "stdout",
     "output_type": "stream",
     "text": [
      "2.718281828459045\n",
      "3.141592653589793\n",
      "1.5707963267948966\n",
      "true\n",
      "1.4436354751788103\n"
     ]
    }
   ],
   "source": [
    "# Ruby code to illustrate the \n",
    "# Math Module constants\n",
    "puts Math::E\n",
    "\n",
    "puts Math::PI\n",
    "# Ruby code to illustrate the \n",
    "# acos method\n",
    "puts Math.acos(0)\n",
    "\n",
    "# checking its range\n",
    "puts Math.acos(0) == Math::PI/2\n",
    "# Ruby code to illustrate the \n",
    "# asinh method\n",
    "puts Math.asinh(2)\n"
   ]
  },
  {
   "cell_type": "markdown",
   "id": "e4e392dc-3f70-4da5-a44b-88d5bb51168c",
   "metadata": {},
   "source": [
    "In Ruby, you can access constants defined within a module using the scope resolution operator `::`. Constants in Ruby modules follow the same scoping rules as methods and variables.\n",
    "\n",
    "Here's how you can access constants within a module:\n",
    "\n",
    "```ruby\n",
    "module MyModule\n",
    "  MY_CONSTANT = \"Hello, world!\"\n",
    "end\n",
    "\n",
    "puts MyModule::MY_CONSTANT\n",
    "```\n",
    "\n",
    "In this example:\n",
    "- We define a module `MyModule` with a constant `MY_CONSTANT`.\n",
    "- To access `MY_CONSTANT`, we use the scope resolution operator `::`, specifying the module name followed by the constant name (`MyModule::MY_CONSTANT`).\n",
    "- When we execute `puts MyModule::MY_CONSTANT`, it will print `\"Hello, world!\"`.\n",
    "\n",
    "This method of accessing constants works not only within the module itself but also from outside the module. As long as you have access to the module, you can access its constants using the scope resolution operator."
   ]
  },
  {
   "cell_type": "markdown",
   "id": "fac3b039-bfce-41d3-95a5-b490e1b42345",
   "metadata": {},
   "source": [
    "# 11 private, public, or protected"
   ]
  },
  {
   "cell_type": "markdown",
   "id": "6a73e451-8944-472f-a3f4-caeebb85b1b5",
   "metadata": {},
   "source": [
    "In Ruby, `private`, `public`, and `protected` are access control keywords used to control the visibility of methods within a class. They determine which methods are accessible from outside the class and which are not.\n",
    "\n",
    "1. **Public Methods**:\n",
    "   - Public methods can be called from outside the class.\n",
    "   - By default, all methods in a Ruby class are public unless specified otherwise.\n",
    "   - You can explicitly declare a method as public using the `public` keyword.\n",
    "\n",
    "```ruby\n",
    "class MyClass\n",
    "  def public_method\n",
    "    puts \"This is a public method\"\n",
    "  end\n",
    "  \n",
    "  public\n",
    "  \n",
    "  def another_public_method\n",
    "    puts \"This is another public method\"\n",
    "  end\n",
    "end\n",
    "\n",
    "obj = MyClass.new\n",
    "obj.public_method # Output: This is a public method\n",
    "obj.another_public_method # Output: This is another public method\n",
    "```\n",
    "\n",
    "2. **Private Methods**:\n",
    "   - Private methods cannot be called from outside the class.\n",
    "   - Private methods can only be called within the class where they are defined, typically used for internal implementation details.\n",
    "   - You can declare methods as private using the `private` keyword.\n",
    "\n",
    "```ruby\n",
    "class MyClass\n",
    "  def public_method\n",
    "    puts \"This is a public method\"\n",
    "    private_method # Can be called within the class\n",
    "  end\n",
    "  \n",
    "  private\n",
    "  \n",
    "  def private_method\n",
    "    puts \"This is a private method\"\n",
    "  end\n",
    "end\n",
    "\n",
    "obj = MyClass.new\n",
    "obj.public_method # Output: This is a public method This is a private method\n",
    "obj.private_method # This will raise an error: private method `private_method' called for #<MyClass:0x00007fd208057b00> (NoMethodError)\n",
    "```\n",
    "\n",
    "3. **Protected Methods**:\n",
    "   - Protected methods can be called by any instance of the defining class or its subclasses.\n",
    "   - They behave similarly to private methods in that they cannot be called from outside the class, but they can be called with an explicit receiver within instances of the class and its subclasses.\n",
    "   - You can declare methods as protected using the `protected` keyword.\n",
    "\n",
    "```ruby\n",
    "class MyClass\n",
    "  def public_method\n",
    "    puts \"This is a public method\"\n",
    "    protected_method # Can be called with an explicit receiver\n",
    "  end\n",
    "  \n",
    "  protected\n",
    "  \n",
    "  def protected_method\n",
    "    puts \"This is a protected method\"\n",
    "  end\n",
    "end\n",
    "\n",
    "class SubClass < MyClass\n",
    "  def call_protected_method(obj)\n",
    "    obj.protected_method # Can be called with an explicit receiver in a subclass\n",
    "  end\n",
    "end\n",
    "\n",
    "obj = MyClass.new\n",
    "obj.public_method # Output: This is a public method This is a protected method\n",
    "\n",
    "sub_obj = SubClass.new\n",
    "sub_obj.call_protected_method(obj) # Output: This is a protected method\n",
    "```\n",
    "\n",
    "Understanding and appropriately using `private`, `public`, and `protected` keywords are crucial for designing well-encapsulated and maintainable Ruby code."
   ]
  },
  {
   "cell_type": "markdown",
   "id": "ae979e7d-e3e7-4fb0-9483-9a6cd9d5c5b3",
   "metadata": {},
   "source": [
    "# 12 The Use of Super in Ruby"
   ]
  },
  {
   "cell_type": "markdown",
   "id": "eebb4a35-0b9d-44ae-b9b8-58d6fe2604f0",
   "metadata": {},
   "source": [
    "In Ruby, `super` is used within a method to invoke the method of the same name in the superclass of the current class. This is particularly useful when you want to extend the functionality of a method defined in a superclass, while still maintaining the behavior of that method.\n",
    "\n",
    "Here's a basic example to illustrate the usage of `super`:\n",
    "\n",
    "```ruby\n",
    "class Parent\n",
    "  def greet\n",
    "    puts \"Hello from the Parent class!\"\n",
    "  end\n",
    "end\n",
    "\n",
    "class Child < Parent\n",
    "  def greet\n",
    "    super\n",
    "    puts \"Hello from the Child class!\"\n",
    "  end\n",
    "end\n",
    "\n",
    "child = Child.new\n",
    "child.greet\n",
    "```\n",
    "\n",
    "In this example:\n",
    "- The `Parent` class defines a method called `greet`.\n",
    "- The `Child` class inherits from `Parent` and overrides the `greet` method. Within the overridden `greet` method, `super` is called to invoke the `greet` method defined in the `Parent` class.\n",
    "- The output of `child.greet` will be:\n",
    "  ```\n",
    "  Hello from the Parent class!\n",
    "  Hello from the Child class!\n",
    "  ```\n",
    "\n",
    "So, `super` allows you to invoke the superclass's implementation of a method, enabling you to extend or modify its behavior within the subclass without completely redefining it. Additionally, you can pass arguments to `super` if the method in the superclass expects them, allowing for more flexible method chaining and overriding."
   ]
  },
  {
   "cell_type": "code",
   "execution_count": 10,
   "id": "77eb687d-6228-459a-b428-97e0eef87e49",
   "metadata": {},
   "outputs": [
    {
     "ename": "SyntaxError",
     "evalue": "(irb):16: syntax error, unexpected end-of-input, expecting `end' or dummy end",
     "output_type": "error",
     "traceback": [
      "\u001b[31mSyntaxError\u001b[0m: (irb):16: syntax error, unexpected end-of-input, expecting `end' or dummy end"
     ]
    }
   ],
   "source": [
    "class MomPBTechnique\n",
    "  def corner_cut(bread)\n",
    "    for corner in bread\n",
    "      corner.cut crust\n",
    "    end\n",
    "   return bread\n",
    "end\n",
    "\n",
    "class MyPBTechnique < MomPBTechnique\n",
    "  # I like *one* corner to not be cut!\n",
    "  def corner_cut\n",
    "    first_corner = self.bread[0] # Gets the first corner\n",
    "    self.bread = bread.slice(1, -1) # Sets the bread to only the last 3 corners\n",
    "    super # Calls the `corner_cut` method defined in `MomPBTechnique`\n",
    "    return bread.unshift(first_corner) # Places the un-cut first corner back in the bread\n",
    "  end\n",
    "end"
   ]
  },
  {
   "cell_type": "markdown",
   "id": "0c76b94d-a0a7-4c85-b5fb-34db5c7230ee",
   "metadata": {},
   "source": [
    "# 13 Symbol"
   ]
  },
  {
   "cell_type": "markdown",
   "id": "b05c725b-1f2c-4e89-ae9c-6cbda5267997",
   "metadata": {},
   "source": [
    "In Ruby, a symbol is a lightweight, immutable value that is used primarily as identifiers in a Ruby program. Symbols are often used as keys in hashes, for method names, and other situations where you need a unique identifier that is more efficient than using a string.\n",
    "\n",
    "Symbols are defined by a leading colon (`:`) followed by the symbol name. For example:\n",
    "\n",
    "```ruby\n",
    ":name\n",
    ":age\n",
    ":hello_world\n",
    "```\n",
    "\n",
    "Unlike strings, symbols are immutable and unique within the Ruby interpreter, meaning that any occurrence of `:name` in the code will refer to the same object in memory. This makes symbols more memory-efficient compared to strings, especially when used as keys in hashes.\n",
    "\n",
    "Symbols are commonly used in Ruby for:\n",
    "\n",
    "1. Hash keys:\n",
    "\n",
    "```ruby\n",
    "person = { name: \"John\", age: 30 }\n",
    "puts person[:name] # Output: John\n",
    "```\n",
    "\n",
    "2. Method names:\n",
    "\n",
    "```ruby\n",
    "define_method(:greet) do |name|\n",
    "  puts \"Hello, #{name}!\"\n",
    "end\n",
    "\n",
    "greet(\"Alice\") # Output: Hello, Alice!\n",
    "```\n",
    "\n",
    "3. Enumerations:\n",
    "\n",
    "```ruby\n",
    "status = :success\n",
    "case status\n",
    "    when :success\n",
    "      puts \"Operation successful!\"\n",
    "    when :error\n",
    "      puts \"An error occurred!\"\n",
    "end\n",
    "```\n",
    "\n",
    "Overall, symbols in Ruby are lightweight and efficient identifiers commonly used in various programming tasks."
   ]
  },
  {
   "cell_type": "code",
   "execution_count": null,
   "id": "87047a79-a468-44bb-b88f-23e5bf392b2c",
   "metadata": {},
   "outputs": [],
   "source": []
  }
 ],
 "metadata": {
  "kernelspec": {
   "display_name": "Ruby 3.2.3",
   "language": "ruby",
   "name": "ruby"
  },
  "language_info": {
   "file_extension": ".rb",
   "mimetype": "application/x-ruby",
   "name": "ruby",
   "version": "3.2.3"
  }
 },
 "nbformat": 4,
 "nbformat_minor": 5
}
