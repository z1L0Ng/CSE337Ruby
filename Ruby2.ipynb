{
 "cells": [
  {
   "cell_type": "markdown",
   "id": "a2b819b8-8f85-4344-8e73-1f838d1d4aa2",
   "metadata": {},
   "source": [
    "# Functions/Methods in Ruby \n",
    "* ( This is based on previous lecture)"
   ]
  },
  {
   "cell_type": "code",
   "execution_count": 4,
   "id": "f2b15b9c-935f-4d01-8609-79c598e9152f",
   "metadata": {},
   "outputs": [
    {
     "data": {
      "text/plain": [
       ":reverse_string"
      ]
     },
     "execution_count": 4,
     "metadata": {},
     "output_type": "execute_result"
    }
   ],
   "source": [
    "def reverse_string(str)\n",
    "  reversed = ''\n",
    "  i = str.length - 1\n",
    "  while i >= 0\n",
    "    reversed += str[i]\n",
    "    i -= 1\n",
    "  end\n",
    "  return reversed\n",
    "end\n"
   ]
  },
  {
   "cell_type": "code",
   "execution_count": 5,
   "id": "0595c7f3-b89d-42b3-a115-6f67a59278c9",
   "metadata": {},
   "outputs": [
    {
     "name": "stdout",
     "output_type": "stream",
     "text": [
      "!dlrow ,olleH\n"
     ]
    }
   ],
   "source": [
    "original_str = \"Hello, world!\"\n",
    "reversed_str = reverse_string(original_str)\n",
    "puts reversed_str\n"
   ]
  },
  {
   "cell_type": "markdown",
   "id": "6fcd024e-6539-42de-a3e5-fce184b7b04a",
   "metadata": {},
   "source": [
    "Try the above function / method using for , do, until loops strategy. This will give you the practice of the material\n",
    "    we covered for Ruby in the last lecture. There is a ruby \"reverse\" method for string. You can study it but donot use it for this \n",
    "        exercise"
   ]
  },
  {
   "cell_type": "markdown",
   "id": "a4163821-1568-4afd-8a29-f59f88268f41",
   "metadata": {},
   "source": [
    "# Arrays in Ruby"
   ]
  },
  {
   "cell_type": "markdown",
   "id": "4182ee4d-5baf-44fc-92f7-19726fcda963",
   "metadata": {},
   "source": [
    "## Creating an Array"
   ]
  },
  {
   "cell_type": "code",
   "execution_count": 1,
   "id": "0f10b1ce-563f-405e-917b-7cfafdd4164f",
   "metadata": {},
   "outputs": [
    {
     "name": "stdout",
     "output_type": "stream",
     "text": [
      "20\n",
      "20\n"
     ]
    }
   ],
   "source": [
    "names = Array.new(20)\n",
    "puts names.size  # This returns 20\n",
    "puts names.length # This also returns 20"
   ]
  },
  {
   "cell_type": "code",
   "execution_count": 3,
   "id": "09ad2d7b-c7a3-41b3-ad31-8a81ece11706",
   "metadata": {},
   "outputs": [
    {
     "name": "stdout",
     "output_type": "stream",
     "text": [
      "0\n",
      "0\n"
     ]
    }
   ],
   "source": [
    "# We are creating an empty array\n",
    "names = Array.new()\n",
    "puts names.size  # This returns 0\n",
    "puts names.length # This also returns 0"
   ]
  },
  {
   "cell_type": "markdown",
   "id": "a5fceb9f-0a52-4b74-b079-4ac0e321e860",
   "metadata": {},
   "source": [
    "## Array initialization"
   ]
  },
  {
   "cell_type": "code",
   "execution_count": 6,
   "id": "4f150020-bf10-42a7-8ebc-282d7d55c819",
   "metadata": {},
   "outputs": [
    {
     "name": "stdout",
     "output_type": "stream",
     "text": [
      "1\n",
      "1\n",
      "1\n",
      "1\n",
      "1\n",
      "1\n",
      "1\n",
      "1\n",
      "1\n",
      "1\n"
     ]
    }
   ],
   "source": [
    "names = Array.new(10,1)\n",
    "puts names"
   ]
  },
  {
   "cell_type": "code",
   "execution_count": 7,
   "id": "e31ef030-fcc8-4adc-bc2e-8d17f58f0843",
   "metadata": {},
   "outputs": [
    {
     "name": "stdout",
     "output_type": "stream",
     "text": [
      "[1, 1, 1, 1, 1, 1, 1, 1, 1, 1]\n"
     ]
    },
    {
     "data": {
      "text/plain": [
       "[1, 1, 1, 1, 1, 1, 1, 1, 1, 1]"
      ]
     },
     "execution_count": 7,
     "metadata": {},
     "output_type": "execute_result"
    }
   ],
   "source": [
    "p names"
   ]
  },
  {
   "cell_type": "code",
   "execution_count": 10,
   "id": "158c258f-9831-4d6f-8f3e-e8ef822c4af7",
   "metadata": {},
   "outputs": [
    {
     "data": {
      "text/plain": [
       "[0, 1, 2, 3, 4, 5, 6, 7, 8, 9]"
      ]
     },
     "execution_count": 10,
     "metadata": {},
     "output_type": "execute_result"
    }
   ],
   "source": [
    "names = Array (0..9)"
   ]
  },
  {
   "cell_type": "markdown",
   "id": "ea101b8f-c0ad-4d0b-91f4-cb1ce139426f",
   "metadata": {},
   "source": [
    "## Clear the Deck"
   ]
  },
  {
   "cell_type": "code",
   "execution_count": 50,
   "id": "21cdeb85-09c7-4c91-905c-9f0cfd7c3a70",
   "metadata": {},
   "outputs": [
    {
     "data": {
      "text/plain": [
       "true"
      ]
     },
     "execution_count": 50,
     "metadata": {},
     "output_type": "execute_result"
    }
   ],
   "source": [
    "months = Array.new(12,\"months\")\n",
    "#puts(months)\n",
    "months.clear\n",
    "months.empty?"
   ]
  },
  {
   "cell_type": "markdown",
   "id": "2e59bb7c-98db-4c04-906b-f48e6f5317e8",
   "metadata": {},
   "source": [
    "## Creating an Array with a Block"
   ]
  },
  {
   "cell_type": "code",
   "execution_count": 51,
   "id": "33219461-d175-4517-b942-50edab83833e",
   "metadata": {},
   "outputs": [
    {
     "name": "stdout",
     "output_type": "stream",
     "text": [
      "[0, 1, 4, 9, 16, 25, 36, 49, 64, 81]"
     ]
    }
   ],
   "source": [
    "num = Array.new (10) { |e| e = e ** 2 }\n",
    "print num"
   ]
  },
  {
   "cell_type": "markdown",
   "id": "b064230a-ae16-41c2-bedb-2ae741567b63",
   "metadata": {},
   "source": [
    "## Using [] to initialize an array"
   ]
  },
  {
   "cell_type": "code",
   "execution_count": 52,
   "id": "2bbf1edc-b143-477e-b733-4ab8cbb34a5d",
   "metadata": {},
   "outputs": [
    {
     "data": {
      "text/plain": [
       "[2, 3, 4]"
      ]
     },
     "execution_count": 52,
     "metadata": {},
     "output_type": "execute_result"
    }
   ],
   "source": [
    "arr = [1, 2, 3, 4, 5, 6]\n",
    "arr[2]    #=> 3\n",
    "arr[100]  #=> nil\n",
    "arr[-3]   #=> 4\n",
    "arr[2, 3] #=> [3, 4, 5]\n",
    "arr[1..4] #=> [2, 3, 4, 5]\n",
    "arr[1..-3] #=> [2, 3, 4]\n"
   ]
  },
  {
   "cell_type": "markdown",
   "id": "4732abc3-0c3e-41b0-8d37-d95957860d45",
   "metadata": {},
   "source": [
    "## Using Range and %w Operators"
   ]
  },
  {
   "cell_type": "code",
   "execution_count": 53,
   "id": "fc05905d-24ab-43c3-93b6-fd3849c7a4d1",
   "metadata": {},
   "outputs": [
    {
     "data": {
      "text/plain": [
       "[\"2000,\", \"2001,\", \"2002,\", \"2003,\", \"2004\"]"
      ]
     },
     "execution_count": 53,
     "metadata": {},
     "output_type": "execute_result"
    }
   ],
   "source": [
    "digits = Array(0..9)\n",
    "year = %w[2000, 2001, 2002, 2003, 2004]"
   ]
  },
  {
   "cell_type": "markdown",
   "id": "6c3c09ad-67e4-4378-964b-d6305592e326",
   "metadata": {},
   "source": [
    "## Concatination of Arrays"
   ]
  },
  {
   "cell_type": "code",
   "execution_count": 54,
   "id": "cfe1c34e-27f8-4580-9a3f-70b3fe541c28",
   "metadata": {},
   "outputs": [
    {
     "name": "stdout",
     "output_type": "stream",
     "text": [
      "[1, 2, 3, 4, 5, 6]\n"
     ]
    }
   ],
   "source": [
    "arr1 = [1, 2, 3]\n",
    "arr2 = [4, 5, 6]\n",
    "result = arr1 + arr2\n",
    "puts result.inspect\n",
    "# Output: [1, 2, 3, 4, 5, 6]\n"
   ]
  },
  {
   "cell_type": "code",
   "execution_count": 56,
   "id": "c91893d7-81e5-4561-bbee-fc07c23245c6",
   "metadata": {},
   "outputs": [
    {
     "name": "stdout",
     "output_type": "stream",
     "text": [
      "[1, 2, 3, 4]\n"
     ]
    },
    {
     "data": {
      "text/plain": [
       "[1, 2, 3, 4, [4, 5, 6]]"
      ]
     },
     "execution_count": 56,
     "metadata": {},
     "output_type": "execute_result"
    }
   ],
   "source": [
    "arr1 = [1, 2, 3]\n",
    "arr1 << 4\n",
    "puts arr1.inspect\n",
    "arr1 << arr2\n",
    "\n"
   ]
  },
  {
   "cell_type": "markdown",
   "id": "d115754b-7f23-4495-a465-80e9b64bdecd",
   "metadata": {},
   "source": [
    "## Set Operations on Array"
   ]
  },
  {
   "cell_type": "code",
   "execution_count": 29,
   "id": "e2e7f2c1-8802-45ab-abf5-cb46e5c7517d",
   "metadata": {},
   "outputs": [
    {
     "name": "stdout",
     "output_type": "stream",
     "text": [
      "[3][1, 2][1, 2, 3, 4, 5]"
     ]
    }
   ],
   "source": [
    "arr1 = [1, 2, 3]\n",
    "arr2 = [4, 5, 3]\n",
    "arr3 = arr1 & arr2\n",
    "arr4 = arr1 - arr2\n",
    "arr5 = arr1 | arr2\n",
    "print arr3\n",
    "print arr4\n",
    "print arr5"
   ]
  },
  {
   "cell_type": "markdown",
   "id": "39acf0ba-14e2-44e7-8bfe-1fbc80a01fe4",
   "metadata": {},
   "source": [
    "## Arrays as Stack"
   ]
  },
  {
   "cell_type": "code",
   "execution_count": 31,
   "id": "842d7574-c675-4b5e-8541-2d1631892fd9",
   "metadata": {},
   "outputs": [
    {
     "name": "stdout",
     "output_type": "stream",
     "text": [
      "[\"apple\", \"orange\"][\"apple\", \"orange\", \"mango\"][1, 2, 3, 4]"
     ]
    }
   ],
   "source": [
    "fruit = %w[apple orange banana]\n",
    "fruit.pop\n",
    "print fruit\n",
    "fruit.push \"mango\"\n",
    "print fruit\n",
    "number = [1,2,3,4,7]\n",
    "number.pop\n",
    "print number"
   ]
  },
  {
   "cell_type": "markdown",
   "id": "e0166979-80d7-4e20-b105-b756cf0d975a",
   "metadata": {},
   "source": [
    "## Comparing Arrays"
   ]
  },
  {
   "cell_type": "code",
   "execution_count": 32,
   "id": "d06a71cf-c8c1-4223-93cb-f185ba357cc2",
   "metadata": {},
   "outputs": [
    {
     "name": "stdout",
     "output_type": "stream",
     "text": [
      "true\n"
     ]
    }
   ],
   "source": [
    "arr1 = [1, 2, 3]\n",
    "arr2 = [1, 2, 3]\n",
    "\n",
    "puts arr1 == arr2  # Output: true"
   ]
  },
  {
   "cell_type": "markdown",
   "id": "33bb5ebc-fd52-480b-89b1-c8db9cb1455c",
   "metadata": {},
   "source": [
    "## Multi Dimensional Arrays"
   ]
  },
  {
   "cell_type": "code",
   "execution_count": 6,
   "id": "00b099da-094b-40f7-abb1-40cda81f8df4",
   "metadata": {},
   "outputs": [
    {
     "name": "stdout",
     "output_type": "stream",
     "text": [
      "1\n",
      "[[1, 2, 3, 4, 5, 6, 7, 8, 9], [1, 2, 3, 4, 5, 6, 7, 8, 9], [1, 2, 3, 4, 5, 6, 7, 8, 9], [1, 2, 3, 4, 5, 6, 7, 8, 9], [1, 2, 3, 4, 5, 6, 7, 8, 9], [1, 2, 3, 4, 5, 6, 7, 8, 9], [1, 2, 3, 4, 5, 6, 7, 8, 9], [1, 2, 3, 4, 5, 6, 7, 8, 9], [1, 2, 3, 4, 5, 6, 7, 8, 9]][1, 2, 3, 4, 5, 6, 7, 8, 9, 1, 2, 3, 4, 5, 6, 7, 8, 9, 1, 2, 3, 4, 5, 6, 7, 8, 9, 1, 2, 3, 4, 5, 6, 7, 8, 9, 1, 2, 3, 4, 5, 6, 7, 8, 9, 1, 2, 3, 4, 5, 6, 7, 8, 9, 1, 2, 3, 4, 5, 6, 7, 8, 9, 1, 2, 3, 4, 5, 6, 7, 8, 9, 1, 2, 3, 4, 5, 6, 7, 8, 9]"
     ]
    }
   ],
   "source": [
    "output = [[1,1,1,1,1,1,1,1,1],\n",
    "          [2,2,2,2,2,2,2,2,2],\n",
    "          [3,3,3,3,3,3,3,3,3],\n",
    "          [4,4,4,4,4,4,4,4,4],\n",
    "          [5,5,5,5,5,5,5,5,5],\n",
    "          [6,6,6,6,6,6,6,6,6],\n",
    "          [7,7,7,7,7,7,7,7,7],\n",
    "          [8,8,8,8,8,8,8,8,8],\n",
    "          [9,9,9,9,9,9,9,9,9]]\n",
    "puts output[0][1]\n",
    "arr2 = output.transpose\n",
    "print arr2\n",
    "print arr2.flatten"
   ]
  },
  {
   "cell_type": "markdown",
   "id": "59cf7cfa-b79e-40cc-9ca0-213be263057f",
   "metadata": {},
   "source": [
    "# Hashes in Ruby"
   ]
  },
  {
   "cell_type": "markdown",
   "id": "7f0c9abd-822b-40b2-abf7-67c7dabc3c06",
   "metadata": {},
   "source": [
    "### Creating Hashes"
   ]
  },
  {
   "cell_type": "code",
   "execution_count": 39,
   "id": "33b25d06-902d-4f68-a59c-7d00de694175",
   "metadata": {},
   "outputs": [
    {
     "data": {
      "text/plain": [
       "0"
      ]
     },
     "execution_count": 39,
     "metadata": {},
     "output_type": "execute_result"
    }
   ],
   "source": [
    "months = Hash.new\n",
    "months.empty?\n",
    "months.length\n",
    "months.size"
   ]
  },
  {
   "cell_type": "markdown",
   "id": "947254ea-2e69-45e4-b7bf-18b39a1db6f1",
   "metadata": {},
   "source": [
    "### Deafult Value"
   ]
  },
  {
   "cell_type": "code",
   "execution_count": 40,
   "id": "54e06ef5-dd53-4a3e-b81a-ae066194e375",
   "metadata": {},
   "outputs": [
    {
     "data": {
      "text/plain": [
       "\"month\""
      ]
     },
     "execution_count": 40,
     "metadata": {},
     "output_type": "execute_result"
    }
   ],
   "source": [
    "months = Hash.new(\"month\")\n",
    "months = Hash.new \"month\"\n",
    "# with any key value it will return month\n",
    "months[0]\n",
    "months[72]\n"
   ]
  },
  {
   "cell_type": "markdown",
   "id": "e7a61b6f-7ad4-4244-8b80-45b7c55b329e",
   "metadata": {},
   "source": [
    "### Initializing Hashes"
   ]
  },
  {
   "cell_type": "code",
   "execution_count": 41,
   "id": "79565d1b-4b8c-4268-9b77-b204f09ca9ad",
   "metadata": {},
   "outputs": [
    {
     "name": "stdout",
     "output_type": "stream",
     "text": [
      "{\"x\"=>30, \"y\"=>19}\n",
      "{\"x\"=>30, \"y\"=>19}\n"
     ]
    },
    {
     "data": {
      "text/plain": [
       "{\"x\"=>30, \"y\"=>19}"
      ]
     },
     "execution_count": 41,
     "metadata": {},
     "output_type": "execute_result"
    }
   ],
   "source": [
    "# Ruby program to illustrate \n",
    "# use of []\n",
    "# Using []\n",
    "p Hash[\"x\", 30, \"y\", 19] \n",
    "p Hash[\"x\" => 30, \"y\" => 19]\n"
   ]
  },
  {
   "cell_type": "code",
   "execution_count": 42,
   "id": "f3b97943-fe46-491c-9fc7-88e1ce0afb7b",
   "metadata": {},
   "outputs": [
    {
     "name": "stdout",
     "output_type": "stream",
     "text": [
      "40\n",
      "49\n",
      "\"StonyBrookUniversity\"\n",
      "\"StonyBrookUniversity\"\n",
      "\"StonyBrookUniversity\"\n",
      "\"StonyBrookUniversity\"\n",
      "\"StonyBrookUniversity\"\n"
     ]
    },
    {
     "data": {
      "text/plain": [
       "\"StonyBrookUniversity\""
      ]
     },
     "execution_count": 42,
     "metadata": {},
     "output_type": "execute_result"
    }
   ],
   "source": [
    "# Ruby program to illustrate \n",
    "# use of new method\n",
    "\n",
    "# Using new method\n",
    "a = Hash.new(\"StonyBrookUniversity\")\n",
    "p a[\"S\"] = 40\n",
    "p a[\"t\"] = 49\n",
    "p a[\"o\"] \n",
    "p a[\"n\"]\n",
    "p a[\"y\"]\n",
    "p a[\"B\"]\n",
    "p a[\"r\"]\n"
   ]
  },
  {
   "cell_type": "code",
   "execution_count": 8,
   "id": "22a83118-1550-472b-b31d-53b210695596",
   "metadata": {},
   "outputs": [
    {
     "name": "stdout",
     "output_type": "stream",
     "text": [
      "{3=>8}\n",
      "nil\n"
     ]
    }
   ],
   "source": [
    "# Ruby program to illustrate \n",
    "# use of try_convert method \n",
    "\n",
    "# Using try_convert method\n",
    "p Hash.try_convert({3=>8})\n",
    "p Hash.try_convert(\"3=>8\")\n"
   ]
  },
  {
   "cell_type": "markdown",
   "id": "31499fe8-7fc6-4efe-8da2-ae5d898d4cf3",
   "metadata": {},
   "source": [
    "### Acessing Hashes"
   ]
  },
  {
   "cell_type": "code",
   "execution_count": 44,
   "id": "53ce45b7-b19a-43b6-a98c-5212c96a8ccd",
   "metadata": {},
   "outputs": [
    {
     "name": "stdout",
     "output_type": "stream",
     "text": [
      "45\n",
      "nil\n"
     ]
    }
   ],
   "source": [
    "# Ruby program to illustrate \n",
    "# use of []\n",
    "\n",
    "a = {\"x\" => 45, \"y\" => 67}\n",
    "\n",
    "# Using []\n",
    "p a[\"x\"] \n",
    "p a[\"z\"]\n"
   ]
  },
  {
   "cell_type": "markdown",
   "id": "26bb1fa4-6ddf-4618-ab5d-3e524dee2eca",
   "metadata": {},
   "source": [
    "## Iterating over hashes"
   ]
  },
  {
   "cell_type": "code",
   "execution_count": 46,
   "id": "8d1c875d-d0a3-4fe5-bf85-54de6b4d53f0",
   "metadata": {},
   "outputs": [
    {
     "name": "stdout",
     "output_type": "stream",
     "text": [
      "noodles: 4\n",
      "soup: 3\n",
      "salad: 2\n"
     ]
    },
    {
     "data": {
      "text/plain": [
       "{\"noodles\"=>4, \"soup\"=>3, \"salad\"=>2}"
      ]
     },
     "execution_count": 46,
     "metadata": {},
     "output_type": "execute_result"
    }
   ],
   "source": [
    "=begin\n",
    "\n",
    "Iterating Over Hashes\n",
    "\n",
    "When iterating over hashes, we need two placeholder variables to represent each key/value pair.\n",
    "=end\n",
    "restaurant_menu = {\n",
    "  \"noodles\" => 4,\n",
    "  \"soup\" => 3,\n",
    "  \"salad\" => 2\n",
    "}\n",
    "\n",
    "restaurant_menu.each do |item, price|\n",
    "  puts \"#{item}: #{price}\"\n",
    "end\n",
    "\n",
    "=begin\n",
    "    In the example above, we create a new hash called restaurant_menu.\n",
    "    Then, we loop through the restaurant_menu hash and assign the key to item and the value to price for each iteration.\n",
    "    Finally, we puts out:\n",
    "\n",
    "noodles: 4\n",
    "soup: 3\n",
    "salad: 2\n",
    "\n",
    "Instructions\n",
    "\n",
    "    Use .each to iterate over the secret_identities hash.\n",
    "    Use puts to print each key-value pair, separated by a colon and a space (:), to the console, just like the example above.\n",
    "=end\n",
    "\n"
   ]
  },
  {
   "cell_type": "code",
   "execution_count": 48,
   "id": "7dba8638-4c56-4c2e-a140-245f9216ecc3",
   "metadata": {},
   "outputs": [
    {
     "name": "stdout",
     "output_type": "stream",
     "text": [
      "34\n",
      "nil\n"
     ]
    }
   ],
   "source": [
    "# Ruby program to illustrate \n",
    "# use of delete method\n",
    "\n",
    "a = {\"x\" => 34, \"y\" => 60}\n",
    "\n",
    "# Using delete method\n",
    "p a.delete(\"x\") \n",
    "p a.delete(\"z\") \n"
   ]
  },
  {
   "cell_type": "code",
   "execution_count": 49,
   "id": "49382a3f-787f-45d0-a9a8-ca16a98f8a57",
   "metadata": {},
   "outputs": [
    {
     "name": "stdout",
     "output_type": "stream",
     "text": [
      "{\"x\"=>34}\n"
     ]
    },
    {
     "data": {
      "text/plain": [
       "{\"x\"=>34}"
      ]
     },
     "execution_count": 49,
     "metadata": {},
     "output_type": "execute_result"
    }
   ],
   "source": [
    "# Ruby program to illustrate \n",
    "# use of delete_if method\n",
    "\n",
    "a = {\"x\" => 34, \"y\" => 60}\n",
    "\n",
    "# Using delete_if method\n",
    "p a.delete_if {|key, value| key >= \"y\"}\n"
   ]
  },
  {
   "cell_type": "code",
   "execution_count": 50,
   "id": "ad84936d-a4bf-4e65-8bb1-be79e055f2e4",
   "metadata": {},
   "outputs": [
    {
     "name": "stdout",
     "output_type": "stream",
     "text": [
      "the value of x is 34\n",
      "the value of y is 60\n"
     ]
    },
    {
     "data": {
      "text/plain": [
       "{\"x\"=>34, \"y\"=>60}"
      ]
     },
     "execution_count": 50,
     "metadata": {},
     "output_type": "execute_result"
    }
   ],
   "source": [
    "# Ruby program to illustrate \n",
    "# use of each method\n",
    "\n",
    "a = {\"x\" => 34, \"y\" => 60}\n",
    "\n",
    "# Using each method\n",
    "a.each {|key, value| puts \"the value of #{key} is #{value}\" }\n"
   ]
  },
  {
   "cell_type": "code",
   "execution_count": 51,
   "id": "a1035ec6-e64c-4dc6-9180-b17e1c0c640e",
   "metadata": {},
   "outputs": [
    {
     "name": "stdout",
     "output_type": "stream",
     "text": [
      "{\"g\"=>23, \"h\"=>2343, \"i\"=>4340}\n"
     ]
    },
    {
     "data": {
      "text/plain": [
       "{\"g\"=>23, \"h\"=>2343, \"i\"=>4340}"
      ]
     },
     "execution_count": 51,
     "metadata": {},
     "output_type": "execute_result"
    }
   ],
   "source": [
    "# Ruby program to illustrate \n",
    "# use of merge method\n",
    "\n",
    "a1 = { \"g\" => 23, \"h\" => 25 }\n",
    "a2 = { \"h\" => 2343, \"i\" => 4340 }\n",
    "\n",
    "# Using merge method\n",
    "p a1.merge(a2) \n"
   ]
  },
  {
   "cell_type": "markdown",
   "id": "562843d4-a01b-40dd-861b-d7336d9ff0fe",
   "metadata": {},
   "source": [
    "# Blocks in Ruby"
   ]
  },
  {
   "cell_type": "markdown",
   "id": "0043f5ef-d347-474e-89b3-81522adc4ce9",
   "metadata": {},
   "source": [
    "## Example 1"
   ]
  },
  {
   "cell_type": "code",
   "execution_count": 16,
   "id": "40244540-092c-4b75-afe1-b1ab29d61e24",
   "metadata": {},
   "outputs": [
    {
     "name": "stdout",
     "output_type": "stream",
     "text": [
      "ABCDEF55"
     ]
    },
    {
     "data": {
      "text/plain": [
       "[\"ABC\", \"DEF\", 55]"
      ]
     },
     "execution_count": 16,
     "metadata": {},
     "output_type": "execute_result"
    }
   ],
   "source": [
    "# Ruby program to demonstrate the block\n",
    "\n",
    "# here 'each' is the method name \n",
    "# or block name \n",
    "# n is the variable\n",
    " [\"ABC\", \"DEF\", 55].each { |n| print n}\n"
   ]
  },
  {
   "cell_type": "markdown",
   "id": "41a443c2-1dec-42e8-8e65-2079785ccedf",
   "metadata": {},
   "source": [
    "## Example 2"
   ]
  },
  {
   "cell_type": "code",
   "execution_count": 17,
   "id": "d45b8bc6-348d-43f4-8c41-24cafae07d93",
   "metadata": {},
   "outputs": [
    {
     "name": "stdout",
     "output_type": "stream",
     "text": [
      "2\n",
      "4\n"
     ]
    }
   ],
   "source": [
    "# Ruby program to demonstrate how block returns the values\n",
    "\n",
    "# here two methods called i.e 'select' and 'even?'\n",
    "# even? method is called inside the block\n",
    "puts [1, 2, 3, 4, 5].select { |num| num.even? }\n"
   ]
  },
  {
   "cell_type": "markdown",
   "id": "33788c8e-073e-4c28-a681-0d91cc61b366",
   "metadata": {},
   "source": [
    "## Example 3 \n",
    "### Block with Two Variables"
   ]
  },
  {
   "cell_type": "code",
   "execution_count": 18,
   "id": "bc339988-559c-4386-a285-2e3b4403467e",
   "metadata": {},
   "outputs": [
    {
     "name": "stdout",
     "output_type": "stream",
     "text": [
      "\n",
      "1\n",
      "\n",
      "4\n",
      "\n",
      "9\n",
      "\n",
      "16\n",
      "30\n",
      "some shape\n"
     ]
    }
   ],
   "source": [
    " square = \"some shape\"\n",
    " sum = 0\n",
    " [1, 2, 3, 4].each do |value; square|\n",
    "     puts square = value * value\n",
    " # this is a different variable\n",
    " sum += square\n",
    " end\n",
    " puts sum\n",
    " puts square"
   ]
  },
  {
   "cell_type": "markdown",
   "id": "d103de76-722e-489d-97aa-8c4114c6e94a",
   "metadata": {},
   "source": [
    "## Example 4\n",
    "##### More examples on Blocks"
   ]
  },
  {
   "cell_type": "code",
   "execution_count": 19,
   "id": "cd8490e2-e286-4127-9383-c576014831eb",
   "metadata": {},
   "outputs": [
    {
     "name": "stdout",
     "output_type": "stream",
     "text": [
      "Example 4-1\n",
      "0\n",
      "1\n",
      "2\n",
      "0\n",
      "1\n",
      "2\n",
      "Example 4-1\n",
      "1\n",
      "2\n",
      "3\n",
      "Example 4-2\n",
      "one\n",
      "two\n",
      "three\n",
      "four\n"
     ]
    },
    {
     "data": {
      "text/plain": [
       "[\"one\", \"two\", \"three\", \"four\"]"
      ]
     },
     "execution_count": 19,
     "metadata": {},
     "output_type": "execute_result"
    }
   ],
   "source": [
    "puts (\"Example 4-1\")\n",
    "3.times do |i| \n",
    "puts( i ) \n",
    "end\n",
    "########################\n",
    "3.times { |i| \n",
    "puts( i ) \n",
    "}\n",
    "\n",
    "###### using Range Operator\n",
    "puts ( \"Example 4-1\")\n",
    "(1..3).each do |i| \n",
    "puts(i)  \n",
    "end \n",
    "###### On array \n",
    "puts (\"Example 4-2\")\n",
    "\n",
    "arr = ['one','two','three','four'] \n",
    "arr.each do |s| \n",
    "puts(s) \n",
    "end \n",
    "\n"
   ]
  },
  {
   "cell_type": "markdown",
   "id": "83d61bd3-ec29-44ea-a4b2-2992eb0136d9",
   "metadata": {},
   "source": [
    "## Example 4-A\n",
    "### Concept of yield and Block in Ruby"
   ]
  },
  {
   "cell_type": "code",
   "execution_count": 18,
   "id": "2b0bf19e-6c36-4782-87f2-b4bebfdbf1a2",
   "metadata": {},
   "outputs": [
    {
     "ename": "LocalJumpError",
     "evalue": "no block given (yield)",
     "output_type": "error",
     "traceback": [
      "\u001b[31mLocalJumpError\u001b[0m: no block given (yield)",
      "(irb):1:in `gimme'",
      "(irb):4:in `<top (required)>'"
     ]
    }
   ],
   "source": [
    "def gimme\n",
    "    yield\n",
    "end\n",
    "\n",
    "gimme"
   ]
  },
  {
   "cell_type": "code",
   "execution_count": 19,
   "id": "a67ad820-5bb4-4c3b-9523-8c701d5aad8c",
   "metadata": {},
   "outputs": [
    {
     "name": "stdout",
     "output_type": "stream",
     "text": [
      " I am blockless!\n"
     ]
    }
   ],
   "source": [
    "def gimme\n",
    "    if block_given?\n",
    "        yield\n",
    "    else\n",
    "        puts \" I am blockless!\"\n",
    "    end\n",
    "end\n",
    "\n",
    "gimme"
   ]
  },
  {
   "cell_type": "code",
   "execution_count": 21,
   "id": "66ef1a60-2df7-43c0-910d-32aaf0dfd005",
   "metadata": {},
   "outputs": [
    {
     "name": "stdout",
     "output_type": "stream",
     "text": [
      "Hello CSE/ISE 337\n"
     ]
    }
   ],
   "source": [
    "gimme { puts \"Hello CSE/ISE 337\"}"
   ]
  },
  {
   "cell_type": "code",
   "execution_count": 22,
   "id": "a3d77abb-ce6a-4ff0-98a3-db781be26cb8",
   "metadata": {},
   "outputs": [
    {
     "data": {
      "text/plain": [
       ":gimme"
      ]
     },
     "execution_count": 22,
     "metadata": {},
     "output_type": "execute_result"
    }
   ],
   "source": [
    "def gimme\n",
    "    if block_given?\n",
    "        yield\n",
    "        yield\n",
    "    else\n",
    "        puts \" I am blockless!\"\n",
    "    end\n",
    "end\n"
   ]
  },
  {
   "cell_type": "code",
   "execution_count": 23,
   "id": "d5bb0e65-7b14-4980-8b82-a5467c055c59",
   "metadata": {},
   "outputs": [
    {
     "name": "stdout",
     "output_type": "stream",
     "text": [
      "Hello CSE/ISE 337\n",
      "Hello CSE/ISE 337\n"
     ]
    }
   ],
   "source": [
    "gimme { puts \"Hello CSE/ISE 337\"}"
   ]
  },
  {
   "cell_type": "code",
   "execution_count": 1,
   "id": "d7a278a0-63fa-4bb9-add2-2a936197e708",
   "metadata": {},
   "outputs": [
    {
     "name": "stdout",
     "output_type": "stream",
     "text": [
      "Thank you\n",
      " You are welcome.\n"
     ]
    }
   ],
   "source": [
    "def gimme\n",
    "    if block_given?\n",
    "        yield\n",
    "    else\n",
    "        puts \"Oops, no block.\"\n",
    "    end\n",
    "    puts \" You are welcome.\" # execute right after yield\n",
    "end\n",
    "\n",
    "gimme { print \"Thank you\\n\"}"
   ]
  },
  {
   "cell_type": "markdown",
   "id": "819d1ace-3b16-451a-b1bd-dbd2ff737284",
   "metadata": {},
   "source": [
    "# Procs in Ruby"
   ]
  },
  {
   "cell_type": "markdown",
   "id": "54fc9d02-9b45-4144-a793-709834685b8c",
   "metadata": {},
   "source": [
    "## Example 1"
   ]
  },
  {
   "cell_type": "code",
   "execution_count": 29,
   "id": "1c007cb9-2b98-4fa7-a5a9-6b319b25d4e8",
   "metadata": {},
   "outputs": [
    {
     "name": "stdout",
     "output_type": "stream",
     "text": [
      "Hello World\n"
     ]
    }
   ],
   "source": [
    "# Ruby program to illustrate Procs \n",
    "\n",
    "# Creating proc \n",
    "example = Proc.new{\"Hello World\"} \n",
    "\n",
    "# Executing proc \n",
    "# Using .call method \n",
    "puts example.call \n"
   ]
  },
  {
   "cell_type": "markdown",
   "id": "f604a8e8-2bf4-44e3-a6bd-095607460816",
   "metadata": {},
   "source": [
    "## Example 2"
   ]
  },
  {
   "cell_type": "code",
   "execution_count": 30,
   "id": "146f29f3-8fb4-4709-a414-5f928f2b0bce",
   "metadata": {},
   "outputs": [
    {
     "name": "stdout",
     "output_type": "stream",
     "text": [
      "x = 1, y = 2\n",
      "x = 2, y = 1\n",
      "x = 3, y = 4\n",
      "x = 9, y = \n"
     ]
    }
   ],
   "source": [
    "# Ruby program to illustrate Procs \n",
    "\n",
    "# Creating proc \n",
    "a = Proc.new {|x, y| \"x = #{x}, y = #{y}\" } \n",
    "\n",
    "# Executing proc \n",
    "puts a.call(1, 2)\t \n",
    "puts a.call([2, 1])\t \n",
    "puts a.call(3, 4, 8) \n",
    "puts a.call(9) \n"
   ]
  },
  {
   "cell_type": "markdown",
   "id": "ead1f1d9-c024-4b67-a1c6-5c453c0f418e",
   "metadata": {},
   "source": [
    "# Passing Block as Argument to a function"
   ]
  },
  {
   "cell_type": "code",
   "execution_count": 20,
   "id": "cd1552d2-895f-4c77-85e1-ece0dac448b6",
   "metadata": {},
   "outputs": [
    {
     "name": "stdout",
     "output_type": "stream",
     "text": [
      "2\n",
      "4\n",
      "6\n",
      "8\n",
      "10\n"
     ]
    }
   ],
   "source": [
    "# block is not being used as an argument\n",
    "def sequence (n, m, c)\n",
    "    i =0\n",
    "    while ( i < n)\n",
    "        yield i * m + c\n",
    "        i += 1\n",
    "    end\n",
    "end\n",
    "\n",
    "sequence(5, 2, 2) {|x| puts x}"
   ]
  },
  {
   "cell_type": "code",
   "execution_count": 21,
   "id": "c3f9131a-f0bc-4912-ad55-cbc3ac2987fc",
   "metadata": {},
   "outputs": [
    {
     "name": "stdout",
     "output_type": "stream",
     "text": [
      "2\n",
      "4\n",
      "6\n",
      "8\n",
      "10\n"
     ]
    }
   ],
   "source": [
    "# argument has been created with & sign to take the block\n",
    "# it should be the last argument as well\n",
    "def sequence (n, m, c, &b)\n",
    "    i =0\n",
    "    while ( i < n)\n",
    "        b.call(i * m + c)\n",
    "        i += 1\n",
    "    end\n",
    "end\n",
    "\n",
    "sequence(5, 2, 2) {|x| puts x}"
   ]
  },
  {
   "cell_type": "code",
   "execution_count": 22,
   "id": "88a3c196-bf1a-4730-8bc9-b1a31d510532",
   "metadata": {},
   "outputs": [
    {
     "name": "stdout",
     "output_type": "stream",
     "text": [
      "2\n",
      "4\n",
      "6\n",
      "8\n",
      "10\n"
     ]
    }
   ],
   "source": [
    "# Proc is given as an argument\n",
    "def sequence (n, m, c, b)\n",
    "    i =0\n",
    "    while ( i < n)\n",
    "        b.call (i * m + c)\n",
    "        i += 1\n",
    "    end\n",
    "end\n",
    "\n",
    "p = Proc.new {|x| puts x}\n",
    "sequence(5, 2, 2, p)"
   ]
  },
  {
   "cell_type": "markdown",
   "id": "9b2031a3-a9b0-4d8c-9e77-fb91647532a0",
   "metadata": {},
   "source": [
    "# Blocks within Blocks"
   ]
  },
  {
   "cell_type": "code",
   "execution_count": 23,
   "id": "661fb483-ceb7-4f47-8325-54b080cdf05e",
   "metadata": {},
   "outputs": [
    {
     "name": "stdout",
     "output_type": "stream",
     "text": [
      "Hello\n",
      "Good day\n",
      "How do you do\n"
     ]
    },
    {
     "data": {
      "text/plain": [
       "[\"Hello\", \"Good day\", \"How do you do\"]"
      ]
     },
     "execution_count": 23,
     "metadata": {},
     "output_type": "execute_result"
    }
   ],
   "source": [
    "# This is a very good example. Try to comprehend it!\n",
    "# This is very useful if you are considering Ruby for the future work!\n",
    "\n",
    "def caps( anarg )  \n",
    "    yield( anarg ) \n",
    "end \n",
    "\n",
    "[\"hello\",\"good day\",\"how do you do\"].each{  \n",
    "|s|  \n",
    "    caps(s){ |x| x.capitalize! \n",
    "        puts( x ) \n",
    "    }   \n",
    "}"
   ]
  },
  {
   "cell_type": "markdown",
   "id": "777267f9-950e-43b3-bcf4-ad82ce94bf83",
   "metadata": {},
   "source": [
    "# Lambda"
   ]
  },
  {
   "cell_type": "code",
   "execution_count": 2,
   "id": "c33a9fcb-1e7a-4577-96b6-028def63f4cc",
   "metadata": {},
   "outputs": [
    {
     "name": "stdout",
     "output_type": "stream",
     "text": [
      "20\n",
      "Stony Brook University\tStony Brook University\tStony Brook University\t\n"
     ]
    }
   ],
   "source": [
    "# Ruby program to illustrate lambda \n",
    "\n",
    "# Creating lambda \n",
    "times_one = ->(x){ x * 2 } \n",
    "\n",
    "# Displaying result \n",
    "puts times_one.call(10) \n",
    "\n",
    "# Creating lambda \n",
    "times_two = lambda{\"Stony Brook University\\t\"*3} \n",
    "\n",
    "# Displaying result \n",
    "puts times_two.call "
   ]
  },
  {
   "cell_type": "markdown",
   "id": "8e797bb8-bba1-4b77-9d93-bb0731ef7bb1",
   "metadata": {},
   "source": [
    "# BEGIN and END Block in Ruby"
   ]
  },
  {
   "cell_type": "code",
   "execution_count": 25,
   "id": "8301b0b0-7a5a-4328-8d76-b94aa64937aa",
   "metadata": {},
   "outputs": [
    {
     "name": "stdout",
     "output_type": "stream",
     "text": [
      "This is BEGIN block code\n",
      "7\n",
      "Main Block\n"
     ]
    }
   ],
   "source": [
    "# Ruby Program of BEGIN and END Block \n",
    "# The end part does work in the Jupyter notebook But it run on the terminal!\n",
    "\n",
    "# BEGIN block \n",
    "BEGIN { \n",
    "\n",
    "a = 4\n",
    "b = 3\n",
    "c = a + b \n",
    "\t\t\n",
    "# BEGIN block code \n",
    "puts \"This is BEGIN block code\"\n",
    "puts c \n",
    "\n",
    "} \n",
    "\t\n",
    "# END block \n",
    "END { \n",
    "\n",
    "a = 4\n",
    "b = 3\n",
    "c = a * b \n",
    "\t\t\n",
    "# END block code \n",
    "puts \"This is END block code\"\n",
    "puts c \n",
    "} \n",
    "\t\n",
    "# Code will execute before END block \n",
    "puts \"Main Block\""
   ]
  },
  {
   "cell_type": "markdown",
   "id": "4e8b22e2-a0b9-4762-abba-723c9b485f4a",
   "metadata": {},
   "source": [
    "# Iterators in Ruby"
   ]
  },
  {
   "cell_type": "code",
   "execution_count": 11,
   "id": "ac3ee760-2c4f-4229-ab3b-7ffd459c513e",
   "metadata": {},
   "outputs": [
    {
     "name": "stdout",
     "output_type": "stream",
     "text": [
      "0\n",
      "1\n",
      "2\n",
      "3\n",
      "4\n",
      "5\n",
      "6\n",
      "7\n",
      "8\n",
      "9\n",
      "\n",
      "St\n",
      "on\n",
      "y\n",
      "Brok\n",
      "University\n"
     ]
    },
    {
     "data": {
      "text/plain": [
       "[\"St\", \"on\", \"y\", \"Brok\", \"University\"]"
      ]
     },
     "execution_count": 11,
     "metadata": {},
     "output_type": "execute_result"
    }
   ],
   "source": [
    "# Ruby program to illustrate each iterator\n",
    "\n",
    "#!/usr/bin/ruby \n",
    "\n",
    "# using each iterator\n",
    "# here collection is range\n",
    "# variable name is i\n",
    "(0..9).each do |i|\n",
    "\t\n",
    "\t# statement to be executed\n",
    "\tputs i\n",
    "\t\n",
    "end\n",
    "\n",
    "a = ['St', 'on', 'y', 'Brok', 'University']\n",
    "\n",
    "puts \"\\n\"\n",
    "\n",
    "# using each iterator\n",
    "# here collection is an array\n",
    "a.each do|arr|\n",
    "\n",
    "\t# statement to be executed\n",
    "\tputs arr\n",
    "\t\n",
    "end\n"
   ]
  },
  {
   "cell_type": "code",
   "execution_count": 12,
   "id": "4e60c92c-b56f-4794-8721-069c4cc3ac01",
   "metadata": {},
   "outputs": [
    {
     "name": "stdout",
     "output_type": "stream",
     "text": [
      "5\n",
      "10\n",
      "15\n",
      "20\n",
      "25\n",
      "30\n",
      "35\n",
      "40\n",
      "45\n",
      "50\n"
     ]
    }
   ],
   "source": [
    "# Ruby program to illustrate the collect iterator\n",
    "\n",
    "#!/usr/bin/ruby\n",
    "\n",
    "a = [1, 2, 3, 4, 5, 6, 7, 8, 9, 10]\n",
    "\n",
    "# using collect iterator\n",
    "# printing table of 5\n",
    "b = a.collect{ |y| (5 * y) }\n",
    "puts b\n"
   ]
  },
  {
   "cell_type": "markdown",
   "id": "2107d6b4-4ca4-4009-be2e-051c64299402",
   "metadata": {},
   "source": [
    "#### time iterator"
   ]
  },
  {
   "cell_type": "code",
   "execution_count": 13,
   "id": "5fd74d23-f673-455e-a5b7-f152c5fe1689",
   "metadata": {},
   "outputs": [
    {
     "name": "stdout",
     "output_type": "stream",
     "text": [
      "0\n",
      "1\n",
      "2\n",
      "3\n",
      "4\n",
      "5\n",
      "6\n"
     ]
    },
    {
     "data": {
      "text/plain": [
       "7"
      ]
     },
     "execution_count": 13,
     "metadata": {},
     "output_type": "execute_result"
    }
   ],
   "source": [
    "# Ruby program to illustrate time iterator\n",
    "\n",
    "#!/usr/bin/ruby\n",
    "\n",
    "# using times iterator by providing \n",
    "# 7 as the iterate value\n",
    "7.times do |i|\n",
    "\tputs i\n",
    "end\n"
   ]
  },
  {
   "cell_type": "code",
   "execution_count": 14,
   "id": "2d1ac22e-7681-404b-b087-c830d5505797",
   "metadata": {},
   "outputs": [
    {
     "name": "stdout",
     "output_type": "stream",
     "text": [
      "4\n",
      "5\n",
      "6\n",
      "7\n"
     ]
    },
    {
     "data": {
      "text/plain": [
       "7"
      ]
     },
     "execution_count": 14,
     "metadata": {},
     "output_type": "execute_result"
    }
   ],
   "source": [
    "# Ruby program to illustrate the upto iterator\n",
    "\n",
    "#!/usr/bin/ruby\n",
    "\n",
    "# using upto iterator\n",
    "# here top value is 4\n",
    "# bottom value is 7\n",
    "4.upto(7) do |n| \n",
    "puts n \n",
    "end\n",
    "\n",
    "# here top > bottom\n",
    "# so no output\n",
    "7.upto(4) do |n| \n",
    "puts n \n",
    "end\n"
   ]
  },
  {
   "cell_type": "code",
   "execution_count": null,
   "id": "992ab5b9-540b-4028-8fae-3d2233a910eb",
   "metadata": {},
   "outputs": [],
   "source": [
    "# Ruby program to illustrate the downto iterator\n",
    "\n",
    "#!/usr/bin/ruby\n",
    "\n",
    "# using downto iterator\n",
    "# here top value is 7\n",
    "# bottom value is 4\n",
    "7.downto(4) do |n| \n",
    "puts n \n",
    "end\n",
    "\n",
    "# here top < bottom\n",
    "# so no output\n",
    "4.downto(7) do |n| \n",
    "puts n \n",
    "end\n"
   ]
  },
  {
   "cell_type": "code",
   "execution_count": 15,
   "id": "2b746167-44aa-4e9e-b0fd-db8f286ed549",
   "metadata": {},
   "outputs": [
    {
     "name": "stdout",
     "output_type": "stream",
     "text": [
      "0\n",
      "10\n",
      "20\n",
      "30\n",
      "40\n",
      "50\n",
      "60\n"
     ]
    },
    {
     "data": {
      "text/plain": [
       "0..60"
      ]
     },
     "execution_count": 15,
     "metadata": {},
     "output_type": "execute_result"
    }
   ],
   "source": [
    "# Ruby program to illustrate step iterator\n",
    "\n",
    "#!/usr/bin/ruby\n",
    "\n",
    "# using step iterator\n",
    "# skipping value is 10\n",
    "# (0..60 ) is the range\n",
    "(0..60).step(10) do|i|\n",
    "\tputs i\n",
    "end\n"
   ]
  },
  {
   "cell_type": "code",
   "execution_count": 16,
   "id": "b004ce45-0efe-4f29-94ef-fe69f916d74d",
   "metadata": {},
   "outputs": [
    {
     "name": "stdout",
     "output_type": "stream",
     "text": [
      "Welcome\n",
      "to\n",
      "Stony Brook University\n",
      "Portal\n"
     ]
    },
    {
     "data": {
      "text/plain": [
       "\"Welcome\\nto\\nStony Brook University\\nPortal\""
      ]
     },
     "execution_count": 16,
     "metadata": {},
     "output_type": "execute_result"
    }
   ],
   "source": [
    "# Ruby program to illustrate Each_line iterator\n",
    "\n",
    "#!/usr/bin/ruby\n",
    "\n",
    "# using each_line iterator\n",
    "\"Welcome\\nto\\nStony Brook University\\nPortal\".each_line do|i|\n",
    "puts i\n",
    "end\n"
   ]
  },
  {
   "cell_type": "markdown",
   "id": "09802aa9-f024-48c1-863c-608fe0175685",
   "metadata": {},
   "source": [
    "# Range Operator in Ruby"
   ]
  },
  {
   "cell_type": "code",
   "execution_count": 7,
   "id": "08428164-359e-47de-b258-a2d34abffecb",
   "metadata": {},
   "outputs": [
    {
     "name": "stdout",
     "output_type": "stream",
     "text": [
      "[1, 2, 3, 4, 5, 6, 7, 8, 9, 10]\n",
      "[\"bar\", \"bas\", \"bat\"]\n"
     ]
    }
   ],
   "source": [
    "range1 = (1..10).to_a\n",
    "range2 = ('bar'..'bat').to_a\n",
    "\n",
    "puts \"#{range1}\"\n",
    "puts \"#{range2}\""
   ]
  },
  {
   "cell_type": "code",
   "execution_count": 8,
   "id": "3c520afb-aa2c-44ab-99d9-ca603da7e51f",
   "metadata": {},
   "outputs": [
    {
     "name": "stdout",
     "output_type": "stream",
     "text": [
      "true\n",
      "Min value is 0\n",
      "Max value is 9\n",
      "Rejected values are [5, 6, 7, 8, 9]\n",
      "In Loop 0\n",
      "In Loop 1\n",
      "In Loop 2\n",
      "In Loop 3\n",
      "In Loop 4\n",
      "In Loop 5\n",
      "In Loop 6\n",
      "In Loop 7\n",
      "In Loop 8\n",
      "In Loop 9\n"
     ]
    },
    {
     "data": {
      "text/plain": [
       "0..9"
      ]
     },
     "execution_count": 8,
     "metadata": {},
     "output_type": "execute_result"
    }
   ],
   "source": [
    "# Assume a range\n",
    "digits = 0..9\n",
    "\n",
    "puts digits.include?(5)\n",
    "ret = digits.min\n",
    "puts \"Min value is #{ret}\"\n",
    "\n",
    "ret = digits.max\n",
    "puts \"Max value is #{ret}\"\n",
    "\n",
    "ret = digits.reject {|i| i < 5 }\n",
    "puts \"Rejected values are #{ret}\"\n",
    "\n",
    "digits.each do |digit|\n",
    "   puts \"In Loop #{digit}\"\n",
    "end"
   ]
  },
  {
   "cell_type": "code",
   "execution_count": 9,
   "id": "c011890a-dd90-491a-aa2d-885d816f631b",
   "metadata": {},
   "outputs": [
    {
     "name": "stdout",
     "output_type": "stream",
     "text": [
      "Pass with Merit\n"
     ]
    }
   ],
   "source": [
    "score = 70\n",
    "\n",
    "result = case score\n",
    "   when 0..40 then \"Fail\"\n",
    "   when 41..60 then \"Pass\"\n",
    "   when 61..70 then \"Pass with Merit\"\n",
    "   when 71..100 then \"Pass with Distinction\"\n",
    "   else \"Invalid Score\"\n",
    "end\n",
    "\n",
    "puts result"
   ]
  },
  {
   "cell_type": "code",
   "execution_count": 10,
   "id": "a915969d-b043-4560-b7c3-04f1adb16cc4",
   "metadata": {},
   "outputs": [
    {
     "name": "stdout",
     "output_type": "stream",
     "text": [
      "5 lies in (1..10)\n",
      "c lies in ('a'..'j')\n"
     ]
    }
   ],
   "source": [
    "if ((1..10) === 5)\n",
    "   puts \"5 lies in (1..10)\"\n",
    "end\n",
    "\n",
    "if (('a'..'j') === 'c')\n",
    "   puts \"c lies in ('a'..'j')\"\n",
    "end\n",
    "\n",
    "if (('a'..'j') === 'z')\n",
    "   puts \"z lies in ('a'..'j')\"\n",
    "end"
   ]
  },
  {
   "cell_type": "markdown",
   "id": "2c2ad0b2-83d1-41d5-ba1c-6accb5acecc1",
   "metadata": {},
   "source": [
    "# File I/O in Ruby"
   ]
  },
  {
   "cell_type": "markdown",
   "id": "16a3e601-c2a9-4db3-91ab-118889cc5251",
   "metadata": {},
   "source": [
    "### See the Slides and play with the code on  your own computer"
   ]
  },
  {
   "cell_type": "markdown",
   "id": "0c9e0601-2b27-4248-9e4c-dccfafcfe165",
   "metadata": {},
   "source": [
    "# Exceptions in Ruby"
   ]
  },
  {
   "cell_type": "code",
   "execution_count": 57,
   "id": "69da7a17-2551-43af-a523-e70cef97673f",
   "metadata": {},
   "outputs": [
    {
     "name": "stdout",
     "output_type": "stream",
     "text": [
      "ZeroDivisionError\n",
      "divided by 0\n"
     ]
    }
   ],
   "source": [
    "begin \n",
    "x = 1/0 \n",
    "rescue Exception \n",
    "x = 0 \n",
    "puts( $!.class ) # displays the class name\n",
    "puts( $! ) # displaying the error message\n",
    "end "
   ]
  },
  {
   "cell_type": "code",
   "execution_count": 58,
   "id": "97bf878b-c1fd-4d87-a516-ccfc0cb9fa54",
   "metadata": {},
   "outputs": [
    {
     "name": "stdout",
     "output_type": "stream",
     "text": [
      "#<IO:0x000001381bd58d48>==#<IO:0x000001381bd58d48>\n"
     ]
    }
   ],
   "source": [
    "begin\n",
    "   file = open(\"/unexistant_file\")\n",
    "   if file\n",
    "      puts \"File opened successfully\"\n",
    "   end\n",
    "rescue\n",
    "      file = STDIN\n",
    "end\n",
    "print file, \"==\", STDIN, \"\\n\""
   ]
  },
  {
   "cell_type": "code",
   "execution_count": null,
   "id": "29aee4c4-97e6-44d1-bab8-9018000fb734",
   "metadata": {},
   "outputs": [],
   "source": [
    "begin\n",
    "   file = open(\"/unexistant_file\")\n",
    "   if file\n",
    "      puts \"File opened successfully\"\n",
    "   end\n",
    "rescue\n",
    "   fname = \"existant_file\"\n",
    "   retry\n",
    "end"
   ]
  },
  {
   "cell_type": "code",
   "execution_count": 2,
   "id": "09ca4edf-25a5-4f01-877b-e49ece526b60",
   "metadata": {},
   "outputs": [
    {
     "name": "stdout",
     "output_type": "stream",
     "text": [
      "A test exception.\n",
      "[\"(irb):1:in `<top (required)>'\", \"C:/Ruby32-x64/lib/ruby/3.2.0/irb/workspace.rb:119:in `eval'\", \"C:/Ruby32-x64/lib/ruby/3.2.0/irb/workspace.rb:119:in `evaluate'\", \"C:/Ruby32-x64/lib/ruby/3.2.0/irb/context.rb:502:in `evaluate'\", \"C:/Ruby32-x64/lib/ruby/gems/3.2.0/gems/iruby-0.7.4/lib/iruby/backend.rb:55:in `eval'\", \"C:/Ruby32-x64/lib/ruby/gems/3.2.0/gems/iruby-0.7.4/lib/iruby/backend.rb:11:in `eval'\", \"C:/Ruby32-x64/lib/ruby/gems/3.2.0/gems/iruby-0.7.4/lib/iruby/kernel.rb:203:in `execute_request'\", \"C:/Ruby32-x64/lib/ruby/gems/3.2.0/gems/iruby-0.7.4/lib/iruby/kernel.rb:139:in `dispatch'\", \"C:/Ruby32-x64/lib/ruby/gems/3.2.0/gems/iruby-0.7.4/lib/iruby/kernel.rb:127:in `run'\", \"C:/Ruby32-x64/lib/ruby/gems/3.2.0/gems/iruby-0.7.4/lib/iruby/command.rb:106:in `run_kernel'\", \"C:/Ruby32-x64/lib/ruby/gems/3.2.0/gems/iruby-0.7.4/lib/iruby/command.rb:37:in `run'\", \"C:/Ruby32-x64/lib/ruby/gems/3.2.0/gems/iruby-0.7.4/bin/iruby:5:in `<top (required)>'\", \"C:/Ruby32-x64/bin/iruby:32:in `load'\", \"C:/Ruby32-x64/bin/iruby:32:in `<main>'\"]\n",
      "Ensuring execution\n"
     ]
    }
   ],
   "source": [
    "begin\n",
    "   raise 'A test exception.'\n",
    "rescue Exception => e\n",
    "   puts e.message\n",
    "   puts e.backtrace.inspect\n",
    "ensure\n",
    "   puts \"Ensuring execution\"\n",
    "end"
   ]
  },
  {
   "cell_type": "code",
   "execution_count": 9,
   "id": "22ab3157-ac1e-411b-a987-402034261439",
   "metadata": {},
   "outputs": [
    {
     "name": "stdout",
     "output_type": "stream",
     "text": [
      "I am before the raise.\n",
      "I am rescued.\n",
      "I am after the begin block.\n"
     ]
    }
   ],
   "source": [
    "begin  \n",
    "   puts 'I am before the raise.'  \n",
    "   raise 'An error has occurred.'  \n",
    "   puts 'I am after the raise.'  \n",
    "rescue  \n",
    "   puts 'I am rescued.'  \n",
    "end  \n",
    "puts 'I am after the begin block.'"
   ]
  },
  {
   "cell_type": "markdown",
   "id": "f1553bd9-8134-483f-90ae-44cf3a254e5d",
   "metadata": {},
   "source": [
    "#### Catch and Throw Exception"
   ]
  },
  {
   "cell_type": "code",
   "execution_count": 6,
   "id": "8589390e-2e77-40e0-9538-9964931a285d",
   "metadata": {},
   "outputs": [
    {
     "name": "stdout",
     "output_type": "stream",
     "text": [
      "0\n",
      "1\n",
      "2\n",
      "3\n",
      "4\n",
      "Quitting now ...\n"
     ]
    }
   ],
   "source": [
    "r = catch (:done) do    \n",
    "i = 0\n",
    "while i < 10\n",
    "    throw :done, \"Quitting now ...\" if i == 5\n",
    "    puts i\n",
    "    i = i + 1\n",
    "end\n",
    "puts (\"still in catch\")\n",
    "end\n",
    "puts r"
   ]
  },
  {
   "cell_type": "code",
   "execution_count": 5,
   "id": "77b2fc47-ca16-4644-a378-ecbeec5b009f",
   "metadata": {},
   "outputs": [
    {
     "name": "stdout",
     "output_type": "stream",
     "text": [
      "start\n",
      "continue\n"
     ]
    }
   ],
   "source": [
    "def process_data(data)\n",
    "  catch :done do\n",
    "    data.each do |item|\n",
    "      if item == \"stop\"\n",
    "        throw :done\n",
    "      else\n",
    "        puts item\n",
    "      end\n",
    "    end\n",
    "  end\n",
    "end\n",
    "\n",
    "data = [\"start\", \"continue\", \"stop\", \"end\"]\n",
    "process_data(data)\n"
   ]
  },
  {
   "cell_type": "markdown",
   "id": "8711846a-f3fb-42a1-abf5-c28b87571bc9",
   "metadata": {},
   "source": [
    "### Problem 1"
   ]
  },
  {
   "cell_type": "code",
   "execution_count": null,
   "id": "1d820c73-6bae-4715-9dc4-e4585d8483ec",
   "metadata": {},
   "outputs": [],
   "source": [
    "=begin\n",
    "\n",
    "What You'll Be Building\n",
    "\n",
    "In this project, we'll build a program that takes a user's input, then builds a \n",
    "hash from that input. Each key in the hash will be a word from the user; each value will be the number of times that word occurs. \n",
    "For example, if our program gets the string \"the rain in Spain falls mainly on the plain,\" it will return\n",
    "\n",
    "the 2\n",
    "falls 1\n",
    "on 1\n",
    "mainly 1\n",
    "in 1\n",
    "rain 1\n",
    "plain 1\n",
    "Spain 1\n",
    "\n",
    "A visual representation of data like this is called a histogram.\n",
    "Instructions\n",
    "\n",
    "Hit Save & Submit Code to start building your own histogram!\n",
    "=end\n"
   ]
  }
 ],
 "metadata": {
  "kernelspec": {
   "display_name": "Ruby 3.2.3",
   "language": "ruby",
   "name": "ruby"
  },
  "language_info": {
   "file_extension": ".rb",
   "mimetype": "application/x-ruby",
   "name": "ruby",
   "version": "3.2.3"
  }
 },
 "nbformat": 4,
 "nbformat_minor": 5
}
