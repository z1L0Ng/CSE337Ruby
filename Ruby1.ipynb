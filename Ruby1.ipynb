{
 "cells": [
  {
   "cell_type": "markdown",
   "id": "6ed25da8-04ca-4ab3-9b69-eea002d541a4",
   "metadata": {},
   "source": [
    "# Ruby Baiscs\n",
    "```\n",
    "Todays Lecture (Lecture -9)\n",
    "Date : 2/19/2024\n",
    "We will cover\n",
    "* Ruby Basics\n",
    "* Data Types\n",
    "* Control Statements\n",
    "```"
   ]
  },
  {
   "cell_type": "markdown",
   "id": "e7dea4d2-e957-43e4-8395-1fadfb46bbe0",
   "metadata": {},
   "source": [
    "## Ruby Basics"
   ]
  },
  {
   "cell_type": "markdown",
   "id": "17dca871-ac98-45cb-9edf-0ff92bbaf482",
   "metadata": {},
   "source": [
    "##### Print statement"
   ]
  },
  {
   "cell_type": "code",
   "execution_count": null,
   "id": "98173b8c-a6d1-4531-84fd-8ae24ab53bf0",
   "metadata": {},
   "outputs": [],
   "source": [
    "print \"Hello World\";"
   ]
  },
  {
   "cell_type": "code",
   "execution_count": null,
   "id": "591363cd-a06b-468c-b99f-1765ed33d4ee",
   "metadata": {},
   "outputs": [],
   "source": [
    "print 'Hello world'"
   ]
  },
  {
   "cell_type": "code",
   "execution_count": null,
   "id": "bf7c9ec8-3a48-40d0-b45e-151c0e99dba4",
   "metadata": {},
   "outputs": [],
   "source": [
    "puts \"Abid Malik\""
   ]
  },
  {
   "cell_type": "markdown",
   "id": "b8e15ed5-85bb-45c2-a275-c557aab0d77d",
   "metadata": {},
   "source": [
    " ##### Example 1 -- puts command"
   ]
  },
  {
   "cell_type": "code",
   "execution_count": null,
   "id": "90d10de0-38c6-4046-845f-9bb184b82f35",
   "metadata": {},
   "outputs": [],
   "source": [
    "puts \"Hello World!\"\n",
    "puts \"Hello Again\"\n",
    "puts \"I like typing this.\"\n",
    "puts \"This is fun.\""
   ]
  },
  {
   "cell_type": "markdown",
   "id": "1ee574cd-850f-4596-9064-ae6673d1adcd",
   "metadata": {},
   "source": [
    "##### Example 2"
   ]
  },
  {
   "cell_type": "code",
   "execution_count": null,
   "id": "c0b2139c-94cf-4e7b-bf92-f5dc391284fe",
   "metadata": {},
   "outputs": [],
   "source": [
    "x = 10\n",
    "puts \"The value of x is #{x}\""
   ]
  },
  {
   "cell_type": "markdown",
   "id": "6597d8e7-23e5-453e-b86b-331ef0657e93",
   "metadata": {},
   "source": [
    "'''\n",
    "x = 10 : It means that we are taking a variable x and giving it a value of 10.\n",
    "puts \"The value of x is #{10}\"\n",
    "#{x} : Notice that in place of #{x}, the value of x got printed on the screen i.e. 10.\n",
    "It is because whatever we write in \"#{}\" is first evaluated and then its value gets printed on the screen.\n",
    "'''"
   ]
  },
  {
   "cell_type": "code",
   "execution_count": null,
   "id": "58a9b935-3766-4d78-9df1-027d24903bd1",
   "metadata": {},
   "outputs": [],
   "source": [
    "# Interpolation\n",
    "name = \"Alice\"\n",
    "age = 30\n",
    "puts \"Hello, my name is #{name} and I am #{age} years old.\"\n",
    "# Concatination\n",
    "name = \"Bob\"\n",
    "age = 25\n",
    "puts \"Hello, my name is \" + name + \" and I am \" + age.to_s + \" years old.\"\n"
   ]
  },
  {
   "cell_type": "markdown",
   "id": "d4cc0b24-0a1a-4bf3-9432-a1dc34271596",
   "metadata": {},
   "source": [
    "##### Example 3"
   ]
  },
  {
   "cell_type": "code",
   "execution_count": 25,
   "id": "794880f3-d2e6-4d77-a9a5-3f267ca7b585",
   "metadata": {},
   "outputs": [
    {
     "name": "stdout",
     "output_type": "stream",
     "text": [
      "The sum of 10 and 5 is 15\n"
     ]
    }
   ],
   "source": [
    "x = 10\n",
    "y = 5\n",
    "puts \"The sum of #{x} and #{y} is #{x+y}\""
   ]
  },
  {
   "cell_type": "markdown",
   "id": "788d6ad5-6fbe-45c2-be1d-95c48a1a7b7f",
   "metadata": {},
   "source": [
    "##### Example 4"
   ]
  },
  {
   "cell_type": "code",
   "execution_count": 22,
   "id": "77c86bdc-1956-46c2-95d1-59e1928f8e54",
   "metadata": {},
   "outputs": [
    {
     "name": "stdout",
     "output_type": "stream",
     "text": [
      "..........\n"
     ]
    }
   ],
   "source": [
    "puts \".\"*10"
   ]
  },
  {
   "cell_type": "code",
   "execution_count": 23,
   "id": "6adf0767-77f3-425f-b87e-4ef8dc48455b",
   "metadata": {},
   "outputs": [
    {
     "name": "stdout",
     "output_type": "stream",
     "text": [
      "FunFunFun\n"
     ]
    }
   ],
   "source": [
    "puts \"Fun\"*3"
   ]
  },
  {
   "cell_type": "code",
   "execution_count": 24,
   "id": "fe83a902-25a1-4255-b22b-1633657127de",
   "metadata": {},
   "outputs": [
    {
     "name": "stdout",
     "output_type": "stream",
     "text": [
      "CodesDope\n"
     ]
    }
   ],
   "source": [
    "puts \"Codes\"+\"Dope\""
   ]
  },
  {
   "cell_type": "markdown",
   "id": "5b6825b2-2fbc-4796-9f4c-60a615c9bf87",
   "metadata": {},
   "source": [
    "###### Question : What is the output of the following code?"
   ]
  },
  {
   "cell_type": "code",
   "execution_count": 21,
   "id": "d1f630fa-84a0-47df-af9d-e599b37869e6",
   "metadata": {},
   "outputs": [
    {
     "name": "stdout",
     "output_type": "stream",
     "text": [
      "CSE/ISECSE/ISECSE/ISE\n"
     ]
    }
   ],
   "source": [
    "puts \"CSE/ISE\"*3"
   ]
  },
  {
   "cell_type": "code",
   "execution_count": null,
   "id": "096e0c83-d773-4138-87c2-e7b5d65ab4ff",
   "metadata": {},
   "outputs": [],
   "source": [
    "puts\"\"\"Once there was a boy.\n",
    "He wanted to be a programmner.\n",
    "He found Ruby.\n",
    "Now, he is a programmer.\n",
    "\"\"\""
   ]
  },
  {
   "cell_type": "code",
   "execution_count": 18,
   "id": "43e71a12-2ea6-4ea8-87a3-cf7a39dd2176",
   "metadata": {},
   "outputs": [
    {
     "name": "stdout",
     "output_type": "stream",
     "text": [
      "Integer\n",
      "String\n",
      "Float\n",
      "Float\n",
      "String\n"
     ]
    }
   ],
   "source": [
    "a = 5\n",
    "b = \"5\"\n",
    "c = 5.0\n",
    "d = 2.3\n",
    "e = \"Hello\"\n",
    "puts \"#{a.class}\\n#{b.class}\\n#{c.class}\\n#{d.class}\\n#{e.class}\""
   ]
  },
  {
   "cell_type": "code",
   "execution_count": 19,
   "id": "3f67af2b-d372-40c8-b7b0-a80bf7e17805",
   "metadata": {},
   "outputs": [
    {
     "data": {
      "text/plain": [
       "\"\\\"CSE/ISE 337 Spring 2024\\\"\""
      ]
     },
     "execution_count": 19,
     "metadata": {},
     "output_type": "execute_result"
    }
   ],
   "source": [
    "name = \"CSE/ISE 337 Spring 2024\"\n",
    "name.inspect\n",
    "## inspect is a String class method in Ruby which is used to return a printable version of the given string, \n",
    "## surrounded by quote marks, with special characters escaped."
   ]
  },
  {
   "cell_type": "markdown",
   "id": "28b8fcd3-33cc-4173-9bf7-c97a154b0ebc",
   "metadata": {},
   "source": [
    "##### Variables"
   ]
  },
  {
   "cell_type": "code",
   "execution_count": null,
   "id": "c211ca79-05c1-48b3-ae3a-e2800bd41b6d",
   "metadata": {},
   "outputs": [],
   "source": [
    "# Local Variables\n",
    "age = 10\n",
    "_Age = 20\n",
    "#test uninitialize variable\n",
    "\"\"\"\n",
    "In Ruby, if you attempt to reference a local variable that has not been initialized, \n",
    "you'll typically encounter an error. This is because Ruby requires variables to be initialized before they can be used. \n",
    "Attempting to use an uninitialized local variable will result in a NameError.\n",
    "\"\"\"\n",
    "puts age\n",
    "puts _Age"
   ]
  },
  {
   "cell_type": "code",
   "execution_count": null,
   "id": "0d5ea05a-9315-473d-bd36-f05d76e4bfa7",
   "metadata": {},
   "outputs": [],
   "source": [
    "# Local Variable shadowing\n",
    "x = 10\n",
    "puts \"Outer x: #{x}\"  # Output: Outer x: 10\n",
    "\n",
    "def example_method\n",
    "  x = 20\n",
    "  puts \"Inner x: #{x}\"  # Output: Inner x: 20\n",
    "end\n",
    "\n",
    "example_method\n",
    "\n",
    "puts \"Outer x after method call: #{x}\"  # Output: Outer x after method call: 10\n"
   ]
  },
  {
   "cell_type": "code",
   "execution_count": null,
   "id": "167ac76d-78d1-457a-a90e-73694954fc69",
   "metadata": {},
   "outputs": [],
   "source": [
    "# Instance Variable\n",
    "class Customer \n",
    "      \n",
    " def initialize(id, name, addr) \n",
    "       \n",
    "# Instance Variables      \n",
    " @cust_id = id \n",
    " @cust_name = name \n",
    " @cust_addr = addr\n",
    " @cust_test    \n",
    " end\n",
    "   \n",
    " # displaying result \n",
    " def display_details() \n",
    " puts \"Customer id #@cust_id\"\n",
    " puts \"Customer name #@cust_name\"\n",
    " puts \"Customer address #@cust_addr\"\n",
    " puts \"Testing instance variable #{@cust_test}\"    \n",
    " end\n",
    "end\n",
    "  \n",
    "# Create Objects \n",
    "cust1 = Customer.new(\"1\", \"John\", \"Wisdom Apartments, Ludhiya\") \n",
    "cust2 = Customer.new(\"2\", \"Poul\", \"New Empire road, Khandala\")\n",
    "#cust3 = Customer.new()\n",
    "  \n",
    "# Call Methods \n",
    "cust1.display_details() \n",
    "cust2.display_details()"
   ]
  },
  {
   "cell_type": "code",
   "execution_count": null,
   "id": "ef02043a-79bc-485f-a55e-804f617d1503",
   "metadata": {},
   "outputs": [],
   "source": [
    "# Ruby program to illustrate  \n",
    "# the Class  Variables \n",
    "  \n",
    "class Customer \n",
    "      \n",
    "# class variable \n",
    " @@no_of_customers = 0\n",
    "   \n",
    " def initialize(id, name, addr) \n",
    "       \n",
    "# An instance Variable \n",
    " @cust_id = id \n",
    " @cust_name = name \n",
    " @cust_addr = addr \n",
    " end\n",
    "  \n",
    "# displaying result  \n",
    " def display_details() \n",
    " puts \"Customer id #@cust_id\"\n",
    " puts \"Customer name #@cust_name\"\n",
    " puts \"Customer address #@cust_addr\"\n",
    " end\n",
    "   \n",
    " def total_no_of_customers() \n",
    "       \n",
    "# class variable \n",
    " @@no_of_customers += 1\n",
    " puts \"Total number of customers: #@@no_of_customers\"\n",
    "    end\n",
    "end\n",
    "  \n",
    "# Create Objects \n",
    "cust1 = Customer.new(\"1\", \"John\", \"Wisdom Apartments, Ludhiya\") \n",
    "cust2 = Customer.new(\"2\", \"Poul\", \"New Empire road, Khandala\") \n",
    "  \n",
    "# Call Methods \n",
    "cust1.display_details() \n",
    "cust1.total_no_of_customers() \n",
    "cust2.display_details() \n",
    "cust2.total_no_of_customers() "
   ]
  },
  {
   "cell_type": "code",
   "execution_count": null,
   "id": "dcbac89e-76c2-48e5-8e19-fb1d86845e94",
   "metadata": {},
   "outputs": [],
   "source": [
    "# Ruby program to illustrate  \n",
    "# the Global  Variables \n",
    "  \n",
    "\n",
    "# global variable \n",
    "$global_variable = 10\n",
    "class Class1 \n",
    " def print_global \n",
    " puts \"Global variable in Class1 is #$global_variable\"\n",
    " end\n",
    "end\n",
    "class Class2 \n",
    " def print_global \n",
    " $global_variable += 10    \n",
    " puts \"Global variable in Class2 is #$global_variable\"\n",
    " end\n",
    "end\n",
    "class1obj = Class1.new\n",
    "class1obj.print_global \n",
    "class2obj = Class2.new\n",
    "class2obj.print_global\n",
    "class1obj.print_global"
   ]
  },
  {
   "cell_type": "markdown",
   "id": "c4cf1b51-172a-41fc-b2e8-00a88ba8f04e",
   "metadata": {},
   "source": [
    "##### Comments"
   ]
  },
  {
   "cell_type": "code",
   "execution_count": null,
   "id": "2750305b-beef-4369-a0bd-b4aea1365900",
   "metadata": {},
   "outputs": [],
   "source": [
    "=begin\n",
    "Testing Testing !!!!\n",
    "=end\n",
    "# Used for multi line comments"
   ]
  },
  {
   "cell_type": "code",
   "execution_count": null,
   "id": "2cf0cf6a-856f-44fa-8e4a-31486594649e",
   "metadata": {},
   "outputs": [],
   "source": [
    "# Testing !!!!"
   ]
  },
  {
   "cell_type": "markdown",
   "id": "61356335-3bcc-46fc-8c9f-91da33f51aaf",
   "metadata": {},
   "source": [
    "#### Data Types in Ruby"
   ]
  },
  {
   "cell_type": "markdown",
   "id": "1e83dd40-c214-4852-9676-079d9711cf2a",
   "metadata": {},
   "source": [
    "##### Number -Integer"
   ]
  },
  {
   "cell_type": "code",
   "execution_count": null,
   "id": "171267ee-e4ab-4b48-9b71-57567e39f9e2",
   "metadata": {},
   "outputs": [],
   "source": [
    "# Ruby program to illustrate the\n",
    "# Numbers Data Type\n",
    " \n",
    "# Integer type\n",
    "distance = 12\n",
    " \n",
    "# both integer and float type\n",
    "time = 9.87 / 3600\n",
    "#speed = distance / time\n",
    "\n",
    "#speed = distance / 4\n",
    "puts \"The average speed of a sprinter is #{speed} km/h\""
   ]
  },
  {
   "cell_type": "markdown",
   "id": "26fd176d-344c-43e8-a359-df51dac805cf",
   "metadata": {},
   "source": [
    "#### Strings"
   ]
  },
  {
   "cell_type": "code",
   "execution_count": null,
   "id": "23c0b8de-7d0e-4a7b-b3a1-a262d9714285",
   "metadata": {},
   "outputs": [],
   "source": [
    "# Ruby program to demonstrate  \n",
    "# the creation of strings \n",
    "  \n",
    "# using single quotes \n",
    "puts 'Ruby String using single quotes'\n",
    "  \n",
    "# using double quotes \n",
    "puts \"Ruby String using double quotes\"\n",
    "  \n",
    "# storing string into variables \n",
    "str1 = \"CSE\"\n",
    "str2 = 'ISE'\n",
    "  \n",
    "# displaying string \n",
    "puts str1 \n",
    "puts str2 "
   ]
  },
  {
   "cell_type": "code",
   "execution_count": null,
   "id": "27b51523-7014-45b8-b7d5-e7da5bb2202b",
   "metadata": {},
   "outputs": [],
   "source": [
    "# String interpolation\n",
    "name = \"Alice\"\n",
    "age = 30\n",
    "\n",
    "puts \"Hello, my name is #{name} and I am #{age} years old.\"\n",
    "\n"
   ]
  },
  {
   "cell_type": "code",
   "execution_count": 26,
   "id": "6dd10722-7ac7-4a2d-b576-52c37e36385c",
   "metadata": {},
   "outputs": [
    {
     "name": "stdout",
     "output_type": "stream",
     "text": [
      "Cannot Interpolate str1: #{str1}\n",
      "Interpolating str2: ISE\n"
     ]
    }
   ],
   "source": [
    "# Ruby program to demonstrate the difference \n",
    "# while using single and double quotes to \n",
    "# create strings \n",
    "\n",
    "# storing string into variables \n",
    "str1 = \"CSE\"\n",
    "str2 = 'ISE'\n",
    "\n",
    "# using single quotes \n",
    "puts 'Cannot Interpolate str1: #{str1}'\n",
    "\n",
    "# using double quotes \n",
    "puts \"Interpolating str2: #{str2}\"\n"
   ]
  },
  {
   "cell_type": "code",
   "execution_count": null,
   "id": "9c8a0565-c2d3-4b58-8b75-bfb427631f24",
   "metadata": {},
   "outputs": [],
   "source": [
    "# Ruby program to illustrate that  \n",
    "# string are objects in Ruby \n",
    "  \n",
    "\n",
    "  \n",
    "# using double quotes \n",
    "str = \"Testing 123\"\n",
    "  \n",
    "puts str \n",
    "  \n",
    "# using new method to create string \n",
    "# object and assigning value to it \n",
    "str2 = String.new \"Testing 1234\"\n",
    "  \n",
    "puts str2 "
   ]
  },
  {
   "cell_type": "code",
   "execution_count": 32,
   "id": "30cd4ec0-8dcc-4fa1-bb6c-ae20f03e022d",
   "metadata": {},
   "outputs": [
    {
     "name": "stdout",
     "output_type": "stream",
     "text": [
      "CSE\n",
      "\n",
      "for\n",
      "f\n",
      "n\n",
      "udo Placem\n",
      "udo \n"
     ]
    }
   ],
   "source": [
    "# Ruby program to illustrate the \n",
    "# accessing of string \n",
    "# Access String Elements\n",
    "\n",
    "\n",
    "\n",
    "# storing string in variable \n",
    "str = \"CSEforISE337 Sudo Placements\"\n",
    "\n",
    "# accessing the specified substring \n",
    "puts str[\"CSE\"]\n",
    "puts str[\"hello\"]\n",
    "puts str['for'] \n",
    "\n",
    "# passing index as an argument which returns \n",
    "# the specified character \n",
    "puts str[3] \n",
    "\n",
    "# passing the negative index as an argument which \n",
    "# returns the specified character from the \n",
    "# last of the string \n",
    "puts str[-3] \n",
    "\n",
    "# passing Two arguments which are separated \n",
    "# by a comma that returns characters starting \n",
    "# from the 1st index and the 2nd index is the \n",
    "# number of characters \n",
    "puts str[14, 10] \n",
    "\n",
    "# using range operators in passed arguments \n",
    "puts str[14 .. 17] \n"
   ]
  },
  {
   "cell_type": "code",
   "execution_count": null,
   "id": "0ff3c678-2804-4927-81a5-bbffe311b05c",
   "metadata": {},
   "outputs": [],
   "source": [
    "# Ruby program to illustrate the \n",
    "# multiline strings \n",
    "\n",
    "\n",
    "\n",
    "# Using Double Quotes \n",
    "puts \"In Ruby, a user can create the multiline \n",
    "\tstrings easily where in other programming \n",
    "\tlanguages creating multiline strings \n",
    "\trequires a lot of efforts\" \n",
    "\t\t\n",
    "puts \"\"\n",
    "\t\t\n",
    "# Using %/ / \n",
    "puts %/ In Ruby, a user can create the multiline \n",
    "\tstrings easily where into other programming \n",
    "\tlanguages creating multiline strings \n",
    "\trequires a lot of efforts/ \n",
    "\t\t\n",
    "puts \"\"\n",
    "\t\t\n",
    "# Using <<STRING STRING \n",
    "puts <<STRING\n",
    "\n",
    "In Ruby, a user can create the multiline \n",
    "strings easily where into other programming \n",
    "languages creating multiline strings \n",
    "requires a lot of efforts \n",
    "STRING\n"
   ]
  },
  {
   "cell_type": "code",
   "execution_count": null,
   "id": "5c6d0067-db96-4bc3-9924-f565179f93c4",
   "metadata": {},
   "outputs": [],
   "source": [
    "# Ruby program to illustrate the \n",
    "# replication of strings \n",
    "\n",
    "# string to be replicate \n",
    "str = \"CSE/ISE337\\n\"\n",
    "\n",
    "# using * operator \n",
    "puts str * 7\n"
   ]
  },
  {
   "cell_type": "code",
   "execution_count": null,
   "id": "f20b0a6f-b3db-44af-aac9-2bdeb050b577",
   "metadata": {},
   "outputs": [],
   "source": [
    "# String Conversion \n",
    "v1=\"5\".to_i       # 5\n",
    "v2=\"55.5\".to_i    # 55\n",
    "v3=\"55.5\".to_f    # 55.5\n",
    "puts v1\n",
    "puts v2\n",
    "puts v3\n",
    "puts Integer(\"123\")\n",
    "puts \"abc\".to_i\n",
    "puts \"123-abc\".to_i\n",
    "puts \"123-abc\".to_f"
   ]
  },
  {
   "cell_type": "markdown",
   "id": "e6a5cc3c-48e1-48b6-b044-dda7d8d03e74",
   "metadata": {},
   "source": [
    "##### Converting Data to String"
   ]
  },
  {
   "cell_type": "code",
   "execution_count": null,
   "id": "09a3efbf-9e8b-4cca-9a7a-4a329747d517",
   "metadata": {},
   "outputs": [],
   "source": [
    "puts 25.to_s                    # \"25\"\n",
    "puts (25.5).to_s                # \"25.5\"\n",
    "puts [\"Sammy\", \"Shark\"].to_s    # \"[\\\"Sammy\\\", \\\"Shark\\\"]\""
   ]
  },
  {
   "cell_type": "code",
   "execution_count": null,
   "id": "9b42cc0f-d743-4603-83bd-f92a3b5cd351",
   "metadata": {},
   "outputs": [],
   "source": [
    "user = \"Sammy\"\n",
    "calories = 100\n",
    "\n",
    "print \"Congratulations, \" + user + \"! You just burned \" + calories.to_s + \" calories during this workout.\""
   ]
  },
  {
   "cell_type": "markdown",
   "id": "11ed7818-83b4-477f-b8f8-077a60e2dbae",
   "metadata": {},
   "source": [
    "#### String Concatination\n"
   ]
  },
  {
   "cell_type": "code",
   "execution_count": null,
   "id": "587d4242-e554-484d-aff1-9e80c24d2f2f",
   "metadata": {},
   "outputs": [],
   "source": [
    "puts \"I like\" + \" \" + \"chocolate\"\n",
    "\n",
    "# I like chocolate"
   ]
  },
  {
   "cell_type": "code",
   "execution_count": null,
   "id": "26eb7afd-38a4-4762-87ea-31a4182afc8f",
   "metadata": {},
   "outputs": [],
   "source": [
    "str = \"\"\n",
    "\n",
    "str.concat(\"a\")\n",
    "str.concat(\"a\")\n",
    "\n",
    "str\n",
    "# \"aa\""
   ]
  },
  {
   "cell_type": "code",
   "execution_count": null,
   "id": "65439c36-7f71-4dbf-9a6e-fe84196845d3",
   "metadata": {},
   "outputs": [],
   "source": [
    "str = \"\"\n",
    "\n",
    "str << \"a\"\n",
    "str << \"a\""
   ]
  },
  {
   "cell_type": "code",
   "execution_count": null,
   "id": "98cb6028-2b9e-48a0-b1db-ef9e6f76d8db",
   "metadata": {},
   "outputs": [],
   "source": [
    "str.freeze\n",
    "str.concat(\"b\")\n",
    "=begin\n",
    "you cannot directly unfreeze the original string. \n",
    "Once a string is frozen in Ruby, it remains frozen and immutable for the lifetime of the program. \n",
    "This behavior is by design in Ruby.\n",
    "=end"
   ]
  },
  {
   "cell_type": "code",
   "execution_count": null,
   "id": "1c70080d-d3ad-4e38-9780-bc602b76f22b",
   "metadata": {},
   "outputs": [],
   "source": [
    "# How to unfreeze\n",
    "frozen_string = \"hello\".freeze\n",
    "\n",
    "# Unfreeze using dup method\n",
    "unfrozen_string1 = frozen_string.dup\n",
    "\n",
    "# Unfreeze using clone method\n",
    "unfrozen_string2 = frozen_string.clone\n",
    "\n",
    "# Now, unfrozen_string1 and unfrozen_string2 are both unfrozen\n",
    "puts unfrozen_string1.frozen?  # Output: false\n",
    "puts unfrozen_string2.frozen?  # Output: false\n"
   ]
  },
  {
   "cell_type": "code",
   "execution_count": null,
   "id": "1849465e-bf93-4b37-85df-8fca8fdd2783",
   "metadata": {},
   "outputs": [],
   "source": [
    "# string manipulation using insert method\n",
    "\n",
    "original_string = \"Hello, world!\"\n",
    "modified_string = original_string.insert(6, \"beautiful \")\n",
    "puts modified_string\n"
   ]
  },
  {
   "cell_type": "code",
   "execution_count": null,
   "id": "ab89b773-9dbf-4eb5-af9a-fb417327fe1c",
   "metadata": {},
   "outputs": [],
   "source": [
    "#chomp and chop\n",
    "str = \"hello\\n\"\n",
    "puts str.chomp  # Output: \"hello\"\n",
    "str = \"hello\"\n",
    "puts str.chop  # Output: \"hell\"\n",
    "str = ''\n",
    "puts str.chomp\n"
   ]
  },
  {
   "cell_type": "markdown",
   "id": "b678cb3a-27f0-4161-bd21-98177ec5e047",
   "metadata": {},
   "source": [
    "##### Arithmatic Operator"
   ]
  },
  {
   "cell_type": "code",
   "execution_count": null,
   "id": "26df5c9e-46d5-4f15-bc22-8e96b7c1afd6",
   "metadata": {},
   "outputs": [],
   "source": [
    "# Ruby program to demonstrate \n",
    "# the Arithmetic Operators\n",
    "\n",
    "# Addition\n",
    "puts (\"Addition:\")\n",
    "puts (10 + 20)\n",
    "\n",
    "# Subtraction\n",
    "puts (\"Subtraction:\")\n",
    "puts (40 - 20)\n",
    "\n",
    "# Division\n",
    "puts (\"Division:\")\n",
    "puts (100 / 20)\n",
    "\n",
    "# Multiplication\n",
    "puts (\"Multiplication:\")\n",
    "puts (10 * 20)\n",
    "\n",
    "# Modulus\n",
    "puts (\"Modulus:\")\n",
    "puts (20 % 7)\n",
    "\n",
    "# Exponent\n",
    "puts (\"Exponent:\")\n",
    "puts (2 ** 4)\n"
   ]
  },
  {
   "cell_type": "markdown",
   "id": "495ed7d9-910a-4aa7-9c95-7254ed35bcc3",
   "metadata": {},
   "source": [
    "##### Comparison Operator"
   ]
  },
  {
   "cell_type": "code",
   "execution_count": null,
   "id": "72774fc0-ea8c-4b3b-8acd-aed781882378",
   "metadata": {},
   "outputs": [],
   "source": [
    "# Ruby program to demonstrate \n",
    "# the Comparison Operators\n",
    "\n",
    "puts \"Equal To Operator:\"\n",
    "puts (10 == 20)\n",
    "\n",
    "puts \"Not Equal To Operator:\"\n",
    "puts (40 != 20)\n",
    "\n",
    "puts \"Greater than Operator\"\n",
    "puts (100 > 20)\n",
    "\n",
    "puts \"Less than Operator\"\n",
    "puts (10 < 20)\n",
    "\n",
    "puts \"Less than Equal To Operator\"\n",
    "puts (2 <= 5)\n",
    "\n",
    "puts \"Greater than Equal To Operator\"\n",
    "puts (2 >= 5)\n",
    "\n",
    "puts \"Combined combination operator\"\n",
    "puts(20 <=> 20)\n",
    "puts(10 <=> 20)\n",
    "puts(20 <=> 10)\n"
   ]
  },
  {
   "cell_type": "markdown",
   "id": "200310f2-b9ee-4b94-88fa-8af730d77f9e",
   "metadata": {},
   "source": [
    "##### Assignment Operators"
   ]
  },
  {
   "cell_type": "code",
   "execution_count": null,
   "id": "0699ef84-6b5c-4b20-9f6f-43fb6a67e812",
   "metadata": {},
   "outputs": [],
   "source": [
    "# Ruby program to demonstrate \n",
    "# the Assignments Operators\n",
    "\n",
    "puts \"Simple assignment operator\"\n",
    "puts a = 20\n",
    "\n",
    "puts \"Add AND assignment operator\"\n",
    "puts a += 10\n",
    "\n",
    "puts \"Subtract AND assignment operator\"\n",
    "puts a -= 5\n",
    "\n",
    "puts \"Multiply AND assignment operator\"\n",
    "puts a *= 10\n",
    "\n",
    "puts \"Divide AND assignment operator\"\n",
    "puts a /= 4\n",
    "\n",
    "puts \"Modulus AND assignment operator\"\n",
    "puts a %= 3\n",
    "\n",
    "puts \"Exponent AND assignment operator\"\n",
    "puts a **= 3\n"
   ]
  },
  {
   "cell_type": "markdown",
   "id": "f95ab3a5-fc29-443b-8a9d-8a74973472dc",
   "metadata": {},
   "source": [
    "#### Bitwise operators"
   ]
  },
  {
   "cell_type": "code",
   "execution_count": 27,
   "id": "fac350ea-0845-4f63-8ba6-32f1a6711569",
   "metadata": {},
   "outputs": [
    {
     "name": "stdout",
     "output_type": "stream",
     "text": [
      "Bitwise AND operator\n",
      "0\n",
      "Bitwise OR operator\n",
      "30\n",
      "Bitwise XOR operator\n",
      "30\n",
      "Bitwise Complement operator\n",
      "-11\n",
      "Binary right shift operator\n",
      "2\n",
      "Binary left shift operator\n",
      "40\n"
     ]
    }
   ],
   "source": [
    "# Ruby program to demonstrate \n",
    "# the Bitwise Operators\n",
    "\n",
    "# variables\n",
    "a = 10\n",
    "b = 20\n",
    "\n",
    "puts \"Bitwise AND operator\"\n",
    "puts (a & b)\n",
    "\n",
    "puts \"Bitwise OR operator\"\n",
    "puts (a |b)\n",
    "\n",
    "puts \"Bitwise XOR operator\"\n",
    "puts (a ^ b)\n",
    "\n",
    "puts \"Bitwise Complement operator\"\n",
    "puts (~a)\n",
    "\n",
    "puts \"Binary right shift operator\"\n",
    "puts (a >> 2)\n",
    "\n",
    "puts \"Binary left shift operator\"\n",
    "puts (a << 2)\n"
   ]
  },
  {
   "cell_type": "code",
   "execution_count": null,
   "id": "6f2658e3-d442-4d67-a5eb-426c0e4e9a4a",
   "metadata": {},
   "outputs": [],
   "source": [
    "# Ruby program to demonstrate \n",
    "# the Ternary Operator\n",
    "\n",
    "# variable\n",
    "marks_obtained = 100\n",
    "\n",
    "# using ternary operator\n",
    "result = marks_obtained > 40 ? 'Pass' : 'Fail'\n",
    "\n",
    "# displaying output\n",
    "puts result\n"
   ]
  },
  {
   "cell_type": "code",
   "execution_count": null,
   "id": "8b3b8e06-3d01-4dc8-b4a6-7c0a80bfefaf",
   "metadata": {},
   "outputs": [],
   "source": [
    "# Ruby program to demonstrate \n",
    "# the Range Operator\n",
    "\n",
    "\n",
    "# using .. Operator\n",
    "range_op = (7 .. 10).to_a\n",
    "\n",
    "# displaying result\n",
    "puts \"#{range_op}\"\n",
    "\n",
    "# using ... Operator\n",
    "range_op1 = (7 ... 10).to_a\n",
    "\n",
    "# displaying result\n",
    "puts \"#{range_op1}\"\n"
   ]
  },
  {
   "cell_type": "code",
   "execution_count": null,
   "id": "0dac4c87-6af3-4a4e-a612-f2f6d8f830b4",
   "metadata": {},
   "outputs": [],
   "source": [
    "# Ruby program to demonstrate \n",
    "# the defined? Operator\n",
    "\n",
    "# variables\n",
    "CSE = 1\n",
    "ISE = 70\n",
    "\n",
    "\n",
    "puts (\"define? Operator Results\")\n",
    "\n",
    "# using defined? Operator\n",
    "# it returns constant\n",
    "puts defined? CSE\t\n",
    "\n",
    "# it returns constant\n",
    "puts defined? ISE \n",
    "\n",
    "# it returns expression\n",
    "puts defined? a \n",
    "\t\t\n",
    "# it returns expression\n",
    "puts defined? 50\n"
   ]
  },
  {
   "cell_type": "markdown",
   "id": "28001cb5-bab0-4e12-b6a0-dd40d6447016",
   "metadata": {},
   "source": [
    "### if statement/Control statement"
   ]
  },
  {
   "cell_type": "code",
   "execution_count": null,
   "id": "227af047-dab0-4401-8c7c-7abf34b16ee1",
   "metadata": {},
   "outputs": [],
   "source": [
    "# Ruby program to illustrate if statement\n",
    "\n",
    "a = 20\n",
    "\n",
    "# if condition to check whether \n",
    "# your age is enough for voting\n",
    "if a >= 18\n",
    "puts \"You are eligible to vote.\"\n",
    "end\n"
   ]
  },
  {
   "cell_type": "code",
   "execution_count": null,
   "id": "4c52caf6-ed5e-4ea3-bc4c-55a17dc912fa",
   "metadata": {},
   "outputs": [],
   "source": [
    "# Ruby program to illustrate \n",
    "# if - else statement\n",
    "\n",
    "a = 15\n",
    "\n",
    "# if condition to check\n",
    "# whether age is enough for voting \n",
    "if a >= 18\n",
    "puts \"You are eligible to vote.\"\n",
    "else\n",
    "puts \"You are not eligible to vote.\"\n",
    "end\n"
   ]
  },
  {
   "cell_type": "code",
   "execution_count": null,
   "id": "81480743-2b0c-4f06-ae79-f79082945c32",
   "metadata": {},
   "outputs": [],
   "source": [
    "# Ruby program to illustrate the \n",
    "# if - else - if statement\n",
    "\n",
    "a = 78\n",
    "if a < 50\n",
    "puts \"Student is failed\"\n",
    "\n",
    "elsif a >= 50 && a <= 60\n",
    "puts \"Student gets D grade\"\n",
    "\n",
    "elsif a >= 70 && a <= 80\n",
    "puts \"Student gets B grade\"\n",
    "\n",
    "elsif a >= 80 && a <= 90\n",
    "puts \"Student gets A grade\"\n",
    "\t\n",
    "elsif a >= 90 && a <= 100\n",
    "puts \"Student gets A+ grade\"\n",
    "end\n"
   ]
  },
  {
   "cell_type": "code",
   "execution_count": null,
   "id": "e0f23aa5-9223-4f6e-b51f-b28e72945866",
   "metadata": {},
   "outputs": [],
   "source": [
    "# Ruby program to illustrate the \n",
    "# Ternary statement\n",
    "\n",
    "# variable\n",
    "var = 5;\n",
    "\n",
    "# ternary statement\n",
    "a = (var > 2) ? true : false ;\n",
    "puts a\n"
   ]
  },
  {
   "cell_type": "code",
   "execution_count": null,
   "id": "34968598-d99c-44cb-8472-1b1eed69ec5a",
   "metadata": {},
   "outputs": [],
   "source": [
    "# Ruby program to illustrate 'while' loop\n",
    "\n",
    "# variable x\n",
    "x = 4\n",
    "\n",
    "# using while loop \n",
    "# here conditional is x i.e. 4\n",
    "while x >= 1\n",
    "\n",
    "# statements to be executed\n",
    "puts \"CSE337ISE\"\n",
    "x = x - 1\n",
    "\n",
    "# while loop ends here\n",
    "end\n"
   ]
  },
  {
   "cell_type": "code",
   "execution_count": null,
   "id": "e2fcdbfc-7b34-450f-b0fd-000fa3b2e37a",
   "metadata": {},
   "outputs": [],
   "source": [
    "# Ruby program to illustrate 'while' loop\n",
    "#using do as a key word\n",
    "# variable x\n",
    "x = 4\n",
    "\n",
    "# using while loop \n",
    "# here conditional is x i.e. 4\n",
    "while x >= 1 do\n",
    "\n",
    "# statements to be executed\n",
    "puts \"CSE337ISE\"\n",
    "x = x - 1\n",
    "\n",
    "# while loop ends here\n",
    "end"
   ]
  },
  {
   "cell_type": "code",
   "execution_count": null,
   "id": "1d4cc267-8a99-487e-a45d-2134a7269066",
   "metadata": {},
   "outputs": [],
   "source": [
    "# Ruby program to illustrate 'while' loop\n",
    "# using \\\n",
    "# variable x\n",
    "x = 4\n",
    "\n",
    "# using while loop \n",
    "# here conditional is x i.e. 4\n",
    "while x >= 1 \\\n",
    "\n",
    "# statements to be executed\n",
    "puts \"CSE337ISE\"\n",
    "x = x - 1\n",
    "\n",
    "# while loop ends here\n",
    "end"
   ]
  },
  {
   "cell_type": "code",
   "execution_count": null,
   "id": "6c7622f5-bea3-4968-a396-6bf1ab55f34e",
   "metadata": {},
   "outputs": [],
   "source": [
    "# Ruby program to illustrate 'while' loop\n",
    "# using \";\"\n",
    "# variable x\n",
    "x = 4\n",
    "\n",
    "# using while loop \n",
    "# here conditional is x i.e. 4\n",
    "while x >= 1;\n",
    "\n",
    "# statements to be executed\n",
    "puts \"CSE337ISE\"\n",
    "x = x - 1\n",
    "\n",
    "# while loop ends here\n",
    "end"
   ]
  },
  {
   "cell_type": "markdown",
   "id": "a1518bf4-8e32-468e-a069-7c93819f18fb",
   "metadata": {},
   "source": [
    "###### for loop"
   ]
  },
  {
   "cell_type": "code",
   "execution_count": null,
   "id": "2ec06fa4-dfcf-41cb-a988-9e8881af14ba",
   "metadata": {},
   "outputs": [],
   "source": [
    "# Ruby program to illustrate 'for' \n",
    "# loop using range as expression\n",
    "\n",
    "i = \"Sudo Placements\"\n",
    "\n",
    "# using for loop with the range\n",
    "for a in 1..5 do\n",
    "\t\n",
    "puts i\n",
    "puts a\n",
    "end\n"
   ]
  },
  {
   "cell_type": "code",
   "execution_count": 28,
   "id": "692924ad-e7b5-408b-9373-5afa736ccd70",
   "metadata": {},
   "outputs": [
    {
     "name": "stdout",
     "output_type": "stream",
     "text": [
      "CSE/ISE\n",
      "7\n"
     ]
    }
   ],
   "source": [
    "# Ruby program to illustrate 'do..while'loop\n",
    "\n",
    "# starting of do..while loop\n",
    "loop do\n",
    "\t\n",
    "puts \"CSE/ISE\"\n",
    "\n",
    "val = 7\n",
    "puts val\n",
    "# using boolean expressions\n",
    "if val == 7\n",
    "    break\n",
    "end\n",
    "\n",
    "#val=val+1    \n",
    "    \n",
    "# ending of ruby do..while loop \n",
    "end\n",
    "## Question : What is the output of this loop? How many iterations?"
   ]
  },
  {
   "cell_type": "code",
   "execution_count": 1,
   "id": "69efa85b-8a33-4dbe-b7cd-020a27ddbdf5",
   "metadata": {},
   "outputs": [
    {
     "name": "stdout",
     "output_type": "stream",
     "text": [
      "70\n",
      "80\n",
      "90\n",
      "100\n"
     ]
    }
   ],
   "source": [
    "# Ruby program to illustrate 'until' loop\n",
    "\n",
    "var = 7\n",
    "\n",
    "# using until loop\n",
    "# here do is optional\n",
    "until var == 11 do\n",
    "\n",
    "# code to be executed\n",
    "puts var * 10\n",
    "var = var + 1\n",
    "\n",
    "# here loop ends\n",
    "end\n"
   ]
  },
  {
   "cell_type": "markdown",
   "id": "361ae1ff-7ddb-4fb0-b157-c59b0348958d",
   "metadata": {},
   "source": [
    "#### Case Statement"
   ]
  },
  {
   "cell_type": "code",
   "execution_count": 4,
   "id": "271bc3e6-f046-4183-b7a7-1bbaa0918c2a",
   "metadata": {},
   "outputs": [
    {
     "name": "stdout",
     "output_type": "stream",
     "text": [
      "Input from one, two, three, four: Input is 2\n"
     ]
    }
   ],
   "source": [
    "# Ruby program to illustrate the \n",
    "# concept of case statement \n",
    "\n",
    "\n",
    "print \"Input from one, two, three, four: \"\n",
    "\n",
    "# taking input from user \n",
    "# str = gets.chomp \n",
    "\n",
    "# hardcoded input \n",
    "str = \"two\"\n",
    "\n",
    "# using case statement \n",
    "case str \n",
    "\n",
    "# using when \n",
    "when \"one\"\n",
    "puts 'Input is 1'\n",
    "\n",
    "when \"two\"\n",
    "puts 'Input is 2'\n",
    "\n",
    "when \"three\"\n",
    "puts 'Input is 3'\n",
    "\n",
    "when \"four\"\n",
    "puts 'Input is 4'\n",
    "\n",
    "else\n",
    "puts \"Default!\"\n",
    "\n",
    "end\n"
   ]
  },
  {
   "cell_type": "code",
   "execution_count": 3,
   "id": "27cbbf0a-f7f0-4aba-966a-c6d042472bfc",
   "metadata": {},
   "outputs": [
    {
     "name": "stdout",
     "output_type": "stream",
     "text": [
      "You got A grade!\n"
     ]
    }
   ],
   "source": [
    "# Ruby program to illustrate \n",
    "# case statement \n",
    "\n",
    "\n",
    "marks = 70\n",
    "\n",
    "# marks is the input \n",
    "# for case statement \n",
    "case marks \n",
    "\n",
    "# using range operators .. \n",
    "when 0..32\n",
    "puts \"You fail!\"\n",
    "\n",
    "when 33..40\n",
    "puts \"You got C grade!\"\n",
    "\n",
    "when 41..60\n",
    "puts \"You got B grade!\"\n",
    "\n",
    "else\n",
    "puts \"You got A grade!\"\n",
    "\n",
    "end\n"
   ]
  },
  {
   "cell_type": "markdown",
   "id": "7bb7fa4a-ff89-4ac6-8ba6-cc501b2a14c7",
   "metadata": {},
   "source": [
    "###### In case statement the when statement can contain multiple values and range(see above example)."
   ]
  },
  {
   "cell_type": "code",
   "execution_count": 6,
   "id": "6d1a020f-9864-4625-b738-f50f545684e7",
   "metadata": {},
   "outputs": [
    {
     "name": "stdout",
     "output_type": "stream",
     "text": [
      "You order Ristretto!\n"
     ]
    }
   ],
   "source": [
    "# Ruby program to illustrate \n",
    "# how to use multiple values \n",
    "# in when statement \n",
    "\n",
    "choice = \"5\"\n",
    "\n",
    "# using 'case' statement \n",
    "case choice \n",
    "\t\n",
    "\t# here 'when' statement contains \n",
    "\t# the two values \n",
    "\twhen \"1\",\"2\"\n",
    "\t\tputs \"You order Espresso!\"\n",
    "\t\n",
    "\twhen \"3\",\"4\"\n",
    "\t\tputs \"You order Short Macchiato!\"\n",
    "\t\n",
    "\twhen \"5\",\"6\"\n",
    "\t\tputs \"You order Ristretto!\"\n",
    "\t\n",
    "\twhen \"7\",\"8\"\n",
    "\t\tputs \"You order Cappuccino!\"\n",
    "\t\n",
    "else\n",
    "\t\"No Order!\"\n",
    "end\n"
   ]
  },
  {
   "cell_type": "markdown",
   "id": "b5fbcfab-fbbe-443e-b379-39af9eeace89",
   "metadata": {},
   "source": [
    "###### Break Statement"
   ]
  },
  {
   "cell_type": "code",
   "execution_count": 7,
   "id": "7a5b38ae-e22c-4d45-b011-dfba7a44ebc0",
   "metadata": {},
   "outputs": [
    {
     "name": "stdout",
     "output_type": "stream",
     "text": [
      "6\n",
      "12\n",
      "18\n",
      "24\n"
     ]
    }
   ],
   "source": [
    "# Ruby program to illustrate break statement \n",
    "\n",
    "i = 1\n",
    "\n",
    "# using while loop \n",
    "while true\n",
    "\n",
    "\tif i * 6 >= 30\n",
    "\t\t\n",
    "\t\t# using break statement \n",
    "\t\tbreak\n",
    "\t\t\n",
    "\t# ending of if statement\t \n",
    "\tend\n",
    "\t\n",
    "\tputs i * 6\n",
    "\ti += 1\n",
    "\t\n",
    "# ending of while loop \n",
    "end\n"
   ]
  },
  {
   "cell_type": "markdown",
   "id": "2319abaf-65bc-4e2b-9fcb-174eb3379071",
   "metadata": {},
   "source": [
    "###### next statement"
   ]
  },
  {
   "cell_type": "code",
   "execution_count": 8,
   "id": "8ef72f04-3729-42f8-b6f8-f5c351e280b8",
   "metadata": {},
   "outputs": [
    {
     "name": "stdout",
     "output_type": "stream",
     "text": [
      "0\n",
      "1\n",
      "2\n",
      "3\n",
      "4\n",
      "6\n",
      "7\n",
      "8\n",
      "9\n"
     ]
    },
    {
     "data": {
      "text/plain": [
       "0...10"
      ]
     },
     "execution_count": 8,
     "metadata": {},
     "output_type": "execute_result"
    }
   ],
   "source": [
    "# Ruby program to illustrate next statement \n",
    "\n",
    "\n",
    "# using for loop \n",
    "for t in 0...10\n",
    "\n",
    "# using if statement \n",
    "if t == 5 then\n",
    "\n",
    "\t# using next statement \n",
    "\tnext\n",
    "\n",
    "# ending of if \n",
    "end\n",
    "\n",
    "# displaying values \n",
    "puts t \n",
    "\n",
    "# end of for loop \n",
    "end\n"
   ]
  },
  {
   "cell_type": "markdown",
   "id": "7d042acc-d5c7-4d28-a901-171773507f0f",
   "metadata": {},
   "source": [
    "###### Redo statement"
   ]
  },
  {
   "cell_type": "code",
   "execution_count": 9,
   "id": "e9583d42-1e93-4b76-bda4-9aeaaf1ebf22",
   "metadata": {},
   "outputs": [
    {
     "name": "stdout",
     "output_type": "stream",
     "text": [
      "0\n",
      "1\n",
      "2\n",
      "3\n",
      "4\n"
     ]
    }
   ],
   "source": [
    "# Ruby program to demonstrate the redo statement \n",
    "\n",
    "# defining a variable \n",
    "val = 0\n",
    "\n",
    "# using while loop which should give \n",
    "# output as 0,1,2,3 but here it will \n",
    "# output as 0,1,2,3,4 \n",
    "while(val < 4) \n",
    "\n",
    "# Control returns here when \n",
    "# redo will execute \n",
    "puts val \n",
    "val += 1\n",
    "\n",
    "# using redo statement \n",
    "redo if val == 4\n",
    "\n",
    "# ending of while loop \n",
    "end\n"
   ]
  },
  {
   "cell_type": "markdown",
   "id": "43518e65-0913-4772-a592-db4957b65c13",
   "metadata": {},
   "source": [
    "###### BEGIN and END blocks"
   ]
  },
  {
   "cell_type": "code",
   "execution_count": 13,
   "id": "850ecb3b-89f1-4665-be4d-63d4df6ed74e",
   "metadata": {},
   "outputs": [
    {
     "name": "stdout",
     "output_type": "stream",
     "text": [
      "BEGIN code block\n",
      "CSE/ISE337\n"
     ]
    }
   ],
   "source": [
    "# Ruby Program of BEGIN and END Block \n",
    "\n",
    "# Ruby Program of BEGIN and END Block \n",
    "\n",
    "BEGIN { \n",
    "# BEGIN block code \n",
    "puts \"BEGIN code block\"\n",
    "} \n",
    "\n",
    "END { \n",
    "# END block code \n",
    "puts \"END code block\"\n",
    "} \n",
    "# MAIN block code \n",
    "puts \"CSE/ISE337\"\n"
   ]
  },
  {
   "cell_type": "code",
   "execution_count": 14,
   "id": "ecc46b86-3664-4e6b-badc-fb75ea54b959",
   "metadata": {},
   "outputs": [
    {
     "name": "stdout",
     "output_type": "stream",
     "text": [
      "This is BEGIN block code\n",
      "7\n",
      "Main Block\n"
     ]
    }
   ],
   "source": [
    "# Ruby Program of BEGIN and END Block \n",
    "\n",
    "# BEGIN block \n",
    "BEGIN { \n",
    "\n",
    "a = 4\n",
    "b = 3\n",
    "c = a + b \n",
    "\t\t\n",
    "# BEGIN block code \n",
    "puts \"This is BEGIN block code\"\n",
    "puts c \n",
    "\n",
    "} \n",
    "\t\n",
    "# END block \n",
    "END { \n",
    "\n",
    "a = 4\n",
    "b = 3\n",
    "c = a * b \n",
    "\t\t\n",
    "# END block code \n",
    "puts \"This is END block code\"\n",
    "puts c \n",
    "} \n",
    "\t\n",
    "# Code will execute before END block \n",
    "puts \"Main Block\"\n"
   ]
  },
  {
   "cell_type": "markdown",
   "id": "4474c8c5-6c2c-465e-9c86-4f704d184df5",
   "metadata": {},
   "source": [
    "#### Functions/Methods in Ruby"
   ]
  },
  {
   "cell_type": "code",
   "execution_count": 15,
   "id": "25544dad-a699-463e-9c76-c6efda0c1ecb",
   "metadata": {},
   "outputs": [
    {
     "name": "stdout",
     "output_type": "stream",
     "text": [
      "Welcome to 337 portal\n"
     ]
    }
   ],
   "source": [
    "# Ruby program to illustrate the defining \n",
    "# and calling of method\n",
    "\n",
    "#!/usr/bin/ruby\n",
    "\n",
    "# Here geeks is the method name\n",
    "def cse_ise_337\n",
    "\n",
    "# statements to be displayed\n",
    "puts \"Welcome to 337 portal\"\n",
    "\n",
    "# keyword to end method\n",
    "end\n",
    "\n",
    "# calling of the method\n",
    "cse_ise_337\n"
   ]
  },
  {
   "cell_type": "markdown",
   "id": "12a6e1cf-35bb-450d-90a6-7a930b2737fb",
   "metadata": {},
   "source": [
    "###### The following example needs further discussion\n",
    "###### Variable ordering\n",
    "###### Default variable"
   ]
  },
  {
   "cell_type": "code",
   "execution_count": 17,
   "id": "b682f348-8d8f-4478-8268-cda4a375e56d",
   "metadata": {},
   "outputs": [
    {
     "name": "stdout",
     "output_type": "stream",
     "text": [
      "Alice, Hello!\n",
      "Bonjour, World!\n"
     ]
    }
   ],
   "source": [
    "def greet(name = \"World\", greeting)\n",
    "  puts \"#{greeting}, #{name}!\"\n",
    "end\n",
    "\n",
    "greet(greeting=\"Hello\", name=\"Alice\")  # Output: Hello, Alice!\n",
    "greet(\"Bonjour\")         # ArgumentError: wrong number of arguments (given 1, expected 2)\n"
   ]
  },
  {
   "cell_type": "code",
   "execution_count": 30,
   "id": "89a70ce2-54c2-4fea-91b3-07823a1629d2",
   "metadata": {},
   "outputs": [
    {
     "name": "stdout",
     "output_type": "stream",
     "text": [
      "Number of parameters is: 2\n",
      "Parameters are: 123\n",
      "Parameters are: 456\n",
      "Number of parameters is: 1\n",
      "Parameters are: HelloWorld\n"
     ]
    },
    {
     "data": {
      "text/plain": [
       "0...1"
      ]
     },
     "execution_count": 30,
     "metadata": {},
     "output_type": "execute_result"
    }
   ],
   "source": [
    "# Ruby program to illustrate the method \n",
    "# that takes variables number of arguments\n",
    "\n",
    "#!/usr/bin/ruby\n",
    "\n",
    "# defining method geeks that can \n",
    "# take any number of arguments\n",
    "def cse_ise (*var)\n",
    "\t\n",
    "# to display the total number of parameters\n",
    "puts \"Number of parameters is: #{var.length}\"\n",
    "\t\n",
    "# using for loop\n",
    "for i in 0...var.length\n",
    "\tputs \"Parameters are: #{var[i]}\"\n",
    "end\n",
    "end\n",
    "\n",
    "# calling method by passing \n",
    "# variable number of arguments\n",
    "cse_ise \"123\", \"456\"\n",
    "cse_ise \"HelloWorld\"\n"
   ]
  },
  {
   "cell_type": "code",
   "execution_count": null,
   "id": "31dc4e35-f5bf-4179-9de1-7ab459e1b83a",
   "metadata": {},
   "outputs": [],
   "source": []
  }
 ],
 "metadata": {
  "kernelspec": {
   "display_name": "Ruby 3.2.3",
   "language": "ruby",
   "name": "ruby"
  },
  "language_info": {
   "file_extension": ".rb",
   "mimetype": "application/x-ruby",
   "name": "ruby",
   "version": "3.2.3"
  }
 },
 "nbformat": 4,
 "nbformat_minor": 5
}
